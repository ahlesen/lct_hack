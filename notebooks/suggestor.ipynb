{
 "cells": [
  {
   "cell_type": "code",
   "execution_count": 6,
   "metadata": {},
   "outputs": [],
   "source": [
    "import pandas as pd\n",
    "import sys\n",
    "from typing import Any\n",
    "import os\n",
    "sys.path.append(\"../\")\n",
    "# sys.path.append(\"../src/\")\n",
    "\n",
    "from src.index import create_index, index_jsonl\n",
    "from src.elastic.elastic_api import ElasticIndex\n",
    "from src.utils import create_suggests_jsonl"
   ]
  },
  {
   "cell_type": "code",
   "execution_count": 2,
   "metadata": {},
   "outputs": [],
   "source": [
    "suggest_elastic_client = ElasticIndex(index_name=\"suggest\", \n",
    "                              elastic_host_port=\"8201\", # Убедись что используешь правильный порт\n",
    "                              elastic_password=\"F4ky9EiA-VfSjy6ygY6B\",\n",
    "                              elastic_ca_certs_path=\"../src/elastic/certs/http_ca.crt\")"
   ]
  },
  {
   "cell_type": "code",
   "execution_count": 3,
   "metadata": {},
   "outputs": [],
   "source": [
    "create_suggests_jsonl(path_to_pq=\"../data/yappy_hackaton_2024_40k_postprocessed.pq\")"
   ]
  },
  {
   "cell_type": "code",
   "execution_count": 4,
   "metadata": {},
   "outputs": [
    {
     "name": "stderr",
     "output_type": "stream",
     "text": [
      "\u001b[32m2024-06-14 12:35:32.250\u001b[0m | \u001b[1mINFO    \u001b[0m | \u001b[36msrc.elastic.elastic_api\u001b[0m:\u001b[36mcreate_index\u001b[0m:\u001b[36m68\u001b[0m - \u001b[1mIndex with name 'suggest' is created.\u001b[0m\n",
      "\u001b[32m2024-06-14 12:35:32.340\u001b[0m | \u001b[1mINFO    \u001b[0m | \u001b[36msrc.elastic.elastic_api\u001b[0m:\u001b[36mbulk_documents\u001b[0m:\u001b[36m170\u001b[0m - \u001b[1mIndexing documents... Overall documents: 50644\u001b[0m\n",
      "100%|████████████████████████████████████████████████████████████████████████████████████████████████████████████████████████████████████████████▌| 50501/50644 [00:05<00:00, 12108.04docs/s]\u001b[32m2024-06-14 12:35:38.155\u001b[0m | \u001b[1mINFO    \u001b[0m | \u001b[36msrc.elastic.elastic_api\u001b[0m:\u001b[36mbulk_documents\u001b[0m:\u001b[36m186\u001b[0m - \u001b[1mIndexed 50644/50644 documents\u001b[0m\n",
      "100%|██████████████████████████████████████████████████████████████████████████████████████████████████████████████████████████████████████████████| 50644/50644 [00:05<00:00, 8700.84docs/s]\n",
      "\u001b[32m2024-06-14 12:35:38.217\u001b[0m | \u001b[1mINFO    \u001b[0m | \u001b[36msrc.elastic.elastic_api\u001b[0m:\u001b[36mcount_documents_in_index\u001b[0m:\u001b[36m101\u001b[0m - \u001b[1mCount of documents: 50644\u001b[0m\n"
     ]
    }
   ],
   "source": [
    "create_index(\n",
    "        path_to_index_json=\"../src/elastic/settings/suggest_index.json\",\n",
    "        elastic_client=suggest_elastic_client,\n",
    "    )\n",
    "\n",
    "index_jsonl(path_to_jsonl=\"../data/suggests.jsonl\", elastic_client=suggest_elastic_client)"
   ]
  },
  {
   "cell_type": "code",
   "execution_count": null,
   "metadata": {},
   "outputs": [],
   "source": []
  },
  {
   "cell_type": "code",
   "execution_count": 62,
   "metadata": {},
   "outputs": [],
   "source": [
    "def search_suggests(user_query: str, elastic_client: Any):\n",
    "    \"\"\"Выполнить поиск саджестов в ElasticSearch.\n",
    "\n",
    "    :param user_query: Пользовательский запрос для подбора саджестов.\n",
    "    :type user_query: str\n",
    "    :param elastic_client: Клиент для взаимодействия с ElasticSearch.\n",
    "    :type elastic_client: Any\n",
    "    :return: Словарь с одним полем саджестов.\n",
    "    :rtype: dict\n",
    "    \"\"\"\n",
    "    body = {\n",
    "            \"_source\": \"false\",\n",
    "            \"size\":5,\n",
    "            \"suggest\":{\n",
    "               \"suggest-bucket\":{\n",
    "                  \"text\": user_query,\n",
    "                  \"completion\":{\n",
    "                     \"field\":\"suggest\",\n",
    "                     \"size\":5,\n",
    "                     \"skip_duplicates\":\"true\"\n",
    "                  }\n",
    "               }\n",
    "            }\n",
    "        }\n",
    "\n",
    "    try:\n",
    "        response = elastic_client.local_client.search(index=elastic_client.index_name, body=body)[\"suggest\"][\"suggest-bucket\"][0][\"options\"]\n",
    "        completions = [doc[\"text\"] for doc in response]\n",
    "        res = {\"suggests\": completions}\n",
    "    except Exception as e:\n",
    "        # more smart exception can be here\n",
    "        raise e\n",
    "\n",
    "    return res # res"
   ]
  },
  {
   "cell_type": "code",
   "execution_count": 82,
   "metadata": {},
   "outputs": [],
   "source": [
    "res = search_suggests(\"robl\", suggest_elastic_client)"
   ]
  },
  {
   "cell_type": "code",
   "execution_count": 83,
   "metadata": {},
   "outputs": [
    {
     "data": {
      "text/plain": [
       "{'suggests': ['roblox', 'robloxalan', 'robloxcore', 'robloxdead', 'robloxdj']}"
      ]
     },
     "execution_count": 83,
     "metadata": {},
     "output_type": "execute_result"
    }
   ],
   "source": [
    "res"
   ]
  },
  {
   "cell_type": "code",
   "execution_count": null,
   "metadata": {},
   "outputs": [],
   "source": []
  }
 ],
 "metadata": {
  "kernelspec": {
   "display_name": "Python 3 (ipykernel)",
   "language": "python",
   "name": "python3"
  },
  "language_info": {
   "codemirror_mode": {
    "name": "ipython",
    "version": 3
   },
   "file_extension": ".py",
   "mimetype": "text/x-python",
   "name": "python",
   "nbconvert_exporter": "python",
   "pygments_lexer": "ipython3",
   "version": "3.9.19"
  }
 },
 "nbformat": 4,
 "nbformat_minor": 4
}
