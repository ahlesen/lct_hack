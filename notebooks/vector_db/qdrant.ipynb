{
 "cells": [
  {
   "cell_type": "code",
   "execution_count": 15,
   "metadata": {},
   "outputs": [],
   "source": [
    "from typing import List\n",
    "import numpy as np\n",
    "from faker import Faker\n",
    "from qdrant_client import QdrantClient\n",
    "from qdrant_client.http import models\n",
    "from qdrant_client.http.models import Distance, VectorParams\n",
    "from qdrant_client.http.models import PointStruct\n",
    "from qdrant_client.http.models import Filter, FieldCondition, MatchValue\n",
    "from qdrant_client.http.models import CollectionStatus\n",
    "# docker run -p 6333:6333 -p 6334:6334 -v $(pwd)/qdrant_storage:/qdrant/storage:z dreg.sbmt.io/dhub/qdrant/qdrant\n",
    "\n",
    "def create_embedding():\n",
    "    return np.random.uniform(low=-1.0, high=1.0, size=100).tolist()"
   ]
  },
  {
   "cell_type": "code",
   "execution_count": 16,
   "metadata": {},
   "outputs": [],
   "source": [
    "class QCollection:\n",
    "    def __init__(self, \n",
    "                 collection_name: str,\n",
    "                 url: str = \"localhost\", \n",
    "                 port: int = 6333):\n",
    "        self.client = QdrantClient(url=url, port=port)\n",
    "        self.collection_name = collection_name\n",
    "        \n",
    "    def get_collection_info(self):\n",
    "        response = self.client.get_collection(collection_name=self.collection_name)\n",
    "#         assert response.status == CollectionStatus.GREEN\n",
    "#         assert response.vectors_count == 0\n",
    "        return response\n",
    "    \n",
    "    def create_collection(self, emb_dim: int = 100):\n",
    "        self.client.create_collection(\n",
    "            collection_name=self.collection_name,\n",
    "            vectors_config=VectorParams(size=emb_dim, distance=Distance.COSINE, on_disk=False),\n",
    "        )\n",
    "    \n",
    "    def delete_collection(self):\n",
    "        self.client.delete_collection(collection_name=self.collection_name)\n",
    "        \n",
    "    def payload_index_store_id(self):\n",
    "        self.client.create_payload_index(\n",
    "            collection_name=self.collection_name,\n",
    "            field_name=\"store_id\",\n",
    "            field_schema=\"integer\",\n",
    "        )"
   ]
  },
  {
   "cell_type": "code",
   "execution_count": 17,
   "metadata": {},
   "outputs": [],
   "source": [
    "class QDocument:\n",
    "    def __init__(self, \n",
    "                 collection_name: str,\n",
    "                 url: str = \"localhost\", \n",
    "                 port: int = 6333,):\n",
    "        self.client = QdrantClient(url=url, port=port)\n",
    "        self.collection_name = collection_name\n",
    "        \n",
    "    def add_document(self, doc_id: int, embedding: List[float], metadata: dict):\n",
    "        # points with the same id will be overwritten when re-uploaded.\n",
    "        self.client.upsert(\n",
    "            collection_name=self.collection_name,\n",
    "            points=[\n",
    "                models.PointStruct(\n",
    "                    id=doc_id,\n",
    "                    payload=metadata,\n",
    "                    vector=embedding,\n",
    "                ),\n",
    "            ],\n",
    "        )\n",
    "    \n",
    "    def add_documents(self, doc_ids: List[int], embeddings: List[List[float]], metadata: List[dict]):\n",
    "        self.client.upsert(\n",
    "            collection_name=self.collection_name,\n",
    "            points=models.Batch(\n",
    "                ids=doc_ids,\n",
    "                payloads=metadata,\n",
    "                vectors=embeddings,\n",
    "            ),\n",
    "        )\n",
    "    \n",
    "    def delete_documents(self, doc_ids: List[int]):\n",
    "        self.client.delete(\n",
    "            collection_name=self.collection_name,\n",
    "            points_selector=models.PointIdsList(\n",
    "                points=doc_ids,\n",
    "            ),\n",
    "        )\n",
    "        \n",
    "    def retrieve_documents(self, doc_ids: List[int]) -> dict:\n",
    "        response = self.client.retrieve(\n",
    "            collection_name=self.collection_name,\n",
    "            ids=doc_ids,\n",
    "            with_payload=True,\n",
    "            with_vectors=True,\n",
    "        )\n",
    "        return response\n",
    "    \n",
    "    def count_documents(self, store_id: int) -> dict:\n",
    "        response = self.client.count(\n",
    "            collection_name=self.collection_name,\n",
    "            count_filter=models.Filter(\n",
    "                must=[\n",
    "                    models.FieldCondition(key=\"store_id\", match=models.MatchValue(value=store_id)),\n",
    "                ]\n",
    "            ),\n",
    "            exact=True,\n",
    "        )\n",
    "        return response\n",
    "    \n",
    "    def search(self, embedding: List[float], store_id: int) -> dict:\n",
    "        response = self.client.search(\n",
    "            collection_name=self.collection_name,\n",
    "            query_filter=models.Filter(\n",
    "                must=[\n",
    "                    models.FieldCondition(\n",
    "                        key=\"store_id\",\n",
    "                        match=models.MatchValue(\n",
    "                            value=int(store_id),\n",
    "                        ),\n",
    "                    )\n",
    "                ]\n",
    "            ),\n",
    "            search_params=models.SearchParams(hnsw_ef=128, exact=False),\n",
    "            query_vector=embedding,\n",
    "            limit=24,\n",
    "            with_vectors=False,\n",
    "            with_payload=True,\n",
    "#             score_threshold=100,  # [0;1] cos\n",
    "        )\n",
    "        return response\n",
    "    \n",
    "    def batch_search(self):\n",
    "        ...\n",
    "        # https://qdrant.tech/documentation/concepts/search/#batch-search-api"
   ]
  },
  {
   "cell_type": "code",
   "execution_count": 27,
   "metadata": {},
   "outputs": [],
   "source": [
    "q_collection = QCollection(collection_name=\"temp\")\n",
    "q_document = QDocument(collection_name=\"temp\")"
   ]
  },
  {
   "cell_type": "code",
   "execution_count": 30,
   "metadata": {},
   "outputs": [],
   "source": [
    "q_collection.delete_collection()\n",
    "q_collection.create_collection()\n",
    "# q_collection.payload_index_store_id()"
   ]
  },
  {
   "cell_type": "code",
   "execution_count": 31,
   "metadata": {},
   "outputs": [
    {
     "name": "stdout",
     "output_type": "stream",
     "text": [
      "('status', <CollectionStatus.GREEN: 'green'>)\n",
      " ('optimizer_status', <OptimizersStatusOneOf.OK: 'ok'>)\n",
      " ('vectors_count', 0)\n",
      " ('indexed_vectors_count', 0)\n",
      " ('points_count', 0)\n",
      " ('segments_count', 8)\n",
      " ('config', CollectionConfig(params=CollectionParams(vectors=VectorParams(size=100, distance=<Distance.COSINE: 'Cosine'>, hnsw_config=None, quantization_config=None, on_disk=False), shard_number=1, sharding_method=None, replication_factor=1, write_consistency_factor=1, read_fan_out_factor=None, on_disk_payload=True, sparse_vectors=None), hnsw_config=HnswConfig(m=16, ef_construct=100, full_scan_threshold=10000, max_indexing_threads=0, on_disk=False, payload_m=None), optimizer_config=OptimizersConfig(deleted_threshold=0.2, vacuum_min_vector_number=1000, default_segment_number=0, max_segment_size=None, memmap_threshold=None, indexing_threshold=20000, flush_interval_sec=5, max_optimization_threads=1), wal_config=WalConfig(wal_capacity_mb=32, wal_segments_ahead=0), quantization_config=None))\n",
      " ('payload_schema', {})\n",
      "\n"
     ]
    }
   ],
   "source": [
    "print(\" \".join([str(elem) + \"\\n\" for elem in list(q_collection.get_collection_info())]))"
   ]
  },
  {
   "cell_type": "code",
   "execution_count": 32,
   "metadata": {},
   "outputs": [],
   "source": [
    "fake_something = Faker()\n",
    "\n",
    "embs = np.random.uniform(low=-1.0, high=1.0, size=(100000, 100))\n",
    "doc_ids = list(range(len(embs)))\n",
    "payloads = []\n",
    "\n",
    "for i in range(len(embs)):\n",
    "    payloads.append(\n",
    "        {\n",
    "            \"store_id\": [fake_something.random.randint(0, 100), fake_something.random.randint(0, 100), fake_something.random.randint(0, 100)],\n",
    "            \"product_name\": \" \".join(fake_something.words()),\n",
    "            \"product_sku\": i,\n",
    "        }\n",
    "    )"
   ]
  },
  {
   "cell_type": "code",
   "execution_count": 33,
   "metadata": {},
   "outputs": [
    {
     "name": "stdout",
     "output_type": "stream",
     "text": [
      "CPU times: user 4.61 s, sys: 1.14 s, total: 5.75 s\n",
      "Wall time: 10.9 s\n"
     ]
    }
   ],
   "source": [
    "%%time\n",
    "\n",
    "step = 10000\n",
    "for t in range(0, len(doc_ids), step):\n",
    "    q_document.add_documents(doc_ids=doc_ids[t:step + t], \n",
    "                             embeddings=embs[t:step + t].tolist(), \n",
    "                             metadata=payloads[t:step + t])"
   ]
  },
  {
   "cell_type": "code",
   "execution_count": 23,
   "metadata": {
    "scrolled": true
   },
   "outputs": [
    {
     "data": {
      "text/plain": [
       "Record(id=3, payload={'product_name': 'management many see', 'product_sku': 3, 'store_id': [4, 39, 65]}, vector=[-0.134738, 0.040225297, 0.078741215, 0.0863309, -0.018019238, -0.10339125, 0.04067779, 0.14605172, -0.14569859, -0.02970379, 0.08513453, 0.039153688, -0.07417077, -0.022878684, -0.13430503, 0.13652149, -0.11096707, 0.12599096, 0.013955012, -0.010172852, -0.01825531, -0.14910343, 0.14927366, -0.15058796, 0.052306868, 0.102939606, -0.044486806, -0.08466696, 0.11035151, 0.046531666, 0.18274309, -0.00039389907, 0.11285905, -0.07643148, -0.05871996, 0.09378919, 0.052145507, 0.12202354, 0.067426324, 0.07736457, 0.17570704, -0.014540996, -0.18167174, -0.052250944, -0.13133423, -0.16808923, -0.04352003, 0.17681769, 0.08209532, 0.058933992, 0.14813001, -0.14794707, -0.076527335, 0.0579725, -0.13905379, 0.121065184, 0.13233972, 0.099033594, -0.041207895, 0.029846486, 0.1282525, 0.10591958, 0.020117737, -0.033288844, 0.056621358, 0.17621106, -0.09782136, -0.1660442, -0.10529423, 0.17874928, -0.057614323, -0.06451916, 0.14784329, -0.13437209, -0.09258997, -0.011538274, -0.08709883, -0.123492196, 0.14445798, 0.04488856, 0.006734916, 0.019424934, -0.025035016, 0.0777483, 0.04350976, -0.097375825, -0.019245787, -0.12514763, 0.09915005, 0.04248647, 0.0983157, 0.10302967, 0.029556012, 0.042287856, -0.106384814, -0.0672904, 0.054785386, 0.0060747806, 0.10849214, 0.12639171], shard_key=None)"
      ]
     },
     "execution_count": 23,
     "metadata": {},
     "output_type": "execute_result"
    }
   ],
   "source": [
    "q_document.retrieve_documents(doc_ids=[1,2,3])[0]"
   ]
  },
  {
   "cell_type": "code",
   "execution_count": 38,
   "metadata": {},
   "outputs": [],
   "source": [
    "q_collection.payload_index_store_id()"
   ]
  },
  {
   "cell_type": "code",
   "execution_count": 25,
   "metadata": {},
   "outputs": [],
   "source": [
    "query_embedding = create_embedding()"
   ]
  },
  {
   "cell_type": "code",
   "execution_count": 41,
   "metadata": {
    "scrolled": true
   },
   "outputs": [
    {
     "name": "stdout",
     "output_type": "stream",
     "text": [
      "CPU times: user 1.86 ms, sys: 4.33 ms, total: 6.19 ms\n",
      "Wall time: 17.5 ms\n"
     ]
    },
    {
     "data": {
      "text/plain": [
       "[ScoredPoint(id=1992, version=0, score=0.4075537, payload={'product_name': 'day stuff create', 'product_sku': 1992, 'store_id': [10, 2, 25]}, vector=None, shard_key=None),\n",
       " ScoredPoint(id=57303, version=5, score=0.33620995, payload={'product_name': 'without lot produce', 'product_sku': 57303, 'store_id': [10, 19, 99]}, vector=None, shard_key=None),\n",
       " ScoredPoint(id=39133, version=3, score=0.3061222, payload={'product_name': 'them report dinner', 'product_sku': 39133, 'store_id': [69, 10, 10]}, vector=None, shard_key=None),\n",
       " ScoredPoint(id=83610, version=8, score=0.30291712, payload={'product_name': 'part list argue', 'product_sku': 83610, 'store_id': [30, 10, 74]}, vector=None, shard_key=None),\n",
       " ScoredPoint(id=72308, version=7, score=0.29928777, payload={'product_name': 'agreement perform field', 'product_sku': 72308, 'store_id': [10, 96, 2]}, vector=None, shard_key=None),\n",
       " ScoredPoint(id=51038, version=5, score=0.27924663, payload={'product_name': 'reason reason final', 'product_sku': 51038, 'store_id': [75, 10, 23]}, vector=None, shard_key=None),\n",
       " ScoredPoint(id=65367, version=6, score=0.27635264, payload={'product_name': 'prove marriage make', 'product_sku': 65367, 'store_id': [10, 22, 31]}, vector=None, shard_key=None),\n",
       " ScoredPoint(id=49318, version=4, score=0.27010518, payload={'product_name': 'need stuff opportunity', 'product_sku': 49318, 'store_id': [10, 10, 38]}, vector=None, shard_key=None),\n",
       " ScoredPoint(id=64609, version=6, score=0.2692031, payload={'product_name': 'hit ground across', 'product_sku': 64609, 'store_id': [96, 33, 10]}, vector=None, shard_key=None),\n",
       " ScoredPoint(id=86554, version=8, score=0.2685666, payload={'product_name': 'item argue market', 'product_sku': 86554, 'store_id': [4, 10, 44]}, vector=None, shard_key=None),\n",
       " ScoredPoint(id=93207, version=9, score=0.26567402, payload={'product_name': 'respond again machine', 'product_sku': 93207, 'store_id': [35, 10, 98]}, vector=None, shard_key=None),\n",
       " ScoredPoint(id=3360, version=0, score=0.25847837, payload={'product_name': 'future race identify', 'product_sku': 3360, 'store_id': [10, 72, 71]}, vector=None, shard_key=None),\n",
       " ScoredPoint(id=21060, version=2, score=0.258336, payload={'product_name': 'control radio authority', 'product_sku': 21060, 'store_id': [10, 29, 37]}, vector=None, shard_key=None),\n",
       " ScoredPoint(id=28073, version=2, score=0.2571247, payload={'product_name': 'marriage performance goal', 'product_sku': 28073, 'store_id': [10, 65, 82]}, vector=None, shard_key=None),\n",
       " ScoredPoint(id=25042, version=2, score=0.2568251, payload={'product_name': 'camera visit investment', 'product_sku': 25042, 'store_id': [80, 10, 4]}, vector=None, shard_key=None),\n",
       " ScoredPoint(id=92423, version=9, score=0.25556514, payload={'product_name': 'prepare yeah few', 'product_sku': 92423, 'store_id': [12, 10, 78]}, vector=None, shard_key=None),\n",
       " ScoredPoint(id=52995, version=5, score=0.25544575, payload={'product_name': 'middle few system', 'product_sku': 52995, 'store_id': [10, 64, 22]}, vector=None, shard_key=None),\n",
       " ScoredPoint(id=28523, version=2, score=0.25106752, payload={'product_name': 'face occur in', 'product_sku': 28523, 'store_id': [10, 83, 12]}, vector=None, shard_key=None),\n",
       " ScoredPoint(id=79903, version=7, score=0.24975583, payload={'product_name': 'although action trouble', 'product_sku': 79903, 'store_id': [88, 10, 29]}, vector=None, shard_key=None),\n",
       " ScoredPoint(id=18610, version=1, score=0.24951962, payload={'product_name': 'character prevent however', 'product_sku': 18610, 'store_id': [93, 10, 65]}, vector=None, shard_key=None),\n",
       " ScoredPoint(id=1821, version=0, score=0.24269016, payload={'product_name': 'indicate economy discussion', 'product_sku': 1821, 'store_id': [10, 83, 90]}, vector=None, shard_key=None),\n",
       " ScoredPoint(id=75885, version=7, score=0.23874848, payload={'product_name': 'hair foreign identify', 'product_sku': 75885, 'store_id': [10, 10, 4]}, vector=None, shard_key=None),\n",
       " ScoredPoint(id=38614, version=3, score=0.23848374, payload={'product_name': 'say produce tend', 'product_sku': 38614, 'store_id': [75, 73, 10]}, vector=None, shard_key=None),\n",
       " ScoredPoint(id=61271, version=6, score=0.23804878, payload={'product_name': 'environmental maintain them', 'product_sku': 61271, 'store_id': [60, 10, 27]}, vector=None, shard_key=None)]"
      ]
     },
     "execution_count": 41,
     "metadata": {},
     "output_type": "execute_result"
    }
   ],
   "source": [
    "%%time\n",
    "q_document.search(embedding=query_embedding, store_id=10)"
   ]
  },
  {
   "cell_type": "code",
   "execution_count": 175,
   "metadata": {},
   "outputs": [
    {
     "data": {
      "text/plain": [
       "(24.285714285714285, 63.75)"
      ]
     },
     "execution_count": 175,
     "metadata": {},
     "output_type": "execute_result"
    }
   ],
   "source": [
    "510 / 21, 510 / 8"
   ]
  },
  {
   "cell_type": "code",
   "execution_count": 165,
   "metadata": {},
   "outputs": [
    {
     "data": {
      "text/plain": [
       "CountResult(count=9634)"
      ]
     },
     "execution_count": 165,
     "metadata": {},
     "output_type": "execute_result"
    }
   ],
   "source": [
    "q_document.count_documents(19)"
   ]
  },
  {
   "cell_type": "code",
   "execution_count": 167,
   "metadata": {},
   "outputs": [
    {
     "data": {
      "text/plain": [
       "CountResult(count=1000000)"
      ]
     },
     "execution_count": 167,
     "metadata": {},
     "output_type": "execute_result"
    }
   ],
   "source": [
    "q_document.client.count(\n",
    "            collection_name=q_document.collection_name,\n",
    "            exact=True,\n",
    "        )"
   ]
  },
  {
   "cell_type": "code",
   "execution_count": null,
   "metadata": {},
   "outputs": [],
   "source": []
  }
 ],
 "metadata": {
  "kernelspec": {
   "display_name": "Python 3 (ipykernel)",
   "language": "python",
   "name": "python3"
  },
  "language_info": {
   "codemirror_mode": {
    "name": "ipython",
    "version": 3
   },
   "file_extension": ".py",
   "mimetype": "text/x-python",
   "name": "python",
   "nbconvert_exporter": "python",
   "pygments_lexer": "ipython3",
   "version": "3.9.17"
  }
 },
 "nbformat": 4,
 "nbformat_minor": 1
}
