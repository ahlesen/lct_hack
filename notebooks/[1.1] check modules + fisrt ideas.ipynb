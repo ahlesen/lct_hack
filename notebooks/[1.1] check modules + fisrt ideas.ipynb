{
 "cells": [
  {
   "cell_type": "code",
   "execution_count": 1,
   "id": "986fe9b1-a8b3-4990-b699-6a3277cbf407",
   "metadata": {},
   "outputs": [],
   "source": [
    "%load_ext autoreload\n",
    "%autoreload 2"
   ]
  },
  {
   "cell_type": "code",
   "execution_count": 2,
   "id": "1ea61ff0-620e-4105-b4ac-e8d417a0454f",
   "metadata": {
    "id": "1ea61ff0-620e-4105-b4ac-e8d417a0454f"
   },
   "outputs": [],
   "source": [
    "import os\n",
    "import pandas as pd\n",
    "import requests\n",
    "from tqdm import tqdm_notebook\n",
    "import glob"
   ]
  },
  {
   "cell_type": "code",
   "execution_count": 3,
   "id": "2ed47bce-65e1-47cf-b2a7-7022781e900d",
   "metadata": {
    "colab": {
     "base_uri": "https://localhost:8080/"
    },
    "id": "2ed47bce-65e1-47cf-b2a7-7022781e900d",
    "outputId": "dc9b78c2-9677-409f-fa3f-0efcb4cb90bb"
   },
   "outputs": [
    {
     "data": {
      "text/plain": [
       "['.DS_Store',\n",
       " 'requirements.txt',\n",
       " 'synonyms',\n",
       " 'yappy_search',\n",
       " '.gitignore',\n",
       " '.git',\n",
       " 'notebooks']"
      ]
     },
     "execution_count": 3,
     "metadata": {},
     "output_type": "execute_result"
    }
   ],
   "source": [
    "os.listdir('../')"
   ]
  },
  {
   "cell_type": "code",
   "execution_count": 4,
   "id": "b6855342-2441-4302-b1d4-a7867647230a",
   "metadata": {
    "id": "b6855342-2441-4302-b1d4-a7867647230a"
   },
   "outputs": [],
   "source": [
    "# Считываем данные из таблицы (CSV или Excel, в зависимости от формата)\n",
    "file_path = '../../yappy_hackaton_2024_400k.csv'  # укажите правильный путь к файлу\n",
    "df = pd.read_csv(file_path)  # если у вас Excel, используйте pd.read_excel(file_path)"
   ]
  },
  {
   "cell_type": "code",
   "execution_count": 5,
   "id": "7e548c19-e22c-4c69-9d7f-0b5d17ccd15f",
   "metadata": {
    "colab": {
     "base_uri": "https://localhost:8080/",
     "height": 424
    },
    "id": "7e548c19-e22c-4c69-9d7f-0b5d17ccd15f",
    "outputId": "fd6f0b62-ea30-40f9-c2a6-053cae19e618"
   },
   "outputs": [
    {
     "data": {
      "text/html": [
       "<div>\n",
       "<style scoped>\n",
       "    .dataframe tbody tr th:only-of-type {\n",
       "        vertical-align: middle;\n",
       "    }\n",
       "\n",
       "    .dataframe tbody tr th {\n",
       "        vertical-align: top;\n",
       "    }\n",
       "\n",
       "    .dataframe thead th {\n",
       "        text-align: right;\n",
       "    }\n",
       "</style>\n",
       "<table border=\"1\" class=\"dataframe\">\n",
       "  <thead>\n",
       "    <tr style=\"text-align: right;\">\n",
       "      <th></th>\n",
       "      <th>link</th>\n",
       "      <th>description</th>\n",
       "    </tr>\n",
       "  </thead>\n",
       "  <tbody>\n",
       "    <tr>\n",
       "      <th>0</th>\n",
       "      <td>https://cdn-st.rutubelist.ru/media/b0/e9/ef285...</td>\n",
       "      <td>#нарезкистримов , #dota2 , #cs2 , #fifa23 , #m...</td>\n",
       "    </tr>\n",
       "    <tr>\n",
       "      <th>1</th>\n",
       "      <td>https://cdn-st.rutubelist.ru/media/39/6c/b31bc...</td>\n",
       "      <td>🤫НЕ ВВОДИ ЭТУ КОМАНДУ В РОБЛОКС ! #shorts #rob...</td>\n",
       "    </tr>\n",
       "    <tr>\n",
       "      <th>2</th>\n",
       "      <td>https://cdn-st.rutubelist.ru/media/e9/e0/b47a9...</td>\n",
       "      <td>#boobs , #красивыедевушки , #ass</td>\n",
       "    </tr>\n",
       "    <tr>\n",
       "      <th>3</th>\n",
       "      <td>https://cdn-st.rutubelist.ru/media/87/43/b11df...</td>\n",
       "      <td>NaN</td>\n",
       "    </tr>\n",
       "    <tr>\n",
       "      <th>4</th>\n",
       "      <td>https://cdn-st.rutubelist.ru/media/d1/e7/642dc...</td>\n",
       "      <td>NaN</td>\n",
       "    </tr>\n",
       "    <tr>\n",
       "      <th>...</th>\n",
       "      <td>...</td>\n",
       "      <td>...</td>\n",
       "    </tr>\n",
       "    <tr>\n",
       "      <th>399995</th>\n",
       "      <td>https://cdn-st.rutubelist.ru/media/dd/6a/ac296...</td>\n",
       "      <td>#ceramics #handmade #ceramic #clay #ceramicscu...</td>\n",
       "    </tr>\n",
       "    <tr>\n",
       "      <th>399996</th>\n",
       "      <td>https://cdn-st.rutubelist.ru/media/aa/d3/4b4c3...</td>\n",
       "      <td>#красивыедевушки #красотки #грудь #boobs #секс...</td>\n",
       "    </tr>\n",
       "    <tr>\n",
       "      <th>399997</th>\n",
       "      <td>https://cdn-st.rutubelist.ru/media/73/05/3f80f...</td>\n",
       "      <td>#лайфхаки , #эксперименты , #roblox , #игрушки...</td>\n",
       "    </tr>\n",
       "    <tr>\n",
       "      <th>399998</th>\n",
       "      <td>https://cdn-st.rutubelist.ru/media/f8/2b/320f7...</td>\n",
       "      <td>#образ #lookbook #показ #неделямоды #капсула #...</td>\n",
       "    </tr>\n",
       "    <tr>\n",
       "      <th>399999</th>\n",
       "      <td>https://cdn-st.rutubelist.ru/media/19/1b/5711a...</td>\n",
       "      <td>#образ #lookbook #показ #неделямоды #капсула #...</td>\n",
       "    </tr>\n",
       "  </tbody>\n",
       "</table>\n",
       "<p>400000 rows × 2 columns</p>\n",
       "</div>"
      ],
      "text/plain": [
       "                                                     link  \\\n",
       "0       https://cdn-st.rutubelist.ru/media/b0/e9/ef285...   \n",
       "1       https://cdn-st.rutubelist.ru/media/39/6c/b31bc...   \n",
       "2       https://cdn-st.rutubelist.ru/media/e9/e0/b47a9...   \n",
       "3       https://cdn-st.rutubelist.ru/media/87/43/b11df...   \n",
       "4       https://cdn-st.rutubelist.ru/media/d1/e7/642dc...   \n",
       "...                                                   ...   \n",
       "399995  https://cdn-st.rutubelist.ru/media/dd/6a/ac296...   \n",
       "399996  https://cdn-st.rutubelist.ru/media/aa/d3/4b4c3...   \n",
       "399997  https://cdn-st.rutubelist.ru/media/73/05/3f80f...   \n",
       "399998  https://cdn-st.rutubelist.ru/media/f8/2b/320f7...   \n",
       "399999  https://cdn-st.rutubelist.ru/media/19/1b/5711a...   \n",
       "\n",
       "                                              description  \n",
       "0       #нарезкистримов , #dota2 , #cs2 , #fifa23 , #m...  \n",
       "1       🤫НЕ ВВОДИ ЭТУ КОМАНДУ В РОБЛОКС ! #shorts #rob...  \n",
       "2                        #boobs , #красивыедевушки , #ass  \n",
       "3                                                     NaN  \n",
       "4                                                     NaN  \n",
       "...                                                   ...  \n",
       "399995  #ceramics #handmade #ceramic #clay #ceramicscu...  \n",
       "399996  #красивыедевушки #красотки #грудь #boobs #секс...  \n",
       "399997  #лайфхаки , #эксперименты , #roblox , #игрушки...  \n",
       "399998  #образ #lookbook #показ #неделямоды #капсула #...  \n",
       "399999  #образ #lookbook #показ #неделямоды #капсула #...  \n",
       "\n",
       "[400000 rows x 2 columns]"
      ]
     },
     "execution_count": 5,
     "metadata": {},
     "output_type": "execute_result"
    }
   ],
   "source": [
    "df"
   ]
  },
  {
   "cell_type": "code",
   "execution_count": 6,
   "id": "bbf26d80-7d4d-496f-b525-2fb53ade610d",
   "metadata": {},
   "outputs": [],
   "source": [
    "import sys\n",
    "\n",
    "sys.path.insert(\n",
    "    0,\n",
    "    \"/Users/andrey/Documents/hacks/Yappy/git/\",\n",
    ")"
   ]
  },
  {
   "cell_type": "code",
   "execution_count": 7,
   "id": "f32108b7-d9de-40d5-a400-3725e2980cf8",
   "metadata": {},
   "outputs": [],
   "source": [
    "from yappy_search.utils import  download_video"
   ]
  },
  {
   "cell_type": "code",
   "execution_count": 8,
   "id": "f99be9a0-be5f-4973-9211-077509144e78",
   "metadata": {
    "id": "f99be9a0-be5f-4973-9211-077509144e78"
   },
   "outputs": [],
   "source": [
    "dir_w_video:str = '../../data_video/'"
   ]
  },
  {
   "cell_type": "code",
   "execution_count": 9,
   "id": "9e9d8c91-b59d-42cc-81b5-4db3a0ad61f2",
   "metadata": {
    "id": "9e9d8c91-b59d-42cc-81b5-4db3a0ad61f2"
   },
   "outputs": [],
   "source": [
    "os.makedirs(dir_w_video,exist_ok=True)"
   ]
  },
  {
   "cell_type": "code",
   "execution_count": 10,
   "id": "cdbb2de4-b2d1-40cf-b8bf-fb4e42fa1098",
   "metadata": {
    "id": "cdbb2de4-b2d1-40cf-b8bf-fb4e42fa1098"
   },
   "outputs": [
    {
     "name": "stderr",
     "output_type": "stream",
     "text": [
      "/var/folders/yr/mmqsh_3x4z92c40wn0j7x2yw0000gp/T/ipykernel_11095/2508132707.py:2: TqdmDeprecationWarning: This function will be removed in tqdm==5.0.0\n",
      "Please use `tqdm.notebook.tqdm` instead of `tqdm.tqdm_notebook`\n",
      "  for index, row in tqdm_notebook(df.iterrows()):\n"
     ]
    },
    {
     "data": {
      "application/vnd.jupyter.widget-view+json": {
       "model_id": "1c417f5f805d407c991b47975b5a5f7e",
       "version_major": 2,
       "version_minor": 0
      },
      "text/plain": [
       "0it [00:00, ?it/s]"
      ]
     },
     "metadata": {},
     "output_type": "display_data"
    },
    {
     "name": "stdout",
     "output_type": "stream",
     "text": [
      "Downloaded 157_65_7b_2cb8f34c49afa12e45b6d2f44e28_fhd.mp4.\n",
      "All videos downloaded successfully.\n"
     ]
    }
   ],
   "source": [
    "# Скачиваем все видео из списка\n",
    "for index, row in tqdm_notebook(df.iterrows()):\n",
    "    video_url = row['link']\n",
    "    description = row['description']\n",
    "    video_name = f\"{index}{'_'.join(video_url.split('media')[1].split('/'))}\"  # можно использовать описание для имени файла\n",
    "    video_path = os.path.join(dir_w_video,video_name)\n",
    "    if os.path.isfile(video_path):\n",
    "        continue\n",
    "    response = download_video(video_url, video_path)\n",
    "    print(f\"Downloaded {video_name}.\")\n",
    "    if index > 150:\n",
    "        break\n",
    "print(\"All videos downloaded successfully.\")"
   ]
  },
  {
   "cell_type": "code",
   "execution_count": 11,
   "id": "7ef816bc-1498-4f63-916b-d91a5d41afdc",
   "metadata": {
    "id": "7ef816bc-1498-4f63-916b-d91a5d41afdc",
    "scrolled": true
   },
   "outputs": [
    {
     "data": {
      "text/plain": [
       "'157_65_7b_2cb8f34c49afa12e45b6d2f44e28_fhd.mp4'"
      ]
     },
     "execution_count": 11,
     "metadata": {},
     "output_type": "execute_result"
    }
   ],
   "source": [
    "video_name"
   ]
  },
  {
   "cell_type": "code",
   "execution_count": 12,
   "id": "d545df23-f8b1-41d5-83e0-2bd64495e63e",
   "metadata": {
    "id": "d545df23-f8b1-41d5-83e0-2bd64495e63e"
   },
   "outputs": [
    {
     "data": {
      "text/plain": [
       "{'Server': 'Angie', 'Date': 'Fri, 07 Jun 2024 18:26:56 GMT', 'Content-Type': 'video/mp4', 'Content-Length': '3131177', 'Connection': 'keep-alive', 'Accept-Ranges': 'bytes', 'Last-Modified': 'Fri, 15 Sep 2023 15:34:13 GMT', 'x-rgw-object-type': 'Normal', 'ETag': '\"9498cfd3ce9ae70da1885857dfbafd78\"', 'x-amz-request-id': 'tx00000ffd648f29b4947cd-00666350f0-3a409c50-ritm', 'Strict-Transport-Security': 'max-age=31536000; includeSubDomains; preload'}"
      ]
     },
     "execution_count": 12,
     "metadata": {},
     "output_type": "execute_result"
    }
   ],
   "source": [
    "response.headers"
   ]
  },
  {
   "cell_type": "code",
   "execution_count": 13,
   "id": "25c20e89-ee52-4548-8044-8d2281fbe203",
   "metadata": {
    "id": "25c20e89-ee52-4548-8044-8d2281fbe203"
   },
   "outputs": [
    {
     "data": {
      "text/plain": [
       "[]"
      ]
     },
     "execution_count": 13,
     "metadata": {},
     "output_type": "execute_result"
    }
   ],
   "source": [
    "response.history"
   ]
  },
  {
   "cell_type": "code",
   "execution_count": 14,
   "id": "6e536651-04d1-43f1-81f0-a5b738a44b65",
   "metadata": {
    "id": "6e536651-04d1-43f1-81f0-a5b738a44b65"
   },
   "outputs": [
    {
     "data": {
      "text/plain": [
       "24"
      ]
     },
     "execution_count": 14,
     "metadata": {},
     "output_type": "execute_result"
    }
   ],
   "source": [
    "response.__sizeof__()"
   ]
  },
  {
   "cell_type": "code",
   "execution_count": 15,
   "id": "0f222f9a-0476-4003-9edf-df918c0e6f90",
   "metadata": {
    "colab": {
     "base_uri": "https://localhost:8080/"
    },
    "id": "0f222f9a-0476-4003-9edf-df918c0e6f90",
    "outputId": "3239499b-8458-495a-e1ed-009148727d6d"
   },
   "outputs": [
    {
     "name": "stdout",
     "output_type": "stream",
     "text": [
      "../../data_video/0_b0_e9_ef285e0241139fc611318ed33071_fhd.mp4\n",
      "../../data_video/1_39_6c_b31bc6864bef9d8a96814f1822ca_fhd.mp4\n",
      "../../data_video/2_e9_e0_b47a9df14a5e97942715e5e705c0_fhd.mp4\n",
      "../../data_video/3_87_43_b11df3f344d0af773aac81e410ee_fhd.mp4\n",
      "../../data_video/4_d1_e7_642dc2194fcdb69664f832d5f2dd_fhd.mp4\n"
     ]
    }
   ],
   "source": [
    "# Получение списка всех файлов с расширением .mp4 в директории\n",
    "video_files = glob.glob(os.path.join(dir_w_video, '*.mp4'))\n",
    "# Сортировка списка файлов по первому значению при split('_')\n",
    "sorted_video_files = sorted(video_files, key=lambda x: int(os.path.basename(x).split('_')[0]))\n",
    "\n",
    "# Вывод отсортированного списка файлов\n",
    "for video_file in sorted_video_files[:5]:\n",
    "    print(video_file)"
   ]
  },
  {
   "cell_type": "code",
   "execution_count": 16,
   "id": "08778beb-595d-48a9-9e46-e275a6eab4a5",
   "metadata": {
    "id": "08778beb-595d-48a9-9e46-e275a6eab4a5"
   },
   "outputs": [
    {
     "name": "stdout",
     "output_type": "stream",
     "text": [
      "../../scrins/Снимок экрана 2024-06-03 в 20.59.20.png\n",
      "../../scrins/Снимок экрана 2024-06-03 в 20.59.35.png\n",
      "../../scrins/Снимок экрана 2024-06-03 в 20.59.46.png\n",
      "../../scrins/Снимок экрана 2024-06-03 в 20.59.53.png\n"
     ]
    }
   ],
   "source": [
    "dir_w_screens = '../../scrins/'\n",
    "# Получение списка всех файлов с расширением .mp4 в директории\n",
    "screens_files = glob.glob(os.path.join(dir_w_screens, '*.png'))\n",
    "# Сортировка списка файлов по первому значению при split('_')\n",
    "# sorted_screens_files = sorted(screens_files, key=lambda x: int(os.path.basename(x).split('_')[0]))\n",
    "\n",
    "# Вывод отсортированного списка файлов\n",
    "for screen_file in screens_files[:5]:\n",
    "    print(screen_file)"
   ]
  },
  {
   "cell_type": "markdown",
   "id": "61badb11-5624-41c3-b58d-ed7b66efcf21",
   "metadata": {},
   "source": [
    "## проверяем pipeline работы"
   ]
  },
  {
   "cell_type": "code",
   "execution_count": 17,
   "id": "c6abba4a-92c5-4765-aa1f-15cf6a3db812",
   "metadata": {},
   "outputs": [],
   "source": [
    "import torch\n",
    "import asyncio"
   ]
  },
  {
   "cell_type": "code",
   "execution_count": 18,
   "id": "e7450f26-cd01-4585-843b-ba2fcc049c6d",
   "metadata": {},
   "outputs": [],
   "source": [
    "from yappy_search.config import ConfigImageCaptioning\n",
    "from yappy_search.model import VideoProcessor"
   ]
  },
  {
   "cell_type": "code",
   "execution_count": 19,
   "id": "e2c7589e-55ad-4bdf-a25a-65b0d6d6ef31",
   "metadata": {},
   "outputs": [],
   "source": [
    "config = ConfigImageCaptioning()"
   ]
  },
  {
   "cell_type": "code",
   "execution_count": 20,
   "id": "7c87fa28-bd2b-4fd7-825e-04fcee23ae0c",
   "metadata": {},
   "outputs": [
    {
     "data": {
      "text/plain": [
       "ConfigImageCaptioning(min_length=0, max_length=100, num_beams=4, model_name_image_caption='GeorgeBredis/ruIdefics2-ruLLaVA-merged', model_name_audio_whisper='small', model_name_audio_lang='ru')"
      ]
     },
     "execution_count": 20,
     "metadata": {},
     "output_type": "execute_result"
    }
   ],
   "source": [
    "config"
   ]
  },
  {
   "cell_type": "code",
   "execution_count": 21,
   "id": "054ce08e-3e9c-4bb6-8b00-a888c236eb70",
   "metadata": {},
   "outputs": [],
   "source": [
    "device = torch.device(\"cuda:0\" if torch.cuda.is_available() else \"cpu\")"
   ]
  },
  {
   "cell_type": "code",
   "execution_count": 22,
   "id": "2d38c4a9-f005-4f40-bf41-ba69ae94b08d",
   "metadata": {},
   "outputs": [
    {
     "data": {
      "text/plain": [
       "device(type='cpu')"
      ]
     },
     "execution_count": 22,
     "metadata": {},
     "output_type": "execute_result"
    }
   ],
   "source": [
    "device"
   ]
  },
  {
   "cell_type": "code",
   "execution_count": 23,
   "id": "000664f8-d65a-4dad-8e66-a7b702465cfd",
   "metadata": {},
   "outputs": [
    {
     "name": "stderr",
     "output_type": "stream",
     "text": [
      "Special tokens have been added in the vocabulary, make sure the associated word embeddings are fine-tuned or trained.\n"
     ]
    },
    {
     "data": {
      "application/vnd.jupyter.widget-view+json": {
       "model_id": "649fa8ef6ade47c89ca52898e2004f97",
       "version_major": 2,
       "version_minor": 0
      },
      "text/plain": [
       "Loading checkpoint shards:   0%|          | 0/4 [00:00<?, ?it/s]"
      ]
     },
     "metadata": {},
     "output_type": "display_data"
    }
   ],
   "source": [
    "model_all = VideoProcessor(config,device=device)"
   ]
  },
  {
   "cell_type": "code",
   "execution_count": 24,
   "id": "aeeea0ac-a059-441f-9914-eb52d46868ee",
   "metadata": {},
   "outputs": [],
   "source": [
    "video_path = sorted_video_files[0]"
   ]
  },
  {
   "cell_type": "code",
   "execution_count": 25,
   "id": "11a345fe-deaf-4b79-aa4e-fbd344c14872",
   "metadata": {},
   "outputs": [],
   "source": [
    "audio_output_dir:str|os.PathLike = os.path.join(video_path.rsplit('/',2)[0],'data_audio')\n",
    "os.makedirs(audio_output_dir, exist_ok=True)"
   ]
  },
  {
   "cell_type": "code",
   "execution_count": 27,
   "id": "4eea4976-2b09-4a4e-a38c-60d28f94b079",
   "metadata": {
    "scrolled": true
   },
   "outputs": [
    {
     "data": {
      "application/vnd.jupyter.widget-view+json": {
       "model_id": "c00b8bb249dd4e3c8fac2b34f15cb7c5",
       "version_major": 2,
       "version_minor": 0
      },
      "text/plain": [
       "  0%|          | 0/2 [00:00<?, ?it/s]"
      ]
     },
     "metadata": {},
     "output_type": "display_data"
    },
    {
     "name": "stderr",
     "output_type": "stream",
     "text": [
      "huggingface/tokenizers: The current process just got forked, after parallelism has already been used. Disabling parallelism to avoid deadlocks...\n",
      "To disable this warning, you can either:\n",
      "\t- Avoid using `tokenizers` before the fork if possible\n",
      "\t- Explicitly set the environment variable TOKENIZERS_PARALLELISM=(true | false)\n",
      "huggingface/tokenizers: The current process just got forked, after parallelism has already been used. Disabling parallelism to avoid deadlocks...\n",
      "To disable this warning, you can either:\n",
      "\t- Avoid using `tokenizers` before the fork if possible\n",
      "\t- Explicitly set the environment variable TOKENIZERS_PARALLELISM=(true | false)\n",
      "huggingface/tokenizers: The current process just got forked, after parallelism has already been used. Disabling parallelism to avoid deadlocks...\n",
      "To disable this warning, you can either:\n",
      "\t- Avoid using `tokenizers` before the fork if possible\n",
      "\t- Explicitly set the environment variable TOKENIZERS_PARALLELISM=(true | false)\n",
      "huggingface/tokenizers: The current process just got forked, after parallelism has already been used. Disabling parallelism to avoid deadlocks...\n",
      "To disable this warning, you can either:\n",
      "\t- Avoid using `tokenizers` before the fork if possible\n",
      "\t- Explicitly set the environment variable TOKENIZERS_PARALLELISM=(true | false)\n",
      "huggingface/tokenizers: The current process just got forked, after parallelism has already been used. Disabling parallelism to avoid deadlocks...\n",
      "To disable this warning, you can either:\n",
      "\t- Avoid using `tokenizers` before the fork if possible\n",
      "\t- Explicitly set the environment variable TOKENIZERS_PARALLELISM=(true | false)\n",
      "huggingface/tokenizers: The current process just got forked, after parallelism has already been used. Disabling parallelism to avoid deadlocks...\n",
      "To disable this warning, you can either:\n",
      "\t- Avoid using `tokenizers` before the fork if possible\n",
      "\t- Explicitly set the environment variable TOKENIZERS_PARALLELISM=(true | false)\n",
      "huggingface/tokenizers: The current process just got forked, after parallelism has already been used. Disabling parallelism to avoid deadlocks...\n",
      "To disable this warning, you can either:\n",
      "\t- Avoid using `tokenizers` before the fork if possible\n",
      "\t- Explicitly set the environment variable TOKENIZERS_PARALLELISM=(true | false)\n",
      "huggingface/tokenizers: The current process just got forked, after parallelism has already been used. Disabling parallelism to avoid deadlocks...\n",
      "To disable this warning, you can either:\n",
      "\t- Avoid using `tokenizers` before the fork if possible\n",
      "\t- Explicitly set the environment variable TOKENIZERS_PARALLELISM=(true | false)\n",
      "huggingface/tokenizers: The current process just got forked, after parallelism has already been used. Disabling parallelism to avoid deadlocks...\n",
      "To disable this warning, you can either:\n",
      "\t- Avoid using `tokenizers` before the fork if possible\n",
      "\t- Explicitly set the environment variable TOKENIZERS_PARALLELISM=(true | false)\n",
      "huggingface/tokenizers: The current process just got forked, after parallelism has already been used. Disabling parallelism to avoid deadlocks...\n",
      "To disable this warning, you can either:\n",
      "\t- Avoid using `tokenizers` before the fork if possible\n",
      "\t- Explicitly set the environment variable TOKENIZERS_PARALLELISM=(true | false)\n",
      "huggingface/tokenizers: The current process just got forked, after parallelism has already been used. Disabling parallelism to avoid deadlocks...\n",
      "To disable this warning, you can either:\n",
      "\t- Avoid using `tokenizers` before the fork if possible\n",
      "\t- Explicitly set the environment variable TOKENIZERS_PARALLELISM=(true | false)\n",
      "huggingface/tokenizers: The current process just got forked, after parallelism has already been used. Disabling parallelism to avoid deadlocks...\n",
      "To disable this warning, you can either:\n",
      "\t- Avoid using `tokenizers` before the fork if possible\n",
      "\t- Explicitly set the environment variable TOKENIZERS_PARALLELISM=(true | false)\n",
      "huggingface/tokenizers: The current process just got forked, after parallelism has already been used. Disabling parallelism to avoid deadlocks...\n",
      "To disable this warning, you can either:\n",
      "\t- Avoid using `tokenizers` before the fork if possible\n",
      "\t- Explicitly set the environment variable TOKENIZERS_PARALLELISM=(true | false)\n",
      "huggingface/tokenizers: The current process just got forked, after parallelism has already been used. Disabling parallelism to avoid deadlocks...\n",
      "To disable this warning, you can either:\n",
      "\t- Avoid using `tokenizers` before the fork if possible\n",
      "\t- Explicitly set the environment variable TOKENIZERS_PARALLELISM=(true | false)\n",
      "huggingface/tokenizers: The current process just got forked, after parallelism has already been used. Disabling parallelism to avoid deadlocks...\n",
      "To disable this warning, you can either:\n",
      "\t- Avoid using `tokenizers` before the fork if possible\n",
      "\t- Explicitly set the environment variable TOKENIZERS_PARALLELISM=(true | false)\n",
      "huggingface/tokenizers: The current process just got forked, after parallelism has already been used. Disabling parallelism to avoid deadlocks...\n",
      "To disable this warning, you can either:\n",
      "\t- Avoid using `tokenizers` before the fork if possible\n",
      "\t- Explicitly set the environment variable TOKENIZERS_PARALLELISM=(true | false)\n"
     ]
    }
   ],
   "source": [
    "transcriptions = []\n",
    "recognitions = []\n",
    "for video_path in tqdm_notebook(sorted_video_files[:2]):\n",
    "    audio_path = model_all.audio_transcription.extract_audio(video_path, audio_output_dir)\n",
    "    transcription = model_all.audio_transcription.transcribe(audio_path)\n",
    "    \n",
    "    loop = asyncio.get_event_loop()\n",
    "    recognition = loop.run_until_complete(model_all.song_recognition.recognize_audio(audio_path))\n",
    "\n",
    "    transcriptions.append(transcription)\n",
    "    recognitions.append(recognition)"
   ]
  },
  {
   "cell_type": "code",
   "execution_count": 28,
   "id": "8a7517c5-540a-4a7e-ac19-3e0b9d113fde",
   "metadata": {},
   "outputs": [
    {
     "data": {
      "text/plain": [
       "\" Сейчас я тебе покажу секретную команду в Roblox'е! Чтобы её активировать поставь лайк и подпишись, а также в виде в чат команду I love you! Когда вы её ведёте у вас на экране появится вот такой клоун! Скривц был создан одним из создателей Roblox'а и работает только в эракде есть Roblox Developer Service. Чтобы в Раскриме ранжа всего-то выйти из игры, но лучше не проверяй!\""
      ]
     },
     "execution_count": 28,
     "metadata": {},
     "output_type": "execute_result"
    }
   ],
   "source": [
    "transcription"
   ]
  },
  {
   "cell_type": "code",
   "execution_count": 29,
   "id": "14431be3-e717-4fd2-8a58-2fc375095182",
   "metadata": {},
   "outputs": [
    {
     "data": {
      "text/plain": [
       "'Song not recognized'"
      ]
     },
     "execution_count": 29,
     "metadata": {},
     "output_type": "execute_result"
    }
   ],
   "source": [
    "recognition"
   ]
  },
  {
   "cell_type": "code",
   "execution_count": null,
   "id": "f9524917-5b5d-43f2-b3e8-21941df51762",
   "metadata": {
    "scrolled": true
   },
   "outputs": [],
   "source": [
    "%%time\n",
    "captions = model_all.image_captioning.generate_caption(video_path)"
   ]
  },
  {
   "cell_type": "code",
   "execution_count": null,
   "id": "b0bc3baa-7fdc-4a07-94b0-faa37385a339",
   "metadata": {},
   "outputs": [],
   "source": [
    "captions"
   ]
  },
  {
   "cell_type": "code",
   "execution_count": null,
   "id": "77c65177-fca3-42e3-beb0-b25f54395b81",
   "metadata": {},
   "outputs": [],
   "source": [
    "1+1"
   ]
  },
  {
   "cell_type": "code",
   "execution_count": null,
   "id": "a7a05c96-e8f8-4463-8147-b62def92e25f",
   "metadata": {},
   "outputs": [],
   "source": [
    "for index in range(len(transcriptions)):\n",
    "    row = df.iloc[index]\n",
    "    print(index)\n",
    "    print(f'link:{row.link}')\n",
    "    print(f'description:{row.description}')\n",
    "    print(f'transcription:{transcriptions[index]}')\n",
    "    print(f'recognition:{recognitions[index]}')\n",
    "    print(20*'-')"
   ]
  },
  {
   "cell_type": "code",
   "execution_count": null,
   "id": "RQOAL7LieF6W",
   "metadata": {
    "id": "RQOAL7LieF6W"
   },
   "outputs": [],
   "source": [
    "# !pip install -U transformers"
   ]
  },
  {
   "cell_type": "code",
   "execution_count": null,
   "id": "42c6e218-8beb-4b23-9c4c-57155b0873dd",
   "metadata": {
    "id": "42c6e218-8beb-4b23-9c4c-57155b0873dd"
   },
   "outputs": [],
   "source": [
    "# !pip install av bitsandbytes moviepy openai-whisper"
   ]
  },
  {
   "cell_type": "code",
   "execution_count": null,
   "id": "34l_cDLIouc2",
   "metadata": {
    "id": "34l_cDLIouc2"
   },
   "outputs": [],
   "source": [
    "# !pip install accelerate"
   ]
  },
  {
   "cell_type": "code",
   "execution_count": null,
   "id": "fbf839c3-9513-468f-92d5-f57ae0acff5b",
   "metadata": {
    "id": "fbf839c3-9513-468f-92d5-f57ae0acff5b"
   },
   "outputs": [],
   "source": [
    "import numpy as np\n",
    "import av\n",
    "# from peft import LoraConfig\n",
    "from transformers import AutoProcessor, BitsAndBytesConfig, Idefics2ForConditionalGeneration,AutoModelForVision2Seq\n",
    "from transformers.image_utils import load_image\n",
    "import torch\n",
    "from PIL import Image"
   ]
  },
  {
   "cell_type": "code",
   "execution_count": null,
   "id": "nD3rjJyhoQiZ",
   "metadata": {
    "id": "nD3rjJyhoQiZ"
   },
   "outputs": [],
   "source": [
    "from huggingface_hub import notebook_login"
   ]
  },
  {
   "cell_type": "code",
   "execution_count": null,
   "id": "BMurj9mFoYLa",
   "metadata": {
    "colab": {
     "base_uri": "https://localhost:8080/",
     "height": 145,
     "referenced_widgets": [
      "ec6fab9c7a7b47268302542c0a6c5251",
      "fb442785e02948a2bb5d8e52aaf60051",
      "dbe8220710d34cd489a42fb922e92bdd",
      "2b282a79724e4e79a72e6f0c6915668e",
      "b1eb471c67dc4f1abc747678c271306a",
      "eab9469422074ba38547c8432bc84978",
      "6fd178bd21e14fe0b9b4e1b8a08476c6",
      "9f14e74107074e2686fdb76d7740806a",
      "55d868ffe9d74608bc84b3af46b88b31",
      "271eb3c85d3a4a62b0144739af9fa867",
      "b5f707cb644d48c28f08493d39855b6a",
      "89a2b2263f874d85b2e4b8f43a58a407",
      "7d32a4f9fa594b798a8484b1b778822e",
      "0447760df0304bf69bf4a40fae9db3bf",
      "e9a519d2bfc743ff8bfac480b457a8cb",
      "f226325ec8764afdb85078fdb85ebc9e",
      "4257fb632ee3457d91462ab19eedd500",
      "0c8913d459644db0ac18380ee1a6a134",
      "8e65943b5f4d4e05a2947cca0a9ea525",
      "2e8fa8b559c44b43a781b89b01560262",
      "30a64c9811454b11ad5de7fee06a75ad",
      "33aec57312424f2eb92778113d802376",
      "86fed81fcf074cb89a5416802cffdc49",
      "5f79c078aa434e418536c327373d5249",
      "e7459036136d4050b3aa507cd473ea7b",
      "1ec6fa486e99415ea5f973e13dd6e5c9",
      "0a2ef946578d42fbb95dc747e0101724",
      "94bead4a6e1846e69fece1e44c4ff660",
      "d1e31083840742bcb64138f52ae55135",
      "da3ce47e0d3e44b5bdd5a7c40b1be5ee",
      "130497e3205543abbfef306bed00fefe",
      "0b689c34410d40fbb4267b83a7acde79"
     ]
    },
    "id": "BMurj9mFoYLa",
    "outputId": "33d444a0-0264-4360-c8aa-22860fc3593a"
   },
   "outputs": [
    {
     "data": {
      "application/vnd.jupyter.widget-view+json": {
       "model_id": "ec6fab9c7a7b47268302542c0a6c5251",
       "version_major": 2,
       "version_minor": 0
      },
      "text/plain": [
       "VBox(children=(HTML(value='<center> <img\\nsrc=https://huggingface.co/front/assets/huggingface_logo-noborder.sv…"
      ]
     },
     "metadata": {},
     "output_type": "display_data"
    }
   ],
   "source": [
    "notebook_login()"
   ]
  },
  {
   "cell_type": "markdown",
   "id": "5f20be67-6fa8-4219-807b-c964a92b9993",
   "metadata": {
    "id": "5f20be67-6fa8-4219-807b-c964a92b9993",
    "jp-MarkdownHeadingCollapsed": true
   },
   "source": [
    "#### Проба [video LLaVa](https://huggingface.co/spaces/LanguageBind/Video-LLaVA)\n",
    "[git](https://github.com/PKU-YuanGroup/Video-LLaVA)"
   ]
  },
  {
   "cell_type": "code",
   "execution_count": null,
   "id": "2287fba4-5a5f-4b24-806b-d0cee1b1d695",
   "metadata": {
    "id": "2287fba4-5a5f-4b24-806b-d0cee1b1d695"
   },
   "outputs": [],
   "source": [
    "# !pip install -U transformers"
   ]
  },
  {
   "cell_type": "code",
   "execution_count": null,
   "id": "1cfc8293-6e9b-414c-a2b7-6927f5d07cdb",
   "metadata": {
    "id": "1cfc8293-6e9b-414c-a2b7-6927f5d07cdb"
   },
   "outputs": [],
   "source": [
    "from transformers import VideoLlavaProcessor, VideoLlavaForConditionalGeneration"
   ]
  },
  {
   "cell_type": "code",
   "execution_count": null,
   "id": "07121458-c266-4249-a40d-04b3df41c961",
   "metadata": {
    "id": "07121458-c266-4249-a40d-04b3df41c961"
   },
   "outputs": [],
   "source": [
    "def read_video_pyav(container, indices):\n",
    "    frames = []\n",
    "    container.seek(0)\n",
    "    start_index = indices[0]\n",
    "    end_index = indices[-1]\n",
    "    for i, frame in enumerate(container.decode(video=0)):\n",
    "        if i > end_index:\n",
    "            break\n",
    "        if i >= start_index and i in indices:\n",
    "            frames.append(frame)\n",
    "    return np.stack([x.to_ndarray(format=\"rgb24\") for x in frames])"
   ]
  },
  {
   "cell_type": "code",
   "execution_count": null,
   "id": "8909d0fe-43e5-40be-94aa-f6209e628f69",
   "metadata": {
    "id": "8909d0fe-43e5-40be-94aa-f6209e628f69"
   },
   "outputs": [],
   "source": [
    "quantization_config = BitsAndBytesConfig(\n",
    "    load_in_4bit=True,\n",
    "    bnb_4bit_quant_type=\"nf4\",\n",
    "    bnb_4bit_use_double_quant=True,\n",
    "    bnb_4bit_compute_dtype=torch.float16\n",
    ")"
   ]
  },
  {
   "cell_type": "code",
   "execution_count": null,
   "id": "e55f361d-234d-4509-a9ec-5eadcc51b6d9",
   "metadata": {
    "id": "e55f361d-234d-4509-a9ec-5eadcc51b6d9",
    "outputId": "de78f2d6-b5a5-456b-af4d-c67b1c05c145"
   },
   "outputs": [
    {
     "ename": "RuntimeError",
     "evalue": "No GPU found. A GPU is needed for quantization.",
     "output_type": "error",
     "traceback": [
      "\u001b[0;31m---------------------------------------------------------------------------\u001b[0m",
      "\u001b[0;31mRuntimeError\u001b[0m                              Traceback (most recent call last)",
      "Cell \u001b[0;32mIn[28], line 1\u001b[0m\n\u001b[0;32m----> 1\u001b[0m model \u001b[38;5;241m=\u001b[39m VideoLlavaForConditionalGeneration\u001b[38;5;241m.\u001b[39mfrom_pretrained(\n\u001b[1;32m      2\u001b[0m     \u001b[38;5;124m\"\u001b[39m\u001b[38;5;124mLanguageBind/Video-LLaVA-7B-hf\u001b[39m\u001b[38;5;124m\"\u001b[39m,\n\u001b[1;32m      3\u001b[0m      torch_dtype\u001b[38;5;241m=\u001b[39mtorch\u001b[38;5;241m.\u001b[39mfloat16,    \n\u001b[1;32m      4\u001b[0m      quantization_config\u001b[38;5;241m=\u001b[39mquantization_config,\n\u001b[1;32m      5\u001b[0m )\n\u001b[1;32m      6\u001b[0m processor \u001b[38;5;241m=\u001b[39m VideoLlavaProcessor\u001b[38;5;241m.\u001b[39mfrom_pretrained(\u001b[38;5;124m\"\u001b[39m\u001b[38;5;124mLanguageBind/Video-LLaVA-7B-hf\u001b[39m\u001b[38;5;124m\"\u001b[39m)\n",
      "File \u001b[0;32m/opt/anaconda3/lib/python3.11/site-packages/transformers/modeling_utils.py:3202\u001b[0m, in \u001b[0;36mPreTrainedModel.from_pretrained\u001b[0;34m(cls, pretrained_model_name_or_path, config, cache_dir, ignore_mismatched_sizes, force_download, local_files_only, token, revision, use_safetensors, *model_args, **kwargs)\u001b[0m\n\u001b[1;32m   3199\u001b[0m     hf_quantizer \u001b[38;5;241m=\u001b[39m \u001b[38;5;28;01mNone\u001b[39;00m\n\u001b[1;32m   3201\u001b[0m \u001b[38;5;28;01mif\u001b[39;00m hf_quantizer \u001b[38;5;129;01mis\u001b[39;00m \u001b[38;5;129;01mnot\u001b[39;00m \u001b[38;5;28;01mNone\u001b[39;00m:\n\u001b[0;32m-> 3202\u001b[0m     hf_quantizer\u001b[38;5;241m.\u001b[39mvalidate_environment(\n\u001b[1;32m   3203\u001b[0m         torch_dtype\u001b[38;5;241m=\u001b[39mtorch_dtype, from_tf\u001b[38;5;241m=\u001b[39mfrom_tf, from_flax\u001b[38;5;241m=\u001b[39mfrom_flax, device_map\u001b[38;5;241m=\u001b[39mdevice_map\n\u001b[1;32m   3204\u001b[0m     )\n\u001b[1;32m   3205\u001b[0m     torch_dtype \u001b[38;5;241m=\u001b[39m hf_quantizer\u001b[38;5;241m.\u001b[39mupdate_torch_dtype(torch_dtype)\n\u001b[1;32m   3206\u001b[0m     device_map \u001b[38;5;241m=\u001b[39m hf_quantizer\u001b[38;5;241m.\u001b[39mupdate_device_map(device_map)\n",
      "File \u001b[0;32m/opt/anaconda3/lib/python3.11/site-packages/transformers/quantizers/quantizer_bnb_4bit.py:62\u001b[0m, in \u001b[0;36mBnb4BitHfQuantizer.validate_environment\u001b[0;34m(self, *args, **kwargs)\u001b[0m\n\u001b[1;32m     60\u001b[0m \u001b[38;5;28;01mdef\u001b[39;00m \u001b[38;5;21mvalidate_environment\u001b[39m(\u001b[38;5;28mself\u001b[39m, \u001b[38;5;241m*\u001b[39margs, \u001b[38;5;241m*\u001b[39m\u001b[38;5;241m*\u001b[39mkwargs):\n\u001b[1;32m     61\u001b[0m     \u001b[38;5;28;01mif\u001b[39;00m \u001b[38;5;129;01mnot\u001b[39;00m torch\u001b[38;5;241m.\u001b[39mcuda\u001b[38;5;241m.\u001b[39mis_available():\n\u001b[0;32m---> 62\u001b[0m         \u001b[38;5;28;01mraise\u001b[39;00m \u001b[38;5;167;01mRuntimeError\u001b[39;00m(\u001b[38;5;124m\"\u001b[39m\u001b[38;5;124mNo GPU found. A GPU is needed for quantization.\u001b[39m\u001b[38;5;124m\"\u001b[39m)\n\u001b[1;32m     63\u001b[0m     \u001b[38;5;28;01mif\u001b[39;00m \u001b[38;5;129;01mnot\u001b[39;00m (is_accelerate_available() \u001b[38;5;129;01mand\u001b[39;00m is_bitsandbytes_available()):\n\u001b[1;32m     64\u001b[0m         \u001b[38;5;28;01mraise\u001b[39;00m \u001b[38;5;167;01mImportError\u001b[39;00m(\n\u001b[1;32m     65\u001b[0m             \u001b[38;5;124m\"\u001b[39m\u001b[38;5;124mUsing `bitsandbytes` 8-bit quantization requires Accelerate: `pip install accelerate` \u001b[39m\u001b[38;5;124m\"\u001b[39m\n\u001b[1;32m     66\u001b[0m             \u001b[38;5;124m\"\u001b[39m\u001b[38;5;124mand the latest version of bitsandbytes: `pip install -i https://pypi.org/simple/ bitsandbytes`\u001b[39m\u001b[38;5;124m\"\u001b[39m\n\u001b[1;32m     67\u001b[0m         )\n",
      "\u001b[0;31mRuntimeError\u001b[0m: No GPU found. A GPU is needed for quantization."
     ]
    }
   ],
   "source": [
    "model = VideoLlavaForConditionalGeneration.from_pretrained(\n",
    "    \"LanguageBind/Video-LLaVA-7B-hf\",\n",
    "     torch_dtype=torch.float16,\n",
    "     quantization_config=quantization_config,\n",
    ")\n",
    "processor = VideoLlavaProcessor.from_pretrained(\"LanguageBind/Video-LLaVA-7B-hf\")"
   ]
  },
  {
   "cell_type": "code",
   "execution_count": null,
   "id": "556343ea-ef81-4976-bcd5-90a20101d86b",
   "metadata": {
    "colab": {
     "referenced_widgets": [
      "8b3a4dc1beb74f40ae893f8da4aec83a"
     ]
    },
    "id": "556343ea-ef81-4976-bcd5-90a20101d86b",
    "outputId": "89ccb27e-20af-450b-83b9-f9af36cc3a25"
   },
   "outputs": [
    {
     "name": "stderr",
     "output_type": "stream",
     "text": [
      "/var/folders/yr/mmqsh_3x4z92c40wn0j7x2yw0000gp/T/ipykernel_39766/235269379.py:2: TqdmDeprecationWarning: This function will be removed in tqdm==5.0.0\n",
      "Please use `tqdm.notebook.tqdm` instead of `tqdm.tqdm_notebook`\n",
      "  for video_path in tqdm_notebook(sorted_video_files[:20]):\n"
     ]
    },
    {
     "data": {
      "application/vnd.jupyter.widget-view+json": {
       "model_id": "8b3a4dc1beb74f40ae893f8da4aec83a",
       "version_major": 2,
       "version_minor": 0
      },
      "text/plain": [
       "  0%|          | 0/20 [00:00<?, ?it/s]"
      ]
     },
     "metadata": {},
     "output_type": "display_data"
    },
    {
     "ename": "NameError",
     "evalue": "name 'processor' is not defined",
     "output_type": "error",
     "traceback": [
      "\u001b[0;31m---------------------------------------------------------------------------\u001b[0m",
      "\u001b[0;31mNameError\u001b[0m                                 Traceback (most recent call last)",
      "Cell \u001b[0;32mIn[30], line 11\u001b[0m\n\u001b[1;32m      9\u001b[0m \u001b[38;5;66;03m# indices = [int(0.25 * total_frames), int(0.5 * total_frames), int(0.75 * total_frames)]\u001b[39;00m\n\u001b[1;32m     10\u001b[0m clip \u001b[38;5;241m=\u001b[39m read_video_pyav(container, indices)\n\u001b[0;32m---> 11\u001b[0m inputs \u001b[38;5;241m=\u001b[39m processor(text\u001b[38;5;241m=\u001b[39mprompt, videos\u001b[38;5;241m=\u001b[39mclip, return_tensors\u001b[38;5;241m=\u001b[39m\u001b[38;5;124m\"\u001b[39m\u001b[38;5;124mpt\u001b[39m\u001b[38;5;124m\"\u001b[39m)\n\u001b[1;32m     13\u001b[0m \u001b[38;5;66;03m# Generate\u001b[39;00m\n\u001b[1;32m     14\u001b[0m generate_ids \u001b[38;5;241m=\u001b[39m model\u001b[38;5;241m.\u001b[39mgenerate(\u001b[38;5;241m*\u001b[39m\u001b[38;5;241m*\u001b[39minputs, max_length\u001b[38;5;241m=\u001b[39m\u001b[38;5;241m80\u001b[39m)\n",
      "\u001b[0;31mNameError\u001b[0m: name 'processor' is not defined"
     ]
    }
   ],
   "source": [
    "video_captions = []\n",
    "for video_path in tqdm_notebook(sorted_video_files[:20]):\n",
    "    prompt = \"USER: <video>Make a summary of video. ASSISTANT:\"\n",
    "    container = av.open(video_path)\n",
    "\n",
    "    # sample uniformly 8 frames from the video\n",
    "    total_frames = container.streams.video[0].frames\n",
    "    indices = np.arange(0, total_frames, total_frames / 8).astype(int)\n",
    "    # indices = [int(0.25 * total_frames), int(0.5 * total_frames), int(0.75 * total_frames)]\n",
    "    clip = read_video_pyav(container, indices)\n",
    "    inputs = processor(text=prompt, videos=clip, return_tensors=\"pt\")\n",
    "\n",
    "    # Generate\n",
    "    generate_ids = model.generate(**inputs, max_length=80)\n",
    "    caption = processor.batch_decode(generate_ids, skip_special_tokens=True, clean_up_tokenization_spaces=False)[0]\n",
    "    print(caption)\n",
    "    break"
   ]
  },
  {
   "cell_type": "code",
   "execution_count": null,
   "id": "345d6215-5d49-4450-9764-ddf8fe07dce5",
   "metadata": {
    "id": "345d6215-5d49-4450-9764-ddf8fe07dce5"
   },
   "outputs": [],
   "source": []
  },
  {
   "cell_type": "code",
   "execution_count": null,
   "id": "0a49da30-36b5-4dcf-946f-79324a1437a0",
   "metadata": {
    "id": "0a49da30-36b5-4dcf-946f-79324a1437a0"
   },
   "outputs": [],
   "source": [
    "model_name = \"GuardisAI/Video-LLaVA-7B-GPTQ-4bit-V1\"\n",
    "#You are using a model of type llava to instantiate a model of type video_llava. This is not supported for all configurations of models and can yield errors."
   ]
  },
  {
   "cell_type": "markdown",
   "id": "a6275585-6326-485e-88c6-0ae0c12a47a7",
   "metadata": {
    "id": "a6275585-6326-485e-88c6-0ae0c12a47a7"
   },
   "source": [
    "### [ruIdefics2-ruLLaVA-merged](https://huggingface.co/GeorgeBredis/ruIdefics2-ruLLaVA-merged)"
   ]
  },
  {
   "cell_type": "code",
   "execution_count": null,
   "id": "6935fdfe-53b4-44b4-8907-38bf0410d7ae",
   "metadata": {
    "id": "6935fdfe-53b4-44b4-8907-38bf0410d7ae"
   },
   "outputs": [],
   "source": [
    "DEVICE  = torch.device('cuda' if torch.cuda.is_available() else 'cpu')"
   ]
  },
  {
   "cell_type": "code",
   "execution_count": null,
   "id": "0467342c-9405-4037-87d8-2abddb443a46",
   "metadata": {
    "colab": {
     "base_uri": "https://localhost:8080/",
     "height": 85,
     "referenced_widgets": [
      "21361002f7b94b9993863832f19e0ed6",
      "6e0bdd7300754f5f9eb5d45f80da8221",
      "f56c58e9adc24a9d86c66b4d382c0bce",
      "d26da060891449fea2e9a8fd1fd19085",
      "92aa62397f8840a5b33ed346a7be0534",
      "2be4d1d958c94447aad4d77c116987b2",
      "64a1d66276f7480289e45612e3eb41ce",
      "0795b53779954d04a5548b4b4e2c581d",
      "78e2596c00f04c32ab3d7d7639f21e21",
      "e3b726a9207d424bb2b8c8e645f62ba0",
      "7434b17643b547379ef41a823b4e6199"
     ]
    },
    "id": "0467342c-9405-4037-87d8-2abddb443a46",
    "outputId": "12a10cdc-9535-450b-d339-a57d0a54474f"
   },
   "outputs": [
    {
     "name": "stderr",
     "output_type": "stream",
     "text": [
      "Special tokens have been added in the vocabulary, make sure the associated word embeddings are fine-tuned or trained.\n",
      "`low_cpu_mem_usage` was None, now set to True since model is quantized.\n"
     ]
    },
    {
     "data": {
      "application/vnd.jupyter.widget-view+json": {
       "model_id": "21361002f7b94b9993863832f19e0ed6",
       "version_major": 2,
       "version_minor": 0
      },
      "text/plain": [
       "Loading checkpoint shards:   0%|          | 0/4 [00:00<?, ?it/s]"
      ]
     },
     "metadata": {},
     "output_type": "display_data"
    }
   ],
   "source": [
    "processor = AutoProcessor.from_pretrained(\n",
    "    \"GeorgeBredis/ruIdefics2-ruLLaVA-merged\",\n",
    "    do_image_splitting=False\n",
    ")\n",
    "\n",
    "quantization_config = BitsAndBytesConfig(\n",
    "    load_in_4bit=True,\n",
    "    bnb_4bit_quant_type=\"nf4\",\n",
    "    bnb_4bit_use_double_quant=True,\n",
    "    bnb_4bit_compute_dtype=torch.float16\n",
    ")\n",
    "\n",
    "model = Idefics2ForConditionalGeneration.from_pretrained(\n",
    "     \"GeorgeBredis/ruIdefics2-ruLLaVA-merged\",\n",
    "     torch_dtype=torch.float16,\n",
    "     quantization_config=quantization_config,\n",
    ")"
   ]
  },
  {
   "cell_type": "code",
   "execution_count": null,
   "id": "hklIywGHnGhR",
   "metadata": {
    "id": "hklIywGHnGhR"
   },
   "outputs": [],
   "source": [
    "messages = [\n",
    "    {\n",
    "        \"role\": \"user\",\n",
    "        \"content\": [\n",
    "            {\"type\": \"image\"},\n",
    "            {\"type\": \"text\", \"text\": \"Что изображено на данной картинке?\"},\n",
    "        ]\n",
    "    }\n",
    "]"
   ]
  },
  {
   "cell_type": "code",
   "execution_count": null,
   "id": "c71901aa-9fe3-443c-8eb3-353d03b61671",
   "metadata": {
    "colab": {
     "base_uri": "https://localhost:8080/",
     "height": 551,
     "referenced_widgets": [
      "bb4f4632b19d4e5e868d08c8d7683706",
      "f6a07f7035a0416785092191c6976182",
      "d293dfc30727435aa9eddb8cade6555c",
      "adca1456d5fd43fa94a8639ec48ca8da",
      "b375dd2c79064f01bfacf1e19effe261",
      "266361e845d9407997801c802b70b12f",
      "457cd2753cc64b6d91300763b409dff4",
      "d1260200a50849ab959a38b46cc7d1d3",
      "34ac49920fe143aa8185d6e9188458b1",
      "da32c819636a4cceb4b6c549720b8a80",
      "76980e0a8c824be08191edcb58f4219d"
     ]
    },
    "id": "c71901aa-9fe3-443c-8eb3-353d03b61671",
    "outputId": "2ecf6cdd-7521-496b-f1e3-d3e58ba14b37",
    "scrolled": true
   },
   "outputs": [
    {
     "name": "stderr",
     "output_type": "stream",
     "text": [
      "<ipython-input-27-5f37e01cd0ee>:2: TqdmDeprecationWarning: This function will be removed in tqdm==5.0.0\n",
      "Please use `tqdm.notebook.tqdm` instead of `tqdm.tqdm_notebook`\n",
      "  for video_path in tqdm_notebook(sorted_video_files):\n"
     ]
    },
    {
     "data": {
      "application/vnd.jupyter.widget-view+json": {
       "model_id": "bb4f4632b19d4e5e868d08c8d7683706",
       "version_major": 2,
       "version_minor": 0
      },
      "text/plain": [
       "  0%|          | 0/27 [00:00<?, ?it/s]"
      ]
     },
     "metadata": {},
     "output_type": "display_data"
    },
    {
     "ename": "InvalidDataError",
     "evalue": "[Errno 1094995529] Invalid data found when processing input",
     "output_type": "error",
     "traceback": [
      "\u001b[0;31m---------------------------------------------------------------------------\u001b[0m",
      "\u001b[0;31mInvalidDataError\u001b[0m                          Traceback (most recent call last)",
      "\u001b[0;32m<ipython-input-27-5f37e01cd0ee>\u001b[0m in \u001b[0;36m<cell line: 2>\u001b[0;34m()\u001b[0m\n\u001b[1;32m     13\u001b[0m \u001b[0;34m\u001b[0m\u001b[0m\n\u001b[1;32m     14\u001b[0m     \u001b[0mcontainer\u001b[0m\u001b[0;34m.\u001b[0m\u001b[0mseek\u001b[0m\u001b[0;34m(\u001b[0m\u001b[0;36m0\u001b[0m\u001b[0;34m)\u001b[0m\u001b[0;34m\u001b[0m\u001b[0;34m\u001b[0m\u001b[0m\n\u001b[0;32m---> 15\u001b[0;31m     \u001b[0;32mfor\u001b[0m \u001b[0mi\u001b[0m\u001b[0;34m,\u001b[0m \u001b[0mframe\u001b[0m \u001b[0;32min\u001b[0m \u001b[0menumerate\u001b[0m\u001b[0;34m(\u001b[0m\u001b[0mcontainer\u001b[0m\u001b[0;34m.\u001b[0m\u001b[0mdecode\u001b[0m\u001b[0;34m(\u001b[0m\u001b[0mvideo\u001b[0m\u001b[0;34m=\u001b[0m\u001b[0;36m0\u001b[0m\u001b[0;34m)\u001b[0m\u001b[0;34m)\u001b[0m\u001b[0;34m:\u001b[0m\u001b[0;34m\u001b[0m\u001b[0;34m\u001b[0m\u001b[0m\n\u001b[0m\u001b[1;32m     16\u001b[0m         \u001b[0;32mif\u001b[0m \u001b[0mi\u001b[0m \u001b[0;32min\u001b[0m \u001b[0mindices\u001b[0m\u001b[0;34m:\u001b[0m\u001b[0;34m\u001b[0m\u001b[0;34m\u001b[0m\u001b[0m\n\u001b[1;32m     17\u001b[0m           \u001b[0mframes\u001b[0m\u001b[0;34m.\u001b[0m\u001b[0mappend\u001b[0m\u001b[0;34m(\u001b[0m\u001b[0mframe\u001b[0m\u001b[0;34m.\u001b[0m\u001b[0mto_ndarray\u001b[0m\u001b[0;34m(\u001b[0m\u001b[0mformat\u001b[0m\u001b[0;34m=\u001b[0m\u001b[0;34m\"rgb24\"\u001b[0m\u001b[0;34m)\u001b[0m\u001b[0;34m)\u001b[0m\u001b[0;34m\u001b[0m\u001b[0;34m\u001b[0m\u001b[0m\n",
      "\u001b[0;32mav/container/input.pyx\u001b[0m in \u001b[0;36mdecode\u001b[0;34m()\u001b[0m\n",
      "\u001b[0;32mav/packet.pyx\u001b[0m in \u001b[0;36mav.packet.Packet.decode\u001b[0;34m()\u001b[0m\n",
      "\u001b[0;32mav/video/stream.pyx\u001b[0m in \u001b[0;36mav.video.stream.VideoStream.decode\u001b[0;34m()\u001b[0m\n",
      "\u001b[0;32mav/video/stream.pyx\u001b[0m in \u001b[0;36mav.video.stream.VideoStream.decode\u001b[0;34m()\u001b[0m\n",
      "\u001b[0;32mav/codec/context.pyx\u001b[0m in \u001b[0;36mav.codec.context.CodecContext.decode\u001b[0;34m()\u001b[0m\n",
      "\u001b[0;32mav/codec/context.pyx\u001b[0m in \u001b[0;36mav.codec.context.CodecContext._send_packet_and_recv\u001b[0;34m()\u001b[0m\n",
      "\u001b[0;32mav/error.pyx\u001b[0m in \u001b[0;36mav.error.err_check\u001b[0;34m()\u001b[0m\n",
      "\u001b[0;31mInvalidDataError\u001b[0m: [Errno 1094995529] Invalid data found when processing input"
     ]
    }
   ],
   "source": [
    "video_captions = []\n",
    "for video_path in tqdm_notebook(sorted_video_files):\n",
    "    # load video\n",
    "    container = av.open(video_path)\n",
    "\n",
    "    # get fps (corrected approach)\n",
    "    fps = container.streams.video[0].average_rate.numerator / container.streams.video[0].average_rate.denominator\n",
    "\n",
    "    # extract frames at 25%, 50%, & 75%\n",
    "    seg_len = container.streams.video[0].frames  # total number of frames\n",
    "    indices = [int(0.25 * seg_len), int(0.5 * seg_len), int(0.75 * seg_len)]\n",
    "    frames = []\n",
    "\n",
    "    container.seek(0)\n",
    "    for i, frame in enumerate(container.decode(video=0)):\n",
    "        if i in indices:\n",
    "          frames.append(frame.to_ndarray(format=\"rgb24\"))\n",
    "    # generate caption\n",
    "    gen_kwargs = {\n",
    "        \"min_length\": 0,\n",
    "        \"max_length\": 100,\n",
    "        \"num_beams\": 4,\n",
    "    }\n",
    "\n",
    "    # Convert numpy arrays to PIL Images\n",
    "    pil_images = [Image.fromarray(frame) for frame in frames]\n",
    "\n",
    "    prompt = processor.apply_chat_template(messages, add_generation_prompt=True)\n",
    "    inputs = processor(text=prompt, images=pil_images[:1], return_tensors=\"pt\")\n",
    "    inputs = {k: v.to(DEVICE) for k, v in inputs.items()}\n",
    "    generated_ids = model.generate(**inputs, max_new_tokens=100)\n",
    "    generated_texts = processor.batch_decode(generated_ids, skip_special_tokens=True)\n",
    "    # caption = '|'.join([pred.strip() for pred in preds])\n",
    "    caption = generated_texts\n",
    "    video_captions.append(caption)"
   ]
  },
  {
   "cell_type": "code",
   "execution_count": null,
   "id": "GrX8df62r1Ov",
   "metadata": {
    "colab": {
     "base_uri": "https://localhost:8080/"
    },
    "id": "GrX8df62r1Ov",
    "outputId": "70b4b94f-e662-4090-eaaf-5d9b75384543"
   },
   "outputs": [
    {
     "name": "stdout",
     "output_type": "stream",
     "text": [
      "index: 0|link:https://cdn-st.rutubelist.ru/media/b0/e9/ef285e0241139fc611318ed33071/fhd.mp4\n",
      "description:#нарезкистримов , #dota2 , #cs2 , #fifa23 , #minecraft , #майнкрафт , #геншин , #genshin\n",
      "video_caption:User: Что изображено на данной картинке? \n",
      "Assistant: На изображении представлен футбольный матч, где группа людей играет в футбол на поле. Они разбросаны по всему полю, некоторые из них стоят ближе к центру, а другие - ближе к краям.\n",
      "\n",
      "Всего на поле шесть человек, которые активно участвуют в игре. Один из игроков находится в центре по\n",
      "--------------------\n",
      "index: 1|link:https://cdn-st.rutubelist.ru/media/39/6c/b31bc6864bef9d8a96814f1822ca/fhd.mp4\n",
      "description:🤫НЕ ВВОДИ ЭТУ КОМАНДУ В РОБЛОКС ! #shorts #roblox #роблокс\n",
      "video_caption:User: Что изображено на данной картинке? \n",
      "Assistant: На изображении представлен игровой персонаж, стоящий на улице, который, похоже, является частью игры. Он одет в черно-белую форму и, похоже, является игровым персонажем.\n",
      "--------------------\n",
      "index: 2|link:https://cdn-st.rutubelist.ru/media/e9/e0/b47a9df14a5e97942715e5e705c0/fhd.mp4\n",
      "description:#boobs , #красивыедевушки , #ass\n",
      "video_caption:User: Что изображено на данной картинке? \n",
      "Assistant: На изображении изображены молодая женщина и мужчина, которые делают селфи. Женщина держит в руке красную ленту, которая, похоже, является частью фильтра или надписью. Они оба смотрят в камеру, делая селфи.\n",
      "--------------------\n",
      "index: 3|link:https://cdn-st.rutubelist.ru/media/87/43/b11df3f344d0af773aac81e410ee/fhd.mp4\n",
      "description:nan\n",
      "video_caption:User: Что изображено на данной картинке? \n",
      "Assistant: На изображении изображена женщина, сидящая за столом и держащая в руках карточку. Она, похоже, читает карточку, возможно, в поисках ответов или предсказания. На заднем плане видна большая картина, которая добавляет атмосферности сцене.\n",
      "\n",
      "На\n",
      "--------------------\n",
      "index: 4|link:https://cdn-st.rutubelist.ru/media/d1/e7/642dc2194fcdb69664f832d5f2dd/fhd.mp4\n",
      "description:nan\n",
      "video_caption:User: Что изображено на данной картинке? \n",
      "Assistant: На изображении изображен мужчина в розовом костюме, сидящий за столом. Он, кажется, говорит или смотрит в камеру. На заднем плане видны несколько книг, расположенных на полке, что указывает на то, что мужчина может быть в офисе или в комнате, предназначенной для\n",
      "--------------------\n",
      "index: 5|link:https://cdn-st.rutubelist.ru/media/e2/97/f9164f8a41479f961d64842154a7/fhd.mp4\n",
      "description:nan\n",
      "video_caption:User: Что изображено на данной картинке? \n",
      "Assistant: На изображении изображены две женщины, лежащие на полу в большом, черно-белом помещении. Одна из женщин лежит на спине, а другая - на спине. Они, кажется, наслаждаются обществом друг друга, возможно, занимаясь танцами или игрой.\n",
      "\n",
      "В комнате есть сту\n",
      "--------------------\n",
      "index: 6|link:https://cdn-st.rutubelist.ru/media/0f/48/8a1ff7324073947a31e80f71d001/fhd.mp4\n",
      "description:#diy #постановка #юмор #комедия\n",
      "video_caption:User: Что изображено на данной картинке? \n",
      "Assistant: На изображении изображен молодой человек, сидящий за столом и держащий в руках ручку. Он, похоже, работает над каким-то проектом, возможно, он пишет или делает заметки. На столе также есть бумага, возможно, она связана с его работой.\n",
      "\n",
      "Вокруг стола расположены\n",
      "--------------------\n",
      "index: 7|link:https://cdn-st.rutubelist.ru/media/19/9c/98de3b4a4d9e83cb5dda828f899e/fhd.mp4\n",
      "description:nan\n",
      "video_caption:User: Что изображено на данной картинке? \n",
      "Assistant: На изображении представлен сообщение на мобильном телефоне, которое, похоже, является сообщением от друга. На заднем плане видно городскую улицу с автомобилями, движущимися по ней.\n",
      "--------------------\n",
      "index: 8|link:https://cdn-st.rutubelist.ru/media/bf/ee/85fb6b80491db79e8baebe5c9d80/fhd.mp4\n",
      "description:#образ #lookbook #показ #неделямоды #капсула #ошибкивстиле #селебрити #интервью #перевоплощения #обувь #кроссовки\n",
      "video_caption:User: Что изображено на данной картинке? \n",
      "Assistant: На изображении изображен человек, который чистит белую обувь, используя бутылку с чистящим средством. Он держит бутылку в руке, а обувь лежит на полу.\n",
      "--------------------\n",
      "index: 9|link:https://cdn-st.rutubelist.ru/media/fc/73/d86600d04e519178a55774dfe65e/fhd.mp4\n",
      "description:#путешествия #journey #туризм\n",
      "video_caption:User: Что изображено на данной картинке? \n",
      "Assistant: На изображении представлен большой синий самолет, припаркованный на взлетно-посадочной полосе аэропорта. Самолет занимает значительную часть сцены, занимая большую часть изображения.\n",
      "\n",
      "Вокруг самолета видны различные элементы аэропорта, включая здание аэропорта,\n",
      "--------------------\n",
      "index: 10|link:https://cdn-st.rutubelist.ru/media/17/ae/a36f6f824fa1a67496d299c8ac6e/fhd.mp4\n",
      "description:#образ #lookbook #показ #неделямоды #капсула #ошибкивстиле #селебрити #интервью #перевоплощения #обувь #кроссовки\n",
      "video_caption:User: Что изображено на данной картинке? \n",
      "Assistant: На изображении изображена молодая женщина в черном платье и черном шляпе, которая держит руку у лица, возможно, чтобы показать что-то или сделать заявление. Она находится в комнате, возможно, в гостиной или в ванной комнате.\n",
      "--------------------\n",
      "index: 11|link:https://cdn-st.rutubelist.ru/media/4b/54/0a36f96d4030a0f6ad1b6d7f4902/fhd.mp4\n",
      "description:#красивыедевушки #bigbooty #грудь\n",
      "video_caption:User: Что изображено на данной картинке? \n",
      "Assistant: На изображении изображена женщина в белом бикини, которая стоит на крыше машины. Она, кажется, собирается спуститься с крыша, что придает сцене ощущение игривости и непринужденности.\n",
      "--------------------\n",
      "index: 12|link:https://cdn-st.rutubelist.ru/media/8c/58/96608b7a4834883ea2dd1c884c63/fhd.mp4\n",
      "description:📍 •Бейрут / Beirut 🏔️\n",
      "• Ливан / Lebanon 🇱🇧 \n",
      "\n",
      "By: @rassal_kroft\n",
      "video_caption:User: Что изображено на данной картинке? \n",
      "Assistant: На изображении представлен океан, на котором видны несколько больших каменных островов, расположенных в разных местах. Как правило, каменные островы расположены вдоль береговой линии, создавая живописный фон для океанского пейзажа.\n",
      "--------------------\n",
      "index: 13|link:https://cdn-st.rutubelist.ru/media/2f/4f/6b969c8c4a2aafcfca057b2a99a2/fhd.mp4\n",
      "description:#спорт #наспорте #футбол #football #роналду\n",
      "video_caption:User: Что изображено на данной картинке? \n",
      "Assistant: На изображении изображен молодой человек в синей рубашке, сидящий на диване. Он, кажется, смотрит в камеру, что делает его взгляд захватывающим.\n",
      "--------------------\n",
      "index: 14|link:https://cdn-st.rutubelist.ru/media/9f/ca/d5d0dedf44418e1a2b7d5cebe0e8/fhd.mp4\n",
      "description:#красивыедевушки #hotgirl #грудь #boobs\n",
      "video_caption:User: Что изображено на данной картинке? \n",
      "Assistant: На изображении изображена молодая женщина в белом платье, стоящая на улице. Она, кажется, находится в лесу, окруженная деревьями.\n",
      "--------------------\n",
      "index: 15|link:https://cdn-st.rutubelist.ru/media/a4/d2/8e9737fd445faf0a20151f8c39f5/fhd.mp4\n",
      "description:nan\n",
      "video_caption:User: Что изображено на данной картинке? \n",
      "Assistant: На изображении изображен мужчина в очках, который, похоже, является аниме-персонажем. Он стоит рядом с деревом, создавая визуально привлекательную сцену.\n",
      "--------------------\n",
      "index: 16|link:https://cdn-st.rutubelist.ru/media/a3/9f/2352de2748b3868df583d51a402b/fhd.mp4\n",
      "description:#спорт #наспорте #здоровье #совет #советы\n",
      "video_caption:User: Что изображено на данной картинке? \n",
      "Assistant: На изображении изображен мужчина, стоящий на улице, смотрящий в камеру. Он одет в черный куртку и черный шапку. На заднем плане видны несколько других людей, некоторые из которых стоят ближе к мужчине, а другие - дальше.\n",
      "\n",
      "На сцене видны два\n",
      "--------------------\n",
      "index: 17|link:https://cdn-st.rutubelist.ru/media/ac/08/3604604b4b8b89e34db1e0e91863/fhd.mp4\n",
      "description:#красивыедевушки #hotgirl #попа #ass #грудь #boobs #йога\n",
      "video_caption:User: Что изображено на данной картинке? \n",
      "Assistant: На изображении изображена женщина, сидящая на земле на матраце, возможно, на матраце для пикника. Она одета в коричневую одежду и, похоже, занимается упражнениями, такими как растяжение или упражнения по растяжению. Женщина, кажется, находится в ле\n",
      "--------------------\n",
      "index: 18|link:https://cdn-st.rutubelist.ru/media/5a/35/65c80c3047d08634922cb22f1fee/fhd.mp4\n",
      "description:#красивыедевушки #грудь #boobs #попа #ass #бикини #lingerie\n",
      "video_caption:User: Что изображено на данной картинке? \n",
      "Assistant: На изображении изображена молодая женщина, сидящая на кровати. Она одета в черное платье и, похоже, наслаждается своим моментом. Женщина, кажется, находится в комнате, которая, похоже, является спальней, и она, кажется, находится в процессе наряжания или гото\n",
      "--------------------\n",
      "index: 19|link:https://cdn-st.rutubelist.ru/media/03/eb/47329b1943349255453b6cec625d/fhd.mp4\n",
      "description:#уходзакожей #уходзасобой #бьютирутина #бьюти #ноготочки #маникюр #прическа #укладка #уход #бьютирутина\n",
      "video_caption:User: Что изображено на данной картинке? \n",
      "Assistant: На изображении представлен магазин, где видны различные предметы, такие как раковина, туалет и несколько бутылок. В магазине видны два человека, один из которых идет по полу, а другой стоит возле раковины.\n",
      "\n",
      "Вокруг магазина можно увидеть несколько светофоров,\n",
      "--------------------\n",
      "index: 20|link:https://cdn-st.rutubelist.ru/media/28/b0/88ac63a546cb8174020a95470591/fhd.mp4\n",
      "description:#авто #auto #vehicle #тачки #bmw #путешествие\n",
      "video_caption:User: Что изображено на данной картинке? \n",
      "Assistant: На изображении представлен черный спортивный автомобиль BMW, движущийся по дороге, окруженной горами. Автомобиль находится в середине дороги, и он, кажется, находится в движении.\n",
      "--------------------\n",
      "index: 21|link:https://cdn-st.rutubelist.ru/media/bf/6a/f040f0dd4afc90b8eb12c8d76571/fhd.mp4\n",
      "description:nan\n",
      "video_caption:User: Что изображено на данной картинке? \n",
      "Assistant: На изображении две женщины стоят рядом друг с другом в комнате. Они, кажется, общаются и, возможно, делают позу для камеры. Они стоят на коричневом ковре, что добавляет комнате тепло и уют.\n",
      "--------------------\n",
      "index: 22|link:https://cdn-st.rutubelist.ru/media/73/48/47a9e25b4b36bc6254d29f42787a/fhd.mp4\n",
      "description:#boobs , #bigass , #girls , #pussy , #еда , \n",
      "#готовка , #рецепт , #кукинг , #мистика , #страшилка , \n",
      "#horror , #бизнес , #инвестиции\n",
      "video_caption:User: Что изображено на данной картинке? \n",
      "Assistant: На изображении изображена женщина, которая разбивает белую яйцо на кусочки. Она держит яйцо в руках, и оно лежит на деревянной доске.\n",
      "--------------------\n",
      "index: 23|link:https://cdn-st.rutubelist.ru/media/fe/86/ab9d0a504c2a892c88dc02b79b56/fhd.mp4\n",
      "description:#путешествия #journey #туризм #обучениезаграницей #языковаяшкола\n",
      "video_caption:User: Что изображено на данной картинке? \n",
      "Assistant: На изображении представлен вид на город с высокой башней, которая является частью собора. В небе видны облака, что добавляет визуальной привлекательности сцене. На земле видны несколько зданий, включая большой собор, который занимает значительную часть изображения.\n",
      "\n",
      "Кроме того, на земле видны\n",
      "--------------------\n",
      "index: 24|link:https://cdn-st.rutubelist.ru/media/86/0f/4a6b06514445bbe41cb62a5f279d/fhd.mp4\n",
      "description:#уходзакожей #уходзасобой #бьютирутина #бьюти\n",
      "video_caption:User: Что изображено на данной картинке? \n",
      "Assistant: На изображении изображена женщина в белой куртке, которая, похоже, находится в ванной комнате. Она держит в руках маленькую бутылку с жидкостью, возможно, это косметическое средство или аромат. Женщина смотрит на себя в зеркале, что\n",
      "--------------------\n",
      "index: 25|link:https://cdn-st.rutubelist.ru/media/1e/39/f6e45a2142b095d96b286744441a/fhd.mp4\n",
      "description:Где поесть настоящей турецкой пахлавы в 📍Петербурге?\n",
      "video_caption:User: Что изображено на данной картинке? \n",
      "Assistant: На изображении представлен витринный шкаф с различными видами выпечки, включая пончики и другие десерты. На заднем плане видны различные предметы, такие как чашки, бутылки и ложки, что указывает на то, что это может быть магазин или кафе.\n",
      "--------------------\n"
     ]
    }
   ],
   "source": [
    "for index in range(len(video_captions)):\n",
    "    row = df.iloc[index]\n",
    "    print(f'index: {index}|link:{row.link}')\n",
    "    print(f'description:{row.description}')\n",
    "    print(f'video_caption:{video_captions[index][0]}')\n",
    "    print(20*'-')"
   ]
  },
  {
   "cell_type": "markdown",
   "id": "7296d37f-f5da-4557-a337-402170014035",
   "metadata": {
    "id": "7296d37f-f5da-4557-a337-402170014035"
   },
   "source": [
    "### [RUDOLPH](https://habr.com/ru/companies/sberbank/articles/733470/)\n",
    "RuCLIP старее"
   ]
  },
  {
   "cell_type": "markdown",
   "id": "a3f0633b-3ca8-404e-ad20-0fd6fc8cf5d7",
   "metadata": {
    "id": "a3f0633b-3ca8-404e-ad20-0fd6fc8cf5d7"
   },
   "source": [
    "### [Chat-UniVi-7B-v1.5](https://huggingface.co/Chat-UniVi/Chat-UniVi-7B-v1.5/tree/main)"
   ]
  },
  {
   "cell_type": "markdown",
   "id": "2e09843a-1748-45ba-8e59-800a0ea777fc",
   "metadata": {
    "id": "2e09843a-1748-45ba-8e59-800a0ea777fc"
   },
   "source": [
    "### [blip-2](https://huggingface.co/blog/blip-2)\n",
    "[blip2-opt-2.7b](https://huggingface.co/Salesforce/blip2-opt-2.7b)"
   ]
  },
  {
   "cell_type": "markdown",
   "id": "6c8dbfe3-635c-4f22-b769-7eadba549f7b",
   "metadata": {
    "id": "6c8dbfe3-635c-4f22-b769-7eadba549f7b"
   },
   "source": [
    "### [pix2struct](https://huggingface.co/google/pix2struct-textcaps-base)"
   ]
  },
  {
   "cell_type": "markdown",
   "id": "038aa2fb-c5d8-4710-8a31-393869fa9d4f",
   "metadata": {
    "id": "038aa2fb-c5d8-4710-8a31-393869fa9d4f"
   },
   "source": [
    "### проба [SpaceTimeGPT - A Spatiotemporal Video Captioning Model](https://huggingface.co/Neleac/SpaceTimeGPT#spacetimegpt---a-spatiotemporal-video-captioning-model)"
   ]
  },
  {
   "cell_type": "code",
   "execution_count": null,
   "id": "d2eca311-b31a-4b1b-bdbb-9d4f603a31c4",
   "metadata": {
    "id": "d2eca311-b31a-4b1b-bdbb-9d4f603a31c4",
    "outputId": "3eadd02e-2ea8-44b6-d7d0-943c989e902d"
   },
   "outputs": [
    {
     "name": "stderr",
     "output_type": "stream",
     "text": [
      "Could not find image processor class in the image processor config or the model config. Loading based on pattern matching with the model's feature extractor configuration. Please open a PR/issue to update `preprocessor_config.json` to use `image_processor_type` instead of `feature_extractor_type`. This warning will be removed in v4.40.\n"
     ]
    }
   ],
   "source": [
    "import av\n",
    "import numpy as np\n",
    "import torch\n",
    "from transformers import AutoImageProcessor, AutoTokenizer, VisionEncoderDecoderModel\n",
    "\n",
    "device = \"cuda\" if torch.cuda.is_available() else \"cpu\"\n",
    "\n",
    "# load pretrained processor, tokenizer, and model\n",
    "image_processor = AutoImageProcessor.from_pretrained(\"MCG-NJU/videomae-base\")\n",
    "tokenizer = AutoTokenizer.from_pretrained(\"gpt2\")\n",
    "model = VisionEncoderDecoderModel.from_pretrained(\"Neleac/timesformer-gpt2-video-captioning\").to(device)"
   ]
  },
  {
   "cell_type": "code",
   "execution_count": null,
   "id": "75fcc705-7e88-4c53-a199-c5c3be1e2928",
   "metadata": {
    "colab": {
     "referenced_widgets": [
      "ea09c66a6c504518a635f6f94c6f0681"
     ]
    },
    "id": "75fcc705-7e88-4c53-a199-c5c3be1e2928",
    "outputId": "6e7c702c-45be-4c56-a0f4-bf0443f11ce4",
    "scrolled": true
   },
   "outputs": [
    {
     "data": {
      "application/vnd.jupyter.widget-view+json": {
       "model_id": "ea09c66a6c504518a635f6f94c6f0681",
       "version_major": 2,
       "version_minor": 0
      },
      "text/plain": [
       "  0%|          | 0/20 [00:00<?, ?it/s]"
      ]
     },
     "metadata": {},
     "output_type": "display_data"
    },
    {
     "ename": "RuntimeError",
     "evalue": "shape '[1, 5, 14, 8, 768]' is invalid for input of size 451584",
     "output_type": "error",
     "traceback": [
      "\u001b[0;31m---------------------------------------------------------------------------\u001b[0m",
      "\u001b[0;31mRuntimeError\u001b[0m                              Traceback (most recent call last)",
      "Cell \u001b[0;32mIn[97], line 29\u001b[0m\n\u001b[1;32m     23\u001b[0m gen_kwargs \u001b[38;5;241m=\u001b[39m {\n\u001b[1;32m     24\u001b[0m     \u001b[38;5;124m\"\u001b[39m\u001b[38;5;124mmin_length\u001b[39m\u001b[38;5;124m\"\u001b[39m: \u001b[38;5;241m0\u001b[39m, \n\u001b[1;32m     25\u001b[0m     \u001b[38;5;124m\"\u001b[39m\u001b[38;5;124mmax_length\u001b[39m\u001b[38;5;124m\"\u001b[39m: \u001b[38;5;241m100\u001b[39m, \n\u001b[1;32m     26\u001b[0m     \u001b[38;5;124m\"\u001b[39m\u001b[38;5;124mnum_beams\u001b[39m\u001b[38;5;124m\"\u001b[39m: \u001b[38;5;241m4\u001b[39m,\n\u001b[1;32m     27\u001b[0m }\n\u001b[1;32m     28\u001b[0m pixel_values \u001b[38;5;241m=\u001b[39m image_processor(frames, return_tensors\u001b[38;5;241m=\u001b[39m\u001b[38;5;124m\"\u001b[39m\u001b[38;5;124mpt\u001b[39m\u001b[38;5;124m\"\u001b[39m)\u001b[38;5;241m.\u001b[39mpixel_values\u001b[38;5;241m.\u001b[39mto(device)\n\u001b[0;32m---> 29\u001b[0m tokens \u001b[38;5;241m=\u001b[39m model\u001b[38;5;241m.\u001b[39mgenerate(pixel_values, \u001b[38;5;241m*\u001b[39m\u001b[38;5;241m*\u001b[39mgen_kwargs)\n\u001b[1;32m     30\u001b[0m caption \u001b[38;5;241m=\u001b[39m tokenizer\u001b[38;5;241m.\u001b[39mbatch_decode(tokens, skip_special_tokens\u001b[38;5;241m=\u001b[39m\u001b[38;5;28;01mTrue\u001b[39;00m)[\u001b[38;5;241m0\u001b[39m]\n\u001b[1;32m     31\u001b[0m video_captions\u001b[38;5;241m.\u001b[39mappend(caption)\n",
      "File \u001b[0;32m/opt/anaconda3/lib/python3.11/site-packages/torch/utils/_contextlib.py:115\u001b[0m, in \u001b[0;36mcontext_decorator.<locals>.decorate_context\u001b[0;34m(*args, **kwargs)\u001b[0m\n\u001b[1;32m    112\u001b[0m \u001b[38;5;129m@functools\u001b[39m\u001b[38;5;241m.\u001b[39mwraps(func)\n\u001b[1;32m    113\u001b[0m \u001b[38;5;28;01mdef\u001b[39;00m \u001b[38;5;21mdecorate_context\u001b[39m(\u001b[38;5;241m*\u001b[39margs, \u001b[38;5;241m*\u001b[39m\u001b[38;5;241m*\u001b[39mkwargs):\n\u001b[1;32m    114\u001b[0m     \u001b[38;5;28;01mwith\u001b[39;00m ctx_factory():\n\u001b[0;32m--> 115\u001b[0m         \u001b[38;5;28;01mreturn\u001b[39;00m func(\u001b[38;5;241m*\u001b[39margs, \u001b[38;5;241m*\u001b[39m\u001b[38;5;241m*\u001b[39mkwargs)\n",
      "File \u001b[0;32m/opt/anaconda3/lib/python3.11/site-packages/transformers/generation/utils.py:1393\u001b[0m, in \u001b[0;36mGenerationMixin.generate\u001b[0;34m(self, inputs, generation_config, logits_processor, stopping_criteria, prefix_allowed_tokens_fn, synced_gpus, assistant_model, streamer, negative_prompt_ids, negative_prompt_attention_mask, **kwargs)\u001b[0m\n\u001b[1;32m   1385\u001b[0m         logger\u001b[38;5;241m.\u001b[39mwarning(\n\u001b[1;32m   1386\u001b[0m             \u001b[38;5;124m\"\u001b[39m\u001b[38;5;124mA decoder-only architecture is being used, but right-padding was detected! For correct \u001b[39m\u001b[38;5;124m\"\u001b[39m\n\u001b[1;32m   1387\u001b[0m             \u001b[38;5;124m\"\u001b[39m\u001b[38;5;124mgeneration results, please set `padding_side=\u001b[39m\u001b[38;5;124m'\u001b[39m\u001b[38;5;124mleft\u001b[39m\u001b[38;5;124m'\u001b[39m\u001b[38;5;124m` when initializing the tokenizer.\u001b[39m\u001b[38;5;124m\"\u001b[39m\n\u001b[1;32m   1388\u001b[0m         )\n\u001b[1;32m   1390\u001b[0m \u001b[38;5;28;01mif\u001b[39;00m \u001b[38;5;28mself\u001b[39m\u001b[38;5;241m.\u001b[39mconfig\u001b[38;5;241m.\u001b[39mis_encoder_decoder \u001b[38;5;129;01mand\u001b[39;00m \u001b[38;5;124m\"\u001b[39m\u001b[38;5;124mencoder_outputs\u001b[39m\u001b[38;5;124m\"\u001b[39m \u001b[38;5;129;01mnot\u001b[39;00m \u001b[38;5;129;01min\u001b[39;00m model_kwargs:\n\u001b[1;32m   1391\u001b[0m     \u001b[38;5;66;03m# if model is encoder decoder encoder_outputs are created\u001b[39;00m\n\u001b[1;32m   1392\u001b[0m     \u001b[38;5;66;03m# and added to `model_kwargs`\u001b[39;00m\n\u001b[0;32m-> 1393\u001b[0m     model_kwargs \u001b[38;5;241m=\u001b[39m \u001b[38;5;28mself\u001b[39m\u001b[38;5;241m.\u001b[39m_prepare_encoder_decoder_kwargs_for_generation(\n\u001b[1;32m   1394\u001b[0m         inputs_tensor, model_kwargs, model_input_name\n\u001b[1;32m   1395\u001b[0m     )\n\u001b[1;32m   1397\u001b[0m \u001b[38;5;66;03m# 5. Prepare `input_ids` which will be used for auto-regressive generation\u001b[39;00m\n\u001b[1;32m   1398\u001b[0m \u001b[38;5;28;01mif\u001b[39;00m \u001b[38;5;28mself\u001b[39m\u001b[38;5;241m.\u001b[39mconfig\u001b[38;5;241m.\u001b[39mis_encoder_decoder:\n",
      "File \u001b[0;32m/opt/anaconda3/lib/python3.11/site-packages/transformers/generation/utils.py:503\u001b[0m, in \u001b[0;36mGenerationMixin._prepare_encoder_decoder_kwargs_for_generation\u001b[0;34m(self, inputs_tensor, model_kwargs, model_input_name)\u001b[0m\n\u001b[1;32m    501\u001b[0m encoder_kwargs[\u001b[38;5;124m\"\u001b[39m\u001b[38;5;124mreturn_dict\u001b[39m\u001b[38;5;124m\"\u001b[39m] \u001b[38;5;241m=\u001b[39m \u001b[38;5;28;01mTrue\u001b[39;00m\n\u001b[1;32m    502\u001b[0m encoder_kwargs[model_input_name] \u001b[38;5;241m=\u001b[39m inputs_tensor\n\u001b[0;32m--> 503\u001b[0m model_kwargs[\u001b[38;5;124m\"\u001b[39m\u001b[38;5;124mencoder_outputs\u001b[39m\u001b[38;5;124m\"\u001b[39m]: ModelOutput \u001b[38;5;241m=\u001b[39m encoder(\u001b[38;5;241m*\u001b[39m\u001b[38;5;241m*\u001b[39mencoder_kwargs)\n\u001b[1;32m    505\u001b[0m \u001b[38;5;28;01mreturn\u001b[39;00m model_kwargs\n",
      "File \u001b[0;32m/opt/anaconda3/lib/python3.11/site-packages/torch/nn/modules/module.py:1511\u001b[0m, in \u001b[0;36mModule._wrapped_call_impl\u001b[0;34m(self, *args, **kwargs)\u001b[0m\n\u001b[1;32m   1509\u001b[0m     \u001b[38;5;28;01mreturn\u001b[39;00m \u001b[38;5;28mself\u001b[39m\u001b[38;5;241m.\u001b[39m_compiled_call_impl(\u001b[38;5;241m*\u001b[39margs, \u001b[38;5;241m*\u001b[39m\u001b[38;5;241m*\u001b[39mkwargs)  \u001b[38;5;66;03m# type: ignore[misc]\u001b[39;00m\n\u001b[1;32m   1510\u001b[0m \u001b[38;5;28;01melse\u001b[39;00m:\n\u001b[0;32m-> 1511\u001b[0m     \u001b[38;5;28;01mreturn\u001b[39;00m \u001b[38;5;28mself\u001b[39m\u001b[38;5;241m.\u001b[39m_call_impl(\u001b[38;5;241m*\u001b[39margs, \u001b[38;5;241m*\u001b[39m\u001b[38;5;241m*\u001b[39mkwargs)\n",
      "File \u001b[0;32m/opt/anaconda3/lib/python3.11/site-packages/torch/nn/modules/module.py:1520\u001b[0m, in \u001b[0;36mModule._call_impl\u001b[0;34m(self, *args, **kwargs)\u001b[0m\n\u001b[1;32m   1515\u001b[0m \u001b[38;5;66;03m# If we don't have any hooks, we want to skip the rest of the logic in\u001b[39;00m\n\u001b[1;32m   1516\u001b[0m \u001b[38;5;66;03m# this function, and just call forward.\u001b[39;00m\n\u001b[1;32m   1517\u001b[0m \u001b[38;5;28;01mif\u001b[39;00m \u001b[38;5;129;01mnot\u001b[39;00m (\u001b[38;5;28mself\u001b[39m\u001b[38;5;241m.\u001b[39m_backward_hooks \u001b[38;5;129;01mor\u001b[39;00m \u001b[38;5;28mself\u001b[39m\u001b[38;5;241m.\u001b[39m_backward_pre_hooks \u001b[38;5;129;01mor\u001b[39;00m \u001b[38;5;28mself\u001b[39m\u001b[38;5;241m.\u001b[39m_forward_hooks \u001b[38;5;129;01mor\u001b[39;00m \u001b[38;5;28mself\u001b[39m\u001b[38;5;241m.\u001b[39m_forward_pre_hooks\n\u001b[1;32m   1518\u001b[0m         \u001b[38;5;129;01mor\u001b[39;00m _global_backward_pre_hooks \u001b[38;5;129;01mor\u001b[39;00m _global_backward_hooks\n\u001b[1;32m   1519\u001b[0m         \u001b[38;5;129;01mor\u001b[39;00m _global_forward_hooks \u001b[38;5;129;01mor\u001b[39;00m _global_forward_pre_hooks):\n\u001b[0;32m-> 1520\u001b[0m     \u001b[38;5;28;01mreturn\u001b[39;00m forward_call(\u001b[38;5;241m*\u001b[39margs, \u001b[38;5;241m*\u001b[39m\u001b[38;5;241m*\u001b[39mkwargs)\n\u001b[1;32m   1522\u001b[0m \u001b[38;5;28;01mtry\u001b[39;00m:\n\u001b[1;32m   1523\u001b[0m     result \u001b[38;5;241m=\u001b[39m \u001b[38;5;28;01mNone\u001b[39;00m\n",
      "File \u001b[0;32m/opt/anaconda3/lib/python3.11/site-packages/transformers/models/timesformer/modeling_timesformer.py:641\u001b[0m, in \u001b[0;36mTimesformerModel.forward\u001b[0;34m(self, pixel_values, output_attentions, output_hidden_states, return_dict)\u001b[0m\n\u001b[1;32m    637\u001b[0m return_dict \u001b[38;5;241m=\u001b[39m return_dict \u001b[38;5;28;01mif\u001b[39;00m return_dict \u001b[38;5;129;01mis\u001b[39;00m \u001b[38;5;129;01mnot\u001b[39;00m \u001b[38;5;28;01mNone\u001b[39;00m \u001b[38;5;28;01melse\u001b[39;00m \u001b[38;5;28mself\u001b[39m\u001b[38;5;241m.\u001b[39mconfig\u001b[38;5;241m.\u001b[39muse_return_dict\n\u001b[1;32m    639\u001b[0m embedding_output \u001b[38;5;241m=\u001b[39m \u001b[38;5;28mself\u001b[39m\u001b[38;5;241m.\u001b[39membeddings(pixel_values)\n\u001b[0;32m--> 641\u001b[0m encoder_outputs \u001b[38;5;241m=\u001b[39m \u001b[38;5;28mself\u001b[39m\u001b[38;5;241m.\u001b[39mencoder(\n\u001b[1;32m    642\u001b[0m     embedding_output,\n\u001b[1;32m    643\u001b[0m     output_attentions\u001b[38;5;241m=\u001b[39moutput_attentions,\n\u001b[1;32m    644\u001b[0m     output_hidden_states\u001b[38;5;241m=\u001b[39moutput_hidden_states,\n\u001b[1;32m    645\u001b[0m     return_dict\u001b[38;5;241m=\u001b[39mreturn_dict,\n\u001b[1;32m    646\u001b[0m )\n\u001b[1;32m    647\u001b[0m sequence_output \u001b[38;5;241m=\u001b[39m encoder_outputs[\u001b[38;5;241m0\u001b[39m]\n\u001b[1;32m    648\u001b[0m \u001b[38;5;28;01mif\u001b[39;00m \u001b[38;5;28mself\u001b[39m\u001b[38;5;241m.\u001b[39mlayernorm \u001b[38;5;129;01mis\u001b[39;00m \u001b[38;5;129;01mnot\u001b[39;00m \u001b[38;5;28;01mNone\u001b[39;00m:\n",
      "File \u001b[0;32m/opt/anaconda3/lib/python3.11/site-packages/torch/nn/modules/module.py:1511\u001b[0m, in \u001b[0;36mModule._wrapped_call_impl\u001b[0;34m(self, *args, **kwargs)\u001b[0m\n\u001b[1;32m   1509\u001b[0m     \u001b[38;5;28;01mreturn\u001b[39;00m \u001b[38;5;28mself\u001b[39m\u001b[38;5;241m.\u001b[39m_compiled_call_impl(\u001b[38;5;241m*\u001b[39margs, \u001b[38;5;241m*\u001b[39m\u001b[38;5;241m*\u001b[39mkwargs)  \u001b[38;5;66;03m# type: ignore[misc]\u001b[39;00m\n\u001b[1;32m   1510\u001b[0m \u001b[38;5;28;01melse\u001b[39;00m:\n\u001b[0;32m-> 1511\u001b[0m     \u001b[38;5;28;01mreturn\u001b[39;00m \u001b[38;5;28mself\u001b[39m\u001b[38;5;241m.\u001b[39m_call_impl(\u001b[38;5;241m*\u001b[39margs, \u001b[38;5;241m*\u001b[39m\u001b[38;5;241m*\u001b[39mkwargs)\n",
      "File \u001b[0;32m/opt/anaconda3/lib/python3.11/site-packages/torch/nn/modules/module.py:1520\u001b[0m, in \u001b[0;36mModule._call_impl\u001b[0;34m(self, *args, **kwargs)\u001b[0m\n\u001b[1;32m   1515\u001b[0m \u001b[38;5;66;03m# If we don't have any hooks, we want to skip the rest of the logic in\u001b[39;00m\n\u001b[1;32m   1516\u001b[0m \u001b[38;5;66;03m# this function, and just call forward.\u001b[39;00m\n\u001b[1;32m   1517\u001b[0m \u001b[38;5;28;01mif\u001b[39;00m \u001b[38;5;129;01mnot\u001b[39;00m (\u001b[38;5;28mself\u001b[39m\u001b[38;5;241m.\u001b[39m_backward_hooks \u001b[38;5;129;01mor\u001b[39;00m \u001b[38;5;28mself\u001b[39m\u001b[38;5;241m.\u001b[39m_backward_pre_hooks \u001b[38;5;129;01mor\u001b[39;00m \u001b[38;5;28mself\u001b[39m\u001b[38;5;241m.\u001b[39m_forward_hooks \u001b[38;5;129;01mor\u001b[39;00m \u001b[38;5;28mself\u001b[39m\u001b[38;5;241m.\u001b[39m_forward_pre_hooks\n\u001b[1;32m   1518\u001b[0m         \u001b[38;5;129;01mor\u001b[39;00m _global_backward_pre_hooks \u001b[38;5;129;01mor\u001b[39;00m _global_backward_hooks\n\u001b[1;32m   1519\u001b[0m         \u001b[38;5;129;01mor\u001b[39;00m _global_forward_hooks \u001b[38;5;129;01mor\u001b[39;00m _global_forward_pre_hooks):\n\u001b[0;32m-> 1520\u001b[0m     \u001b[38;5;28;01mreturn\u001b[39;00m forward_call(\u001b[38;5;241m*\u001b[39margs, \u001b[38;5;241m*\u001b[39m\u001b[38;5;241m*\u001b[39mkwargs)\n\u001b[1;32m   1522\u001b[0m \u001b[38;5;28;01mtry\u001b[39;00m:\n\u001b[1;32m   1523\u001b[0m     result \u001b[38;5;241m=\u001b[39m \u001b[38;5;28;01mNone\u001b[39;00m\n",
      "File \u001b[0;32m/opt/anaconda3/lib/python3.11/site-packages/transformers/models/timesformer/modeling_timesformer.py:448\u001b[0m, in \u001b[0;36mTimesformerEncoder.forward\u001b[0;34m(self, hidden_states, output_attentions, output_hidden_states, return_dict)\u001b[0m\n\u001b[1;32m    442\u001b[0m     layer_outputs \u001b[38;5;241m=\u001b[39m \u001b[38;5;28mself\u001b[39m\u001b[38;5;241m.\u001b[39m_gradient_checkpointing_func(\n\u001b[1;32m    443\u001b[0m         layer_module\u001b[38;5;241m.\u001b[39m\u001b[38;5;21m__call__\u001b[39m,\n\u001b[1;32m    444\u001b[0m         hidden_states,\n\u001b[1;32m    445\u001b[0m         output_attentions,\n\u001b[1;32m    446\u001b[0m     )\n\u001b[1;32m    447\u001b[0m \u001b[38;5;28;01melse\u001b[39;00m:\n\u001b[0;32m--> 448\u001b[0m     layer_outputs \u001b[38;5;241m=\u001b[39m layer_module(hidden_states, output_attentions)\n\u001b[1;32m    450\u001b[0m hidden_states \u001b[38;5;241m=\u001b[39m layer_outputs[\u001b[38;5;241m0\u001b[39m]\n\u001b[1;32m    452\u001b[0m \u001b[38;5;28;01mif\u001b[39;00m output_attentions:\n",
      "File \u001b[0;32m/opt/anaconda3/lib/python3.11/site-packages/torch/nn/modules/module.py:1511\u001b[0m, in \u001b[0;36mModule._wrapped_call_impl\u001b[0;34m(self, *args, **kwargs)\u001b[0m\n\u001b[1;32m   1509\u001b[0m     \u001b[38;5;28;01mreturn\u001b[39;00m \u001b[38;5;28mself\u001b[39m\u001b[38;5;241m.\u001b[39m_compiled_call_impl(\u001b[38;5;241m*\u001b[39margs, \u001b[38;5;241m*\u001b[39m\u001b[38;5;241m*\u001b[39mkwargs)  \u001b[38;5;66;03m# type: ignore[misc]\u001b[39;00m\n\u001b[1;32m   1510\u001b[0m \u001b[38;5;28;01melse\u001b[39;00m:\n\u001b[0;32m-> 1511\u001b[0m     \u001b[38;5;28;01mreturn\u001b[39;00m \u001b[38;5;28mself\u001b[39m\u001b[38;5;241m.\u001b[39m_call_impl(\u001b[38;5;241m*\u001b[39margs, \u001b[38;5;241m*\u001b[39m\u001b[38;5;241m*\u001b[39mkwargs)\n",
      "File \u001b[0;32m/opt/anaconda3/lib/python3.11/site-packages/torch/nn/modules/module.py:1520\u001b[0m, in \u001b[0;36mModule._call_impl\u001b[0;34m(self, *args, **kwargs)\u001b[0m\n\u001b[1;32m   1515\u001b[0m \u001b[38;5;66;03m# If we don't have any hooks, we want to skip the rest of the logic in\u001b[39;00m\n\u001b[1;32m   1516\u001b[0m \u001b[38;5;66;03m# this function, and just call forward.\u001b[39;00m\n\u001b[1;32m   1517\u001b[0m \u001b[38;5;28;01mif\u001b[39;00m \u001b[38;5;129;01mnot\u001b[39;00m (\u001b[38;5;28mself\u001b[39m\u001b[38;5;241m.\u001b[39m_backward_hooks \u001b[38;5;129;01mor\u001b[39;00m \u001b[38;5;28mself\u001b[39m\u001b[38;5;241m.\u001b[39m_backward_pre_hooks \u001b[38;5;129;01mor\u001b[39;00m \u001b[38;5;28mself\u001b[39m\u001b[38;5;241m.\u001b[39m_forward_hooks \u001b[38;5;129;01mor\u001b[39;00m \u001b[38;5;28mself\u001b[39m\u001b[38;5;241m.\u001b[39m_forward_pre_hooks\n\u001b[1;32m   1518\u001b[0m         \u001b[38;5;129;01mor\u001b[39;00m _global_backward_pre_hooks \u001b[38;5;129;01mor\u001b[39;00m _global_backward_hooks\n\u001b[1;32m   1519\u001b[0m         \u001b[38;5;129;01mor\u001b[39;00m _global_forward_hooks \u001b[38;5;129;01mor\u001b[39;00m _global_forward_pre_hooks):\n\u001b[0;32m-> 1520\u001b[0m     \u001b[38;5;28;01mreturn\u001b[39;00m forward_call(\u001b[38;5;241m*\u001b[39margs, \u001b[38;5;241m*\u001b[39m\u001b[38;5;241m*\u001b[39mkwargs)\n\u001b[1;32m   1522\u001b[0m \u001b[38;5;28;01mtry\u001b[39;00m:\n\u001b[1;32m   1523\u001b[0m     result \u001b[38;5;241m=\u001b[39m \u001b[38;5;28;01mNone\u001b[39;00m\n",
      "File \u001b[0;32m/opt/anaconda3/lib/python3.11/site-packages/transformers/models/timesformer/modeling_timesformer.py:354\u001b[0m, in \u001b[0;36mTimesformerLayer.forward\u001b[0;34m(self, hidden_states, output_attentions)\u001b[0m\n\u001b[1;32m    351\u001b[0m \u001b[38;5;28;01melif\u001b[39;00m \u001b[38;5;28mself\u001b[39m\u001b[38;5;241m.\u001b[39mattention_type \u001b[38;5;241m==\u001b[39m \u001b[38;5;124m\"\u001b[39m\u001b[38;5;124mdivided_space_time\u001b[39m\u001b[38;5;124m\"\u001b[39m:\n\u001b[1;32m    352\u001b[0m     \u001b[38;5;66;03m# Temporal\u001b[39;00m\n\u001b[1;32m    353\u001b[0m     temporal_embedding \u001b[38;5;241m=\u001b[39m hidden_states[:, \u001b[38;5;241m1\u001b[39m:, :]\n\u001b[0;32m--> 354\u001b[0m     temporal_embedding \u001b[38;5;241m=\u001b[39m temporal_embedding\u001b[38;5;241m.\u001b[39mreshape(\n\u001b[1;32m    355\u001b[0m         batch_size, num_patch_height, num_patch_width, num_frames, temporal_embedding\u001b[38;5;241m.\u001b[39mshape[\u001b[38;5;241m2\u001b[39m]\n\u001b[1;32m    356\u001b[0m     )\u001b[38;5;241m.\u001b[39mreshape(batch_size \u001b[38;5;241m*\u001b[39m num_patch_height \u001b[38;5;241m*\u001b[39m num_patch_width, num_frames, temporal_embedding\u001b[38;5;241m.\u001b[39mshape[\u001b[38;5;241m2\u001b[39m])\n\u001b[1;32m    358\u001b[0m     temporal_attention_outputs \u001b[38;5;241m=\u001b[39m \u001b[38;5;28mself\u001b[39m\u001b[38;5;241m.\u001b[39mtemporal_attention(\n\u001b[1;32m    359\u001b[0m         \u001b[38;5;28mself\u001b[39m\u001b[38;5;241m.\u001b[39mtemporal_layernorm(temporal_embedding),\n\u001b[1;32m    360\u001b[0m     )\n\u001b[1;32m    361\u001b[0m     attention_output \u001b[38;5;241m=\u001b[39m temporal_attention_outputs[\u001b[38;5;241m0\u001b[39m]\n",
      "\u001b[0;31mRuntimeError\u001b[0m: shape '[1, 5, 14, 8, 768]' is invalid for input of size 451584"
     ]
    }
   ],
   "source": [
    "video_captions = []\n",
    "for video_path in tqdm_notebook(sorted_video_files[:20]):\n",
    "    # load video\n",
    "    container = av.open(video_path)\n",
    "\n",
    "    # extract evenly spaced frames from video\n",
    "    ###\n",
    "    # seg_len = container.streams.video[0].frames\n",
    "    # clip_len = model.config.encoder.num_frames\n",
    "    # indices = set(np.linspace(0, seg_len, num=clip_len, endpoint=False).astype(np.int64))\n",
    "\n",
    "    frames = []\n",
    "    container.seek(0)\n",
    "    for i, frame in enumerate(container.decode(video=0)):\n",
    "        if i in indices:\n",
    "            frames.append(frame.to_ndarray(format=\"rgb24\"))\n",
    "\n",
    "    # generate caption\n",
    "    gen_kwargs = {\n",
    "        \"min_length\": 0,\n",
    "        \"max_length\": 100,\n",
    "        \"num_beams\": 4,\n",
    "    }\n",
    "    pixel_values = image_processor(frames, return_tensors=\"pt\").pixel_values.to(device)\n",
    "    tokens = model.generate(pixel_values, **gen_kwargs)\n",
    "    caption = tokenizer.batch_decode(tokens, skip_special_tokens=True)[0]\n",
    "    video_captions.append(caption)"
   ]
  },
  {
   "cell_type": "code",
   "execution_count": null,
   "id": "863d2752-5e22-4cbd-886e-e4ddedc591b8",
   "metadata": {
    "id": "863d2752-5e22-4cbd-886e-e4ddedc591b8",
    "outputId": "b7f2ef30-8ba2-48d2-cdcb-5ac645c6688d"
   },
   "outputs": [
    {
     "data": {
      "text/plain": [
       "[140, 281, 421]"
      ]
     },
     "execution_count": 100,
     "metadata": {},
     "output_type": "execute_result"
    }
   ],
   "source": [
    "indices"
   ]
  },
  {
   "cell_type": "code",
   "execution_count": null,
   "id": "6f5cb942-17b9-41ec-896a-d82fa2bb521c",
   "metadata": {
    "id": "6f5cb942-17b9-41ec-896a-d82fa2bb521c",
    "outputId": "952058ca-01a1-437d-e535-3be4ebc199a8"
   },
   "outputs": [
    {
     "data": {
      "text/plain": [
       "'A man and a woman are playing a video game together.'"
      ]
     },
     "execution_count": 96,
     "metadata": {},
     "output_type": "execute_result"
    }
   ],
   "source": [
    "caption"
   ]
  },
  {
   "cell_type": "code",
   "execution_count": null,
   "id": "1870cd50-b445-423f-80aa-52f19b844fd1",
   "metadata": {
    "id": "1870cd50-b445-423f-80aa-52f19b844fd1"
   },
   "outputs": [],
   "source": []
  },
  {
   "cell_type": "code",
   "execution_count": null,
   "id": "07478b2a-b6df-46d6-b04b-f47d6a19fcb0",
   "metadata": {
    "id": "07478b2a-b6df-46d6-b04b-f47d6a19fcb0",
    "outputId": "3d029af7-3965-4a74-a543-a711c6867df2",
    "scrolled": true
   },
   "outputs": [
    {
     "name": "stdout",
     "output_type": "stream",
     "text": [
      "link:https://cdn-st.rutubelist.ru/media/b0/e9/ef285e0241139fc611318ed33071/fhd.mp4\n",
      "description:#нарезкистримов , #dota2 , #cs2 , #fifa23 , #minecraft , #майнкрафт , #геншин , #genshin\n",
      "video_caption:A group of people are playing a game of soccer on a field.\n",
      "--------------------\n",
      "link:https://cdn-st.rutubelist.ru/media/39/6c/b31bc6864bef9d8a96814f1822ca/fhd.mp4\n",
      "description:🤫НЕ ВВОДИ ЭТУ КОМАНДУ В РОБЛОКС ! #shorts #roblox #роблокс\n",
      "video_caption:A man and a woman are standing in front of a wall and talking to each other.\n",
      "--------------------\n",
      "link:https://cdn-st.rutubelist.ru/media/e9/e0/b47a9df14a5e97942715e5e705c0/fhd.mp4\n",
      "description:#boobs , #красивыедевушки , #ass\n",
      "video_caption:A young woman and a young man are posing for a picture.\n",
      "--------------------\n",
      "link:https://cdn-st.rutubelist.ru/media/87/43/b11df3f344d0af773aac81e410ee/fhd.mp4\n",
      "description:nan\n",
      "video_caption:A woman is sitting at a table holding a card and talking about it.\n",
      "--------------------\n",
      "link:https://cdn-st.rutubelist.ru/media/d1/e7/642dc2194fcdb69664f832d5f2dd/fhd.mp4\n",
      "description:nan\n",
      "video_caption:A man is giving a tutorial on how to properly tie a tie.\n",
      "--------------------\n",
      "link:https://cdn-st.rutubelist.ru/media/e2/97/f9164f8a41479f961d64842154a7/fhd.mp4\n",
      "description:nan\n",
      "video_caption:A group of girls are sitting on the floor and doing tricks with their feet.\n",
      "--------------------\n",
      "link:https://cdn-st.rutubelist.ru/media/0f/48/8a1ff7324073947a31e80f71d001/fhd.mp4\n",
      "description:#diy #постановка #юмор #комедия\n",
      "video_caption:A young man is shown using a razor to shave his face.\n",
      "--------------------\n",
      "link:https://cdn-st.rutubelist.ru/media/19/9c/98de3b4a4d9e83cb5dda828f899e/fhd.mp4\n",
      "description:nan\n",
      "video_caption:A person is flying a flying kite in the sky.\n",
      "--------------------\n",
      "link:https://cdn-st.rutubelist.ru/media/bf/ee/85fb6b80491db79e8baebe5c9d80/fhd.mp4\n",
      "description:#образ #lookbook #показ #неделямоды #капсула #ошибкивстиле #селебрити #интервью #перевоплощения #обувь #кроссовки\n",
      "video_caption:A man demonstrates how to put on a pair of eyeglasses.\n",
      "--------------------\n",
      "link:https://cdn-st.rutubelist.ru/media/fc/73/d86600d04e519178a55774dfe65e/fhd.mp4\n",
      "description:#путешествия #journey #туризм\n",
      "video_caption:A group of people are playing a game of karate in a parking lot.\n",
      "--------------------\n",
      "link:https://cdn-st.rutubelist.ru/media/17/ae/a36f6f824fa1a67496d299c8ac6e/fhd.mp4\n",
      "description:#образ #lookbook #показ #неделямоды #капсула #ошибкивстиле #селебрити #интервью #перевоплощения #обувь #кроссовки\n",
      "video_caption:A woman is giving a tutorial on how to put on a ponytail.\n",
      "--------------------\n",
      "link:https://cdn-st.rutubelist.ru/media/4b/54/0a36f96d4030a0f6ad1b6d7f4902/fhd.mp4\n",
      "description:#красивыедевушки #bigbooty #грудь\n",
      "video_caption:A woman is standing in front of a wall and then she bends down and bends forward.\n",
      "--------------------\n",
      "link:https://cdn-st.rutubelist.ru/media/8c/58/96608b7a4834883ea2dd1c884c63/fhd.mp4\n",
      "description:📍 •Бейрут / Beirut 🏔️\n",
      "• Ливан / Lebanon 🇱🇧 \n",
      "\n",
      "By: @rassal_kroft\n",
      "video_caption:A person jumps off of a cliff into the water below.\n",
      "--------------------\n",
      "link:https://cdn-st.rutubelist.ru/media/2f/4f/6b969c8c4a2aafcfca057b2a99a2/fhd.mp4\n",
      "description:#спорт #наспорте #футбол #football #роналду\n",
      "video_caption:A man is sitting in front of a camera and talking to the camera.\n",
      "--------------------\n",
      "link:https://cdn-st.rutubelist.ru/media/9f/ca/d5d0dedf44418e1a2b7d5cebe0e8/fhd.mp4\n",
      "description:#красивыедевушки #hotgirl #грудь #boobs\n",
      "video_caption:A woman is sitting in front of a mirror and is talking to someone.\n",
      "--------------------\n",
      "link:https://cdn-st.rutubelist.ru/media/a4/d2/8e9737fd445faf0a20151f8c39f5/fhd.mp4\n",
      "description:nan\n",
      "video_caption:A man and a woman are playing a video game on a stage.\n",
      "--------------------\n",
      "link:https://cdn-st.rutubelist.ru/media/a3/9f/2352de2748b3868df583d51a402b/fhd.mp4\n",
      "description:#спорт #наспорте #здоровье #совет #советы\n",
      "video_caption:A man is walking in the middle of a busy street.\n",
      "--------------------\n",
      "link:https://cdn-st.rutubelist.ru/media/ac/08/3604604b4b8b89e34db1e0e91863/fhd.mp4\n",
      "description:#красивыедевушки #hotgirl #попа #ass #грудь #boobs #йога\n",
      "video_caption:A woman is lying on her back on the ground while another woman kneels next to her.\n",
      "--------------------\n",
      "link:https://cdn-st.rutubelist.ru/media/5a/35/65c80c3047d08634922cb22f1fee/fhd.mp4\n",
      "description:#красивыедевушки #грудь #boobs #попа #ass #бикини #lingerie\n",
      "video_caption:A woman is showing how to properly wrap a woman's leg.\n",
      "--------------------\n",
      "link:https://cdn-st.rutubelist.ru/media/03/eb/47329b1943349255453b6cec625d/fhd.mp4\n",
      "description:#уходзакожей #уходзасобой #бьютирутина #бьюти #ноготочки #маникюр #прическа #укладка #уход #бьютирутина\n",
      "video_caption:A person is demonstrating how to use a credit card in a store.\n",
      "--------------------\n"
     ]
    }
   ],
   "source": [
    "for index in range(len(video_captions)):\n",
    "    row = df.iloc[index]\n",
    "    print(f'link:{row.link}')\n",
    "    print(f'description:{row.description}')\n",
    "    print(f'video_caption:{video_captions[index]}')\n",
    "    print(20*'-')"
   ]
  },
  {
   "cell_type": "markdown",
   "id": "5eb3acba-6845-4240-a2a6-a77b5707d0e7",
   "metadata": {
    "id": "5eb3acba-6845-4240-a2a6-a77b5707d0e7"
   },
   "source": [
    "### [movie-picture-captioning](https://huggingface.co/dumperize/movie-picture-captioning)"
   ]
  },
  {
   "cell_type": "code",
   "execution_count": null,
   "id": "0c3e7f78-099a-432c-902c-24f77bacaa4e",
   "metadata": {
    "id": "0c3e7f78-099a-432c-902c-24f77bacaa4e"
   },
   "outputs": [],
   "source": [
    "from PIL import Image\n",
    "import torch\n",
    "from transformers import AutoTokenizer, ViTFeatureExtractor, VisionEncoderDecoderModel\n",
    "import av"
   ]
  },
  {
   "cell_type": "code",
   "execution_count": null,
   "id": "dbf218dc-0db6-4040-83ef-007d9d6c3f6d",
   "metadata": {
    "colab": {
     "referenced_widgets": [
      "15f007f4be5342c9a9b28683159e6d70",
      "22697f88ef2f4ddd9a80691f253b8aa9",
      "97d5124e365449929fc29d6f2297998c",
      "4db5b793fc5d4cf094cb0d94540e6220",
      "762215c853ec4d118663a201595dab88",
      "0d7173df3675491c9778b215c0c253f7"
     ]
    },
    "id": "dbf218dc-0db6-4040-83ef-007d9d6c3f6d",
    "outputId": "02fdf0c4-230d-41e4-f52b-e648fc9e6a61"
   },
   "outputs": [
    {
     "data": {
      "application/vnd.jupyter.widget-view+json": {
       "model_id": "15f007f4be5342c9a9b28683159e6d70",
       "version_major": 2,
       "version_minor": 0
      },
      "text/plain": [
       "tokenizer_config.json:   0%|          | 0.00/579 [00:00<?, ?B/s]"
      ]
     },
     "metadata": {},
     "output_type": "display_data"
    },
    {
     "data": {
      "application/vnd.jupyter.widget-view+json": {
       "model_id": "22697f88ef2f4ddd9a80691f253b8aa9",
       "version_major": 2,
       "version_minor": 0
      },
      "text/plain": [
       "vocab.txt:   0%|          | 0.00/1.65M [00:00<?, ?B/s]"
      ]
     },
     "metadata": {},
     "output_type": "display_data"
    },
    {
     "data": {
      "application/vnd.jupyter.widget-view+json": {
       "model_id": "97d5124e365449929fc29d6f2297998c",
       "version_major": 2,
       "version_minor": 0
      },
      "text/plain": [
       "special_tokens_map.json:   0%|          | 0.00/125 [00:00<?, ?B/s]"
      ]
     },
     "metadata": {},
     "output_type": "display_data"
    },
    {
     "data": {
      "application/vnd.jupyter.widget-view+json": {
       "model_id": "4db5b793fc5d4cf094cb0d94540e6220",
       "version_major": 2,
       "version_minor": 0
      },
      "text/plain": [
       "preprocessor_config.json:   0%|          | 0.00/228 [00:00<?, ?B/s]"
      ]
     },
     "metadata": {},
     "output_type": "display_data"
    },
    {
     "data": {
      "application/vnd.jupyter.widget-view+json": {
       "model_id": "762215c853ec4d118663a201595dab88",
       "version_major": 2,
       "version_minor": 0
      },
      "text/plain": [
       "config.json:   0%|          | 0.00/5.47k [00:00<?, ?B/s]"
      ]
     },
     "metadata": {},
     "output_type": "display_data"
    },
    {
     "data": {
      "application/vnd.jupyter.widget-view+json": {
       "model_id": "0d7173df3675491c9778b215c0c253f7",
       "version_major": 2,
       "version_minor": 0
      },
      "text/plain": [
       "pytorch_model.bin:   0%|          | 0.00/1.17G [00:00<?, ?B/s]"
      ]
     },
     "metadata": {},
     "output_type": "display_data"
    }
   ],
   "source": [
    "tokenizer = AutoTokenizer.from_pretrained(\"dumperize/movie-picture-captioning\")\n",
    "feature_extractor = ViTFeatureExtractor.from_pretrained(\"dumperize/movie-picture-captioning\")\n",
    "model = VisionEncoderDecoderModel.from_pretrained(\"dumperize/movie-picture-captioning\")"
   ]
  },
  {
   "cell_type": "code",
   "execution_count": null,
   "id": "db604522-d778-4356-9100-bde8d823dd77",
   "metadata": {
    "id": "db604522-d778-4356-9100-bde8d823dd77"
   },
   "outputs": [],
   "source": [
    "max_length = 128\n",
    "num_beams = 4\n",
    "gen_kwargs = {\"max_length\": max_length, \"num_beams\": num_beams}\n",
    "\n",
    "device = torch.device(\"cuda\" if torch.cuda.is_available() else \"cpu\")"
   ]
  },
  {
   "cell_type": "code",
   "execution_count": null,
   "id": "8f544eb0-c13f-4d93-b554-c74b164fb8d3",
   "metadata": {
    "colab": {
     "referenced_widgets": [
      "085ad439afb04ca2aab902a772b18a1f"
     ]
    },
    "id": "8f544eb0-c13f-4d93-b554-c74b164fb8d3",
    "outputId": "2696e7df-c4e6-4933-e0f3-62f783e46855"
   },
   "outputs": [
    {
     "data": {
      "application/vnd.jupyter.widget-view+json": {
       "model_id": "085ad439afb04ca2aab902a772b18a1f",
       "version_major": 2,
       "version_minor": 0
      },
      "text/plain": [
       "  0%|          | 0/5 [00:00<?, ?it/s]"
      ]
     },
     "metadata": {},
     "output_type": "display_data"
    }
   ],
   "source": [
    "video_captions = []\n",
    "for video_path in tqdm_notebook(sorted_video_files[:5]):\n",
    "    # load video\n",
    "    container = av.open(video_path)\n",
    "\n",
    "    # get fps (corrected approach)\n",
    "    fps = container.streams.video[0].average_rate.numerator / container.streams.video[0].average_rate.denominator\n",
    "\n",
    "    # extract frames at 25%, 50%, & 75%\n",
    "    seg_len = container.streams.video[0].frames  # total number of frames\n",
    "    indices = [int(0.25 * seg_len), int(0.5 * seg_len), int(0.75 * seg_len)]\n",
    "    frames = []\n",
    "\n",
    "    container.seek(0)\n",
    "    for i, frame in enumerate(container.decode(video=0)):\n",
    "        if i in indices:\n",
    "          frames.append(frame.to_ndarray(format=\"rgb24\"))\n",
    "    # generate caption\n",
    "    gen_kwargs = {\n",
    "        \"min_length\": 0,\n",
    "        \"max_length\": 100,\n",
    "        \"num_beams\": 4,\n",
    "    }\n",
    "\n",
    "    pixel_values = feature_extractor(images=frames, return_tensors=\"pt\").pixel_values\n",
    "    pixel_values = pixel_values.to(device)\n",
    "\n",
    "    output_ids = model.generate(pixel_values, **gen_kwargs)\n",
    "\n",
    "    preds = tokenizer.batch_decode(output_ids, skip_special_tokens=True)\n",
    "    caption = '|'.join([pred.strip() for pred in preds])\n",
    "    video_captions.append(caption)"
   ]
  },
  {
   "cell_type": "code",
   "execution_count": null,
   "id": "52ac2f50-4c50-477a-b255-345e4bc75b61",
   "metadata": {
    "id": "52ac2f50-4c50-477a-b255-345e4bc75b61",
    "outputId": "fea9ceb0-555f-487c-8e04-38a419c110cb"
   },
   "outputs": [
    {
     "name": "stdout",
     "output_type": "stream",
     "text": [
      "link:https://cdn-st.rutubelist.ru/media/b0/e9/ef285e0241139fc611318ed33071/fhd.mp4\n",
      "description:#нарезкистримов , #dota2 , #cs2 , #fifa23 , #minecraft , #майнкрафт , #геншин , #genshin\n",
      "video_caption:В основе сюжета фильма лежит история тренерской команды средней школы в парнях которого пятнадцатилетней давности, а тренер и герой фильма ( в прошлом - первая женщина - тренер ) Кэти, в настоящее время одинокий и помешанный на всю жизнь тренер. Кэти мечтает о спортивной карьере, но в итоге фильма попадает в руки бывшего тренера, а он, в итоге, меняет полностью свою жизнь.|В основе сюжета фильма лежит история игроков, помешанных на становлении легендарного вида спорта спорта. После несчастного случая во время игры в названием « Скрэбдинг », в 1992 году команда решает принять участие в чемпионате мира по футболу.|Фильм - портрет о том, как мы воображаем и изображаем смерть. Герои фильма живут в разных странах мира и ( в том числе и в России ). У каждого из нас есть своя история и свои правила и пути к воплощению в жизнь разных людей. И он Вот - вот будет сказать, что будет надо изменить, и пусть кто - то будет жить там и сейчас... удивительно, потому что в каждом из нас ( и без того ) воплощаются в жизнь результате катастрофы.\n",
      "--------------------\n",
      "link:https://cdn-st.rutubelist.ru/media/39/6c/b31bc6864bef9d8a96814f1822ca/fhd.mp4\n",
      "description:🤫НЕ ВВОДИ ЭТУ КОМАНДУ В РОБЛОКС ! #shorts #roblox #роблокс\n",
      "video_caption:В 2002 году трое американских солдат выполняют секретную миссию : вернуться в страну после ограбления банка, арестовать преступников и вернуть деньги, которые исчезли с каждым днем. Но когда они понимают, что не одни в чужом мире, то становятся заложниками, которым угрожает смерть.|Когда сиделка с ребенком на ночь убивает своего бойфренда, то оставляет его с собой в загородном доме. Не желая отпускать прошлое, она оставляет его умирать в пустыне. Но вскоре оказываются в настоящем, в мире, где все мы живем.|В постапокалиптическом мире будущего каждый человек думает о том, что он есть на стороне света. Ему придется столкнуться с безжалостным охотником за головами, в то время как его собственная семья находится на грани войны.\n",
      "--------------------\n",
      "link:https://cdn-st.rutubelist.ru/media/e9/e0/b47a9df14a5e97942715e5e705c0/fhd.mp4\n",
      "description:#boobs , #красивыедевушки , #ass\n",
      "video_caption:Тхэ - сок - невероятно популярный парень. Он работает менеджером в популярной газете, а по вечерам любит ходить с друзьями в церковь. Но никто не знает, что вот уже десять лет его бросила девушка, и он не может отказать ей и едет к ней домой. Через некоторое время девушка приезжает в новый район, чтобы навестить бывшего парня. Но на встрече она внезапно обнаруживает, что парень на самом деле не тот, за кого себя выдает.|История о двух девушках, которые были подругами ещё в школе. Но судьба разлучила их ещё крепкую любовь, а затем подружились вновь. Спустя много лет судьба снова сводит их лицом к лицу, когда одном из них становится известно о том, что у неё есть парень.|Совсем еще молодая и привлекательная молодая женщина, желающая сбежать от всего света в огромном мегаполисе. Но после того, как она встречает загадочного незнакомца, которому суждено перевернуть ее жизнь с ног на голову, молодая женщина отказывается от затеянного убийства.\n",
      "--------------------\n",
      "link:https://cdn-st.rutubelist.ru/media/87/43/b11df3f344d0af773aac81e410ee/fhd.mp4\n",
      "description:nan\n",
      "video_caption:Действие фильма разворачивается в маленьком городке. Жители городка счастливо живут в любви и согласии со своей властной матерью. Но жестокое прошлое всех местных жителей обернется для них катастрофой.|Действие фильма происходит в XIX веке. Мэри права, одна из самых богатых женщин Европы, обладает большой историей. Женщина страдает от неизлечимой болезни, в то время как ее родители, умирая от голода, доводят женщину до безумия. Ей приходится жить вместе с братом и маленькой сестрой в мрачном особняке.|Фильм рассказывает о жизни проблемной девочки Кати, русской женщины, оставшиеся сиротой. Катя живет в маленьком провинциальном городке, где только - что потеряла память. Когда - то ее мама, скрытная красавица Лена, умерла, и теперь ее жизнь скучна и однообразна. Девочка вместе с матерью живет в необыкновенной квартире вместе с отцом. Несмотря на то, что Лена очень богата, и жизнь ее полна хлопот. Девушке негде жить – нет, главное, что у нее есть друзья\n",
      "--------------------\n",
      "link:https://cdn-st.rutubelist.ru/media/d1/e7/642dc2194fcdb69664f832d5f2dd/fhd.mp4\n",
      "description:nan\n",
      "video_caption:Доктор Фостер обычно ведет себя как эгоистичная женщина, но когда однажды она встречает загадочного незнакомца, оказывается, что он не такой, каким казался сначала.|Сюжет разворачивается в Москве в новым уходящем году, когда писатель - неудачник Андрей в поисках вдохновения и новых друзей отправляется в путешествие по русской глубинке. Андрей ищет вдохновение и вдохновение, которое поможет ему преодолеть себя и свои страхи.|Скромная студентка вынуждена устроиться на работу в агентство, которое занимается выясняется, что новым местом её работы вскоре должен стать городок, который власти не воспринимают всерьез.\n",
      "--------------------\n"
     ]
    }
   ],
   "source": [
    "for index in range(len(sorted_video_files[:5])):\n",
    "    row = df.iloc[index]\n",
    "    print(f'link:{row.link}')\n",
    "    print(f'description:{row.description}')\n",
    "    print(f'video_caption:{video_captions[index]}')\n",
    "    print(20*'-')"
   ]
  },
  {
   "cell_type": "markdown",
   "id": "8d60317d-46d2-41ea-8b65-e48719418064",
   "metadata": {
    "id": "8d60317d-46d2-41ea-8b65-e48719418064"
   },
   "source": [
    "### проба моделей, которые достают текст из скринов"
   ]
  },
  {
   "cell_type": "markdown",
   "id": "95c26e8f-362c-4145-b800-bae8151b9057",
   "metadata": {
    "id": "95c26e8f-362c-4145-b800-bae8151b9057",
    "jp-MarkdownHeadingCollapsed": true
   },
   "source": [
    "### проба моделей audio2text [whishper hf link](https://huggingface.co/openai)"
   ]
  },
  {
   "cell_type": "code",
   "execution_count": null,
   "id": "afa15da9-d79a-4c2b-93b7-93b1505efb0d",
   "metadata": {
    "id": "afa15da9-d79a-4c2b-93b7-93b1505efb0d"
   },
   "outputs": [],
   "source": [
    "# !pip install"
   ]
  },
  {
   "cell_type": "code",
   "execution_count": null,
   "id": "59a73944-7036-4728-b92e-f71558339301",
   "metadata": {
    "id": "59a73944-7036-4728-b92e-f71558339301"
   },
   "outputs": [],
   "source": [
    "# !pip install moviepy"
   ]
  },
  {
   "cell_type": "code",
   "execution_count": null,
   "id": "9becec34-c905-4dc7-925d-0221646a9808",
   "metadata": {
    "id": "9becec34-c905-4dc7-925d-0221646a9808",
    "outputId": "36813edc-e5c2-4725-c94b-28baf05c67bf"
   },
   "outputs": [
    {
     "name": "stderr",
     "output_type": "stream",
     "text": [
      "                                                                                                                                                   \r"
     ]
    }
   ],
   "source": [
    "from moviepy.editor import VideoFileClip\n",
    "import whisper"
   ]
  },
  {
   "cell_type": "code",
   "execution_count": null,
   "id": "a8333e41-d03c-4c62-8c2b-d16d3d3e90d0",
   "metadata": {
    "id": "a8333e41-d03c-4c62-8c2b-d16d3d3e90d0",
    "outputId": "09a6a3a9-1c7a-4399-9a09-7a2894d307a2"
   },
   "outputs": [
    {
     "name": "stderr",
     "output_type": "stream",
     "text": [
      "chunk:  86%|████████████████████████████████████████████████████████████████████████████▉            | 351/406 [00:29<00:00, 1309.79it/s, now=None]"
     ]
    },
    {
     "name": "stdout",
     "output_type": "stream",
     "text": [
      "MoviePy - Writing audio in audio_files/0_b0_e9_ef285e0241139fc611318ed33071_fhd.mp3\n"
     ]
    },
    {
     "name": "stderr",
     "output_type": "stream",
     "text": [
      "\n",
      "chunk:   0%|                                                                                                     | 0/415 [00:00<?, ?it/s, now=None]\u001b[A\n",
      "chunk:  31%|███████████████████████████▏                                                             | 127/415 [00:00<00:00, 1269.30it/s, now=None]\u001b[A\n",
      "chunk:  79%|██████████████████████████████████████████████████████████████████████▏                  | 327/415 [00:00<00:00, 1698.87it/s, now=None]\u001b[A\n",
      "chunk:  86%|████████████████████████████████████████████████████████████████████████████▉            | 351/406 [00:29<00:00, 1309.79it/s, now=None]\u001b[A"
     ]
    },
    {
     "name": "stdout",
     "output_type": "stream",
     "text": [
      "MoviePy - Done.\n"
     ]
    },
    {
     "name": "stderr",
     "output_type": "stream",
     "text": [
      "chunk:  86%|████████████████████████████████████████████████████████████████████████████▉            | 351/406 [00:29<00:00, 1309.79it/s, now=None]"
     ]
    },
    {
     "name": "stdout",
     "output_type": "stream",
     "text": [
      "MoviePy - Writing audio in audio_files/1_39_6c_b31bc6864bef9d8a96814f1822ca_fhd.mp3\n"
     ]
    },
    {
     "name": "stderr",
     "output_type": "stream",
     "text": [
      "\n",
      "chunk:   0%|                                                                                                     | 0/415 [00:00<?, ?it/s, now=None]\u001b[A\n",
      "chunk:  29%|█████████████████████████▉                                                               | 121/415 [00:00<00:00, 1209.78it/s, now=None]\u001b[A\n",
      "chunk:  91%|████████████████████████████████████████████████████████████████████████████████▋        | 376/415 [00:00<00:00, 1978.68it/s, now=None]\u001b[A\n",
      "chunk:  86%|████████████████████████████████████████████████████████████████████████████▉            | 351/406 [00:29<00:00, 1309.79it/s, now=None]\u001b[A"
     ]
    },
    {
     "name": "stdout",
     "output_type": "stream",
     "text": [
      "MoviePy - Done.\n"
     ]
    },
    {
     "name": "stderr",
     "output_type": "stream",
     "text": [
      "chunk:  86%|████████████████████████████████████████████████████████████████████████████▉            | 351/406 [00:30<00:00, 1309.79it/s, now=None]"
     ]
    },
    {
     "name": "stdout",
     "output_type": "stream",
     "text": [
      "MoviePy - Writing audio in audio_files/2_e9_e0_b47a9df14a5e97942715e5e705c0_fhd.mp3\n"
     ]
    },
    {
     "name": "stderr",
     "output_type": "stream",
     "text": [
      "\n",
      "chunk:   0%|                                                                                                     | 0/242 [00:00<?, ?it/s, now=None]\u001b[A\n",
      "chunk:  52%|█████████████████████████████████████████████▉                                           | 125/242 [00:00<00:00, 1249.88it/s, now=None]\u001b[A\n",
      "chunk:  86%|████████████████████████████████████████████████████████████████████████████▉            | 351/406 [00:30<00:00, 1309.79it/s, now=None]\u001b[A"
     ]
    },
    {
     "name": "stdout",
     "output_type": "stream",
     "text": [
      "MoviePy - Done.\n"
     ]
    },
    {
     "name": "stderr",
     "output_type": "stream",
     "text": [
      "chunk:  86%|████████████████████████████████████████████████████████████████████████████▉            | 351/406 [00:30<00:00, 1309.79it/s, now=None]"
     ]
    },
    {
     "name": "stdout",
     "output_type": "stream",
     "text": [
      "MoviePy - Writing audio in audio_files/3_87_43_b11df3f344d0af773aac81e410ee_fhd.mp3\n"
     ]
    },
    {
     "name": "stderr",
     "output_type": "stream",
     "text": [
      "\n",
      "chunk:   0%|                                                                                                     | 0/856 [00:00<?, ?it/s, now=None]\u001b[A\n",
      "chunk:  14%|████████████▍                                                                            | 120/856 [00:00<00:00, 1199.70it/s, now=None]\u001b[A\n",
      "chunk:  37%|█████████████████████████████████▎                                                       | 320/856 [00:00<00:00, 1646.05it/s, now=None]\u001b[A\n",
      "chunk:  61%|██████████████████████████████████████████████████████▋                                  | 526/856 [00:00<00:00, 1807.49it/s, now=None]\u001b[A\n",
      "chunk:  85%|███████████████████████████████████████████████████████████████████████████▉             | 730/856 [00:00<00:00, 1879.33it/s, now=None]\u001b[A\n",
      "chunk:  86%|████████████████████████████████████████████████████████████████████████████▉            | 351/406 [00:31<00:00, 1309.79it/s, now=None]\u001b[A"
     ]
    },
    {
     "name": "stdout",
     "output_type": "stream",
     "text": [
      "MoviePy - Done.\n"
     ]
    },
    {
     "name": "stderr",
     "output_type": "stream",
     "text": [
      "chunk:  86%|████████████████████████████████████████████████████████████████████████████▉            | 351/406 [00:31<00:00, 1309.79it/s, now=None]"
     ]
    },
    {
     "name": "stdout",
     "output_type": "stream",
     "text": [
      "MoviePy - Writing audio in audio_files/4_d1_e7_642dc2194fcdb69664f832d5f2dd_fhd.mp3\n"
     ]
    },
    {
     "name": "stderr",
     "output_type": "stream",
     "text": [
      "\n",
      "chunk:   0%|                                                                                                     | 0/403 [00:00<?, ?it/s, now=None]\u001b[A\n",
      "chunk:  29%|█████████████████████████▌                                                               | 116/403 [00:00<00:00, 1085.56it/s, now=None]\u001b[A\n",
      "chunk:  86%|████████████████████████████████████████████████████████████████████████████▉            | 351/406 [00:31<00:00, 1309.79it/s, now=None]\u001b[A"
     ]
    },
    {
     "name": "stdout",
     "output_type": "stream",
     "text": [
      "MoviePy - Done.\n"
     ]
    },
    {
     "name": "stderr",
     "output_type": "stream",
     "text": [
      "chunk:  86%|████████████████████████████████████████████████████████████████████████████▉            | 351/406 [00:32<00:00, 1309.79it/s, now=None]"
     ]
    },
    {
     "name": "stdout",
     "output_type": "stream",
     "text": [
      "MoviePy - Writing audio in audio_files/5_e2_97_f9164f8a41479f961d64842154a7_fhd.mp3\n"
     ]
    },
    {
     "name": "stderr",
     "output_type": "stream",
     "text": [
      "\n",
      "chunk:   0%|                                                                                                     | 0/992 [00:00<?, ?it/s, now=None]\u001b[A\n",
      "chunk:  12%|███████████▏                                                                             | 124/992 [00:00<00:00, 1238.28it/s, now=None]\u001b[A\n",
      "chunk:  36%|████████████████████████████████                                                         | 357/992 [00:00<00:00, 1879.07it/s, now=None]\u001b[A\n",
      "chunk:  60%|█████████████████████████████████████████████████████▎                                   | 594/992 [00:00<00:00, 2102.55it/s, now=None]\u001b[A\n",
      "chunk:  83%|██████████████████████████████████████████████████████████████████████████               | 826/992 [00:00<00:00, 2182.89it/s, now=None]\u001b[A\n",
      "chunk:  86%|████████████████████████████████████████████████████████████████████████████▉            | 351/406 [00:32<00:00, 1309.79it/s, now=None]\u001b[A"
     ]
    },
    {
     "name": "stdout",
     "output_type": "stream",
     "text": [
      "MoviePy - Done.\n"
     ]
    },
    {
     "name": "stderr",
     "output_type": "stream",
     "text": [
      "chunk:  86%|████████████████████████████████████████████████████████████████████████████▉            | 351/406 [00:33<00:00, 1309.79it/s, now=None]"
     ]
    },
    {
     "name": "stdout",
     "output_type": "stream",
     "text": [
      "MoviePy - Writing audio in audio_files/6_0f_48_8a1ff7324073947a31e80f71d001_fhd.mp3\n"
     ]
    },
    {
     "name": "stderr",
     "output_type": "stream",
     "text": [
      "\n",
      "chunk:   0%|                                                                                                     | 0/532 [00:00<?, ?it/s, now=None]\u001b[A\n",
      "chunk:  33%|█████████████████████████████▊                                                           | 178/532 [00:00<00:00, 1777.81it/s, now=None]\u001b[A\n",
      "chunk:  86%|████████████████████████████████████████████████████████████████████████████▉            | 351/406 [00:33<00:00, 1309.79it/s, now=None]\u001b[A"
     ]
    },
    {
     "name": "stdout",
     "output_type": "stream",
     "text": [
      "MoviePy - Done.\n"
     ]
    },
    {
     "name": "stderr",
     "output_type": "stream",
     "text": [
      "chunk:  86%|████████████████████████████████████████████████████████████████████████████▉            | 351/406 [00:33<00:00, 1309.79it/s, now=None]"
     ]
    },
    {
     "name": "stdout",
     "output_type": "stream",
     "text": [
      "MoviePy - Writing audio in audio_files/7_19_9c_98de3b4a4d9e83cb5dda828f899e_fhd.mp3\n"
     ]
    },
    {
     "name": "stderr",
     "output_type": "stream",
     "text": [
      "\n",
      "chunk:   0%|                                                                                                     | 0/139 [00:00<?, ?it/s, now=None]\u001b[A\n",
      "chunk:  86%|████████████████████████████████████████████████████████████████████████████▉            | 351/406 [00:33<00:00, 1309.79it/s, now=None]\u001b[A"
     ]
    },
    {
     "name": "stdout",
     "output_type": "stream",
     "text": [
      "MoviePy - Done.\n"
     ]
    },
    {
     "name": "stderr",
     "output_type": "stream",
     "text": [
      "chunk:  86%|████████████████████████████████████████████████████████████████████████████▉            | 351/406 [00:34<00:00, 1309.79it/s, now=None]"
     ]
    },
    {
     "name": "stdout",
     "output_type": "stream",
     "text": [
      "MoviePy - Writing audio in audio_files/8_bf_ee_85fb6b80491db79e8baebe5c9d80_fhd.mp3\n"
     ]
    },
    {
     "name": "stderr",
     "output_type": "stream",
     "text": [
      "\n",
      "chunk:   0%|                                                                                                     | 0/377 [00:00<?, ?it/s, now=None]\u001b[A\n",
      "chunk:  48%|██████████████████████████████████████████▉                                              | 182/377 [00:00<00:00, 1819.97it/s, now=None]\u001b[A\n",
      "chunk:  86%|████████████████████████████████████████████████████████████████████████████▉            | 351/406 [00:34<00:00, 1309.79it/s, now=None]\u001b[A"
     ]
    },
    {
     "name": "stdout",
     "output_type": "stream",
     "text": [
      "MoviePy - Done.\n"
     ]
    },
    {
     "name": "stderr",
     "output_type": "stream",
     "text": [
      "chunk:  86%|████████████████████████████████████████████████████████████████████████████▉            | 351/406 [00:34<00:00, 1309.79it/s, now=None]"
     ]
    },
    {
     "name": "stdout",
     "output_type": "stream",
     "text": [
      "MoviePy - Writing audio in audio_files/9_fc_73_d86600d04e519178a55774dfe65e_fhd.mp3\n"
     ]
    },
    {
     "name": "stderr",
     "output_type": "stream",
     "text": [
      "\n",
      "chunk:   0%|                                                                                                     | 0/311 [00:00<?, ?it/s, now=None]\u001b[A\n",
      "chunk:  41%|████████████████████████████████████▋                                                    | 128/311 [00:00<00:00, 1279.86it/s, now=None]\u001b[A\n",
      "chunk:  82%|██████████████████████████████████████████████████████████████████████████                | 256/311 [00:00<00:00, 706.38it/s, now=None]\u001b[A\n",
      "chunk:  86%|████████████████████████████████████████████████████████████████████████████▉            | 351/406 [00:35<00:00, 1309.79it/s, now=None]\u001b[A"
     ]
    },
    {
     "name": "stdout",
     "output_type": "stream",
     "text": [
      "MoviePy - Done.\n"
     ]
    }
   ],
   "source": [
    "# Шаг 1: Извлечение аудио из видео и сохранение его в формате MP3\n",
    "# Создаем директорию для сохранения аудио файлов\n",
    "audio_output_dir = \"audio_files\"\n",
    "os.makedirs(audio_output_dir, exist_ok=True)\n",
    "\n",
    "for video_file in sorted_video_files[:10]:\n",
    "    video_clip = VideoFileClip(video_file)\n",
    "    audio_file_path = os.path.join(audio_output_dir, os.path.basename(video_file).replace(\".mp4\", \".mp3\"))\n",
    "    video_clip.audio.write_audiofile(audio_file_path)"
   ]
  },
  {
   "cell_type": "code",
   "execution_count": null,
   "id": "f3f932f3-b05f-4b91-824b-a822146f9d2d",
   "metadata": {
    "id": "f3f932f3-b05f-4b91-824b-a822146f9d2d",
    "outputId": "662d8243-67f7-4929-9065-ae9efa9bf13d"
   },
   "outputs": [
    {
     "name": "stderr",
     "output_type": "stream",
     "text": [
      "100%|███████████████████████████████████████| 461M/461M [01:07<00:00, 7.20MiB/s]\n"
     ]
    }
   ],
   "source": [
    "# Загружаем модель Whisper\n",
    "model = whisper.load_model(\"small\")\n",
    "\n",
    "# Транскрибация аудио файлов\n",
    "audio_files = [os.path.join(audio_output_dir, f) for f in os.listdir(audio_output_dir) if f.endswith(\".mp3\")]"
   ]
  },
  {
   "cell_type": "code",
   "execution_count": null,
   "id": "fd1731f4-3a81-4ea0-9b34-7d2163b58562",
   "metadata": {
    "id": "fd1731f4-3a81-4ea0-9b34-7d2163b58562"
   },
   "outputs": [],
   "source": [
    "sorted_audio_files = sorted(audio_files, key=lambda x: int(os.path.basename(x).split('_')[0]))"
   ]
  },
  {
   "cell_type": "code",
   "execution_count": null,
   "id": "a019112e-00a9-49fb-a2ad-46a63d9920f9",
   "metadata": {
    "colab": {
     "referenced_widgets": [
      "0691ce747b5c430994bf78d19bcc3773"
     ]
    },
    "id": "a019112e-00a9-49fb-a2ad-46a63d9920f9",
    "outputId": "78d3690a-a290-45b6-b31e-c2aa69116617"
   },
   "outputs": [
    {
     "data": {
      "application/vnd.jupyter.widget-view+json": {
       "model_id": "0691ce747b5c430994bf78d19bcc3773",
       "version_major": 2,
       "version_minor": 0
      },
      "text/plain": [
       "  0%|          | 0/10 [00:00<?, ?it/s]"
      ]
     },
     "metadata": {},
     "output_type": "display_data"
    }
   ],
   "source": [
    "transcriptions = []\n",
    "results_audio = []\n",
    "for audio_file in tqdm_notebook(sorted_audio_files[:10]):\n",
    "    # Транскрибация аудио\n",
    "    result = model.transcribe(audio_file, language='ru')\n",
    "    results_audio.append(result)\n",
    "    transcriptions.append(result[\"text\"])"
   ]
  },
  {
   "cell_type": "code",
   "execution_count": null,
   "id": "76a4114f-60a8-462c-963c-882574ffea3f",
   "metadata": {
    "id": "76a4114f-60a8-462c-963c-882574ffea3f",
    "outputId": "47f3e761-fb59-4266-e064-02cda9bf1244"
   },
   "outputs": [
    {
     "name": "stdout",
     "output_type": "stream",
     "text": [
      "0\n",
      "link:https://cdn-st.rutubelist.ru/media/b0/e9/ef285e0241139fc611318ed33071/fhd.mp4\n",
      "description:#нарезкистримов , #dota2 , #cs2 , #fifa23 , #minecraft , #майнкрафт , #геншин , #genshin\n",
      "transcription: Субтитры мы SimilarlyStory\n",
      "--------------------\n",
      "1\n",
      "link:https://cdn-st.rutubelist.ru/media/39/6c/b31bc6864bef9d8a96814f1822ca/fhd.mp4\n",
      "description:🤫НЕ ВВОДИ ЭТУ КОМАНДУ В РОБЛОКС ! #shorts #roblox #роблокс\n",
      "transcription: Сейчас я тебе покажу секретную команду в Roblox'е! Чтобы её активировать поставь лайк и подпишись, а также в виде в чат команду I love you! Когда вы её ведёте у вас на экране появится вот такой клоун! Скривц был создан одним из создателей Roblox'а и работает только в эракде есть Roblox Developer Service. Чтобы в Раскриме ранжа всего-то выйти из игры, но лучше не проверяй!\n",
      "--------------------\n",
      "2\n",
      "link:https://cdn-st.rutubelist.ru/media/e9/e0/b47a9df14a5e97942715e5e705c0/fhd.mp4\n",
      "description:#boobs , #красивыедевушки , #ass\n",
      "transcription: Смотрите такие игрики в один раз.\n",
      "--------------------\n",
      "3\n",
      "link:https://cdn-st.rutubelist.ru/media/87/43/b11df3f344d0af773aac81e410ee/fhd.mp4\n",
      "description:nan\n",
      "transcription: что он о тебе думает прямо сейчас слушай думает, что ты знаешь, для него не посильная ноша как будто бы да, королева мечей чувствует то, что ты по характеру гораздо сильнее и то, что ему с тобой будет очень сложно но при этом есть желание и желание не совсем приличное проявляется боится и, честно говоря, сам проявляться не будет я бы на твоем месте вообще подумала нужен ли тебе такой партнер который слабее тебя но вывода делай сама\n",
      "--------------------\n",
      "4\n",
      "link:https://cdn-st.rutubelist.ru/media/d1/e7/642dc2194fcdb69664f832d5f2dd/fhd.mp4\n",
      "description:nan\n",
      "transcription: Я убежден, что чем беднее человек, тем сложнее его удовлетворить, потому что тот человек, у которого нет денег, он всегда недоволен чем-то, он всегда просит больше. Тот человек, который в принципе удовлетворен своими деньгами, он говорит «Классно! Это здорово! Спасибо! И идет и делает!»\n",
      "--------------------\n",
      "5\n",
      "link:https://cdn-st.rutubelist.ru/media/e2/97/f9164f8a41479f961d64842154a7/fhd.mp4\n",
      "description:nan\n",
      "transcription: ПОЗИТИВНАЯ МУЗЫКА Вау! ПОЗИТИВНАЯ МУЗЫКА Вау! ПОЗИТИВНАЯ МУЗЫКА\n",
      "--------------------\n",
      "6\n",
      "link:https://cdn-st.rutubelist.ru/media/0f/48/8a1ff7324073947a31e80f71d001/fhd.mp4\n",
      "description:#diy #постановка #юмор #комедия\n",
      "transcription: Ситуации, которые бесят каждого! Когда списываешь у соседа по партии, вдруг он переворачивает страницу! Можешь назад перелестуть, пожалуйста? Нет, я пишу! Когда твой лучший друг сотый раз приходит к себе в гости и не можешь запомнить, какая у тебя квартира! А какой номер квартиры у тебя? Когда ты запомнишь, ваза 9-я! И самое обесячное, когда к тебе приходит гости и спрашивают! А у вас есть туалет? Нет, нет! Вы знаете, во прям оттут писали. Попробуйте удобно, кстати.\n",
      "--------------------\n",
      "7\n",
      "link:https://cdn-st.rutubelist.ru/media/19/9c/98de3b4a4d9e83cb5dda828f899e/fhd.mp4\n",
      "description:nan\n",
      "transcription: н tricky\n",
      "--------------------\n",
      "8\n",
      "link:https://cdn-st.rutubelist.ru/media/bf/ee/85fb6b80491db79e8baebe5c9d80/fhd.mp4\n",
      "description:#образ #lookbook #показ #неделямоды #капсула #ошибкивстиле #селебрити #интервью #перевоплощения #обувь #кроссовки\n",
      "transcription: Как работает шампунь для кроссовок? Проверять будем на левом кроссовке моих суперкортов повидавших жизнь. Прикол этой штучки в том, что внутри уже содержится раствор и все что нужно сделать это надавить губкой на кросс. А губка не портит ваша кроссовка, ее предстоим, что ее можно отдельно мыть. Также сам шампунь очень удобно брать в себе город и время от времени чистить кроссы.\n",
      "--------------------\n",
      "9\n",
      "link:https://cdn-st.rutubelist.ru/media/fc/73/d86600d04e519178a55774dfe65e/fhd.mp4\n",
      "description:#путешествия #journey #туризм\n",
      "transcription: Попад poured Попад вам For remembering For콘 For sim The present In the video Ser transactions Berber For Christian\n",
      "--------------------\n"
     ]
    }
   ],
   "source": [
    "for index in range(len(sorted_audio_files[:10])):\n",
    "    row = df.iloc[index]\n",
    "    print(index)\n",
    "    print(f'link:{row.link}')\n",
    "    print(f'description:{row.description}')\n",
    "    print(f'transcription:{transcriptions[index]}')\n",
    "    print(20*'-')"
   ]
  },
  {
   "cell_type": "markdown",
   "id": "739856b0-4976-4e5a-9cb6-9385a555af74",
   "metadata": {
    "id": "739856b0-4976-4e5a-9cb6-9385a555af74"
   },
   "source": [
    "# Идеи полей\n",
    "\n",
    "- синонимы для хэштего: можно взять совстречаемость тегов и попробовать распарсить какой-нибудь словарь синонимов\n",
    "- Классификация языка аудио, чтобы потом asr нужного языка применять\n",
    "- (+) транскрибация аудио в текст (audio to text) - вишпер\n",
    "- (+) хэштеги по тексту - text classification, text summarization, chatgpt\n",
    "- (+) шазам, если есть известная песня, выводим в хэштег ее название - shazamio\n",
    "- транскрибация изображения, если есть текст (image to text)\n",
    "- хэштеги по фото (по первому, среднему и последнему) - image classification / image captioning\n",
    "- распознавание известных личностей по фото (милохин, мелстрой и тд)"
   ]
  },
  {
   "cell_type": "code",
   "execution_count": null,
   "id": "922b0b8e-aab1-400b-bf80-558b3fd6d4a5",
   "metadata": {
    "id": "922b0b8e-aab1-400b-bf80-558b3fd6d4a5",
    "outputId": "4f855432-ae46-4c60-e62f-1c36472a10b2"
   },
   "outputs": [
    {
     "name": "stdout",
     "output_type": "stream",
     "text": [
      "Collecting shazamio\n",
      "  Downloading shazamio-0.6.0-py3-none-any.whl.metadata (11 kB)\n",
      "Collecting aiofiles==23.2.1 (from shazamio)\n",
      "  Downloading aiofiles-23.2.1-py3-none-any.whl.metadata (9.7 kB)\n",
      "Requirement already satisfied: aiohttp<4.0.0,>=3.8.3 in /opt/anaconda3/lib/python3.11/site-packages (from shazamio) (3.9.3)\n",
      "Collecting aiohttp-retry<3.0.0,>=2.8.3 (from shazamio)\n",
      "  Downloading aiohttp_retry-2.8.3-py3-none-any.whl.metadata (8.9 kB)\n",
      "Collecting anyio==4.3.0 (from shazamio)\n",
      "  Using cached anyio-4.3.0-py3-none-any.whl.metadata (4.6 kB)\n",
      "Collecting dataclass-factory==2.16 (from shazamio)\n",
      "  Downloading dataclass_factory-2.16-py3-none-any.whl.metadata (2.8 kB)\n",
      "Requirement already satisfied: numpy<2.0.0,>=1.24.0 in /opt/anaconda3/lib/python3.11/site-packages (from shazamio) (1.26.4)\n",
      "Requirement already satisfied: pydantic<2.0.0,>=1.10.2 in /opt/anaconda3/lib/python3.11/site-packages (from shazamio) (1.10.12)\n",
      "Collecting pydub<0.26.0,>=0.25.1 (from shazamio)\n",
      "  Downloading pydub-0.25.1-py2.py3-none-any.whl.metadata (1.4 kB)\n",
      "Collecting shazamio-core<2.0.0,>=1.0.7 (from shazamio)\n",
      "  Downloading shazamio_core-1.0.7-cp311-cp311-macosx_11_0_arm64.whl.metadata (369 bytes)\n",
      "Requirement already satisfied: idna>=2.8 in /opt/anaconda3/lib/python3.11/site-packages (from anyio==4.3.0->shazamio) (3.4)\n",
      "Requirement already satisfied: sniffio>=1.1 in /opt/anaconda3/lib/python3.11/site-packages (from anyio==4.3.0->shazamio) (1.3.0)\n",
      "Requirement already satisfied: aiosignal>=1.1.2 in /opt/anaconda3/lib/python3.11/site-packages (from aiohttp<4.0.0,>=3.8.3->shazamio) (1.2.0)\n",
      "Requirement already satisfied: attrs>=17.3.0 in /opt/anaconda3/lib/python3.11/site-packages (from aiohttp<4.0.0,>=3.8.3->shazamio) (23.1.0)\n",
      "Requirement already satisfied: frozenlist>=1.1.1 in /opt/anaconda3/lib/python3.11/site-packages (from aiohttp<4.0.0,>=3.8.3->shazamio) (1.4.0)\n",
      "Requirement already satisfied: multidict<7.0,>=4.5 in /opt/anaconda3/lib/python3.11/site-packages (from aiohttp<4.0.0,>=3.8.3->shazamio) (6.0.4)\n",
      "Requirement already satisfied: yarl<2.0,>=1.0 in /opt/anaconda3/lib/python3.11/site-packages (from aiohttp<4.0.0,>=3.8.3->shazamio) (1.9.3)\n",
      "Requirement already satisfied: typing-extensions>=4.2.0 in /opt/anaconda3/lib/python3.11/site-packages (from pydantic<2.0.0,>=1.10.2->shazamio) (4.9.0)\n",
      "Downloading shazamio-0.6.0-py3-none-any.whl (39 kB)\n",
      "Downloading aiofiles-23.2.1-py3-none-any.whl (15 kB)\n",
      "Using cached anyio-4.3.0-py3-none-any.whl (85 kB)\n",
      "Downloading dataclass_factory-2.16-py3-none-any.whl (29 kB)\n",
      "Downloading aiohttp_retry-2.8.3-py3-none-any.whl (9.8 kB)\n",
      "Downloading pydub-0.25.1-py2.py3-none-any.whl (32 kB)\n",
      "Downloading shazamio_core-1.0.7-cp311-cp311-macosx_11_0_arm64.whl (904 kB)\n",
      "\u001b[2K   \u001b[90m━━━━━━━━━━━━━━━━━━━━━━━━━━━━━━━━━━━━━━━━\u001b[0m \u001b[32m904.6/904.6 kB\u001b[0m \u001b[31m1.9 MB/s\u001b[0m eta \u001b[36m0:00:00\u001b[0m00:01\u001b[0m00:01\u001b[0m\n",
      "\u001b[?25hInstalling collected packages: pydub, shazamio-core, dataclass-factory, anyio, aiofiles, aiohttp-retry, shazamio\n",
      "  Attempting uninstall: anyio\n",
      "    Found existing installation: anyio 4.2.0\n",
      "    Uninstalling anyio-4.2.0:\n",
      "      Successfully uninstalled anyio-4.2.0\n",
      "Successfully installed aiofiles-23.2.1 aiohttp-retry-2.8.3 anyio-4.3.0 dataclass-factory-2.16 pydub-0.25.1 shazamio-0.6.0 shazamio-core-1.0.7\n"
     ]
    }
   ],
   "source": [
    "!pip install shazamio"
   ]
  },
  {
   "cell_type": "code",
   "execution_count": null,
   "id": "96ac19e9-b2f1-4907-a6df-5cde184a2806",
   "metadata": {
    "id": "96ac19e9-b2f1-4907-a6df-5cde184a2806"
   },
   "outputs": [],
   "source": [
    "import asyncio\n",
    "from shazamio import Shazam\n",
    "import nest_asyncio\n",
    "# Разрешаем повторный запуск цикла событий в Jupyter Notebook\n",
    "nest_asyncio.apply()\n",
    "\n",
    "async def recognize_audio(file_path):\n",
    "    shazam = Shazam()\n",
    "    out = await shazam.recognize_song(file_path)\n",
    "    return out"
   ]
  },
  {
   "cell_type": "code",
   "execution_count": null,
   "id": "c03564fd-4fb1-4480-ac6e-31088153753f",
   "metadata": {
    "id": "c03564fd-4fb1-4480-ac6e-31088153753f",
    "outputId": "06908e86-7521-47be-d888-dcf92be01963"
   },
   "outputs": [
    {
     "data": {
      "text/plain": [
       "'audio_files/7_19_9c_98de3b4a4d9e83cb5dda828f899e_fhd.mp3'"
      ]
     },
     "execution_count": 42,
     "metadata": {},
     "output_type": "execute_result"
    }
   ],
   "source": [
    "file_path = sorted_audio_files[7]\n",
    "file_path"
   ]
  },
  {
   "cell_type": "code",
   "execution_count": null,
   "id": "d3547dca-c79e-4cae-96df-c3e71890923f",
   "metadata": {
    "id": "d3547dca-c79e-4cae-96df-c3e71890923f",
    "outputId": "aea02b20-d7eb-4885-b9f8-2ceab8cb4251"
   },
   "outputs": [
    {
     "name": "stdout",
     "output_type": "stream",
     "text": [
      "Title: What Was I Made For? (From The Motion Picture \"Barbie\")\n",
      "Subtitle: Billie Eilish\n",
      "URL: https://www.shazam.com/track/667426645/what-was-i-made-for-from-the-motion-picture-barbie\n"
     ]
    }
   ],
   "source": [
    "loop = asyncio.get_event_loop()\n",
    "result = loop.run_until_complete(recognize_audio(file_path))\n",
    "\n",
    "# Вывод информации о песне\n",
    "if result and 'track' in result:\n",
    "    track = result['track']\n",
    "    print(f\"Title: {track['title']}\")\n",
    "    print(f\"Subtitle: {track['subtitle']}\")\n",
    "    print(f\"URL: {track['url']}\")\n",
    "else:\n",
    "    print(\"Song not recognized\")"
   ]
  },
  {
   "cell_type": "code",
   "execution_count": null,
   "id": "8b5c7026-65c3-4385-ae3c-61ac13ce27ed",
   "metadata": {
    "id": "8b5c7026-65c3-4385-ae3c-61ac13ce27ed"
   },
   "outputs": [],
   "source": []
  }
 ],
 "metadata": {
  "accelerator": "GPU",
  "colab": {
   "collapsed_sections": [
    "5f20be67-6fa8-4219-807b-c964a92b9993"
   ],
   "gpuType": "T4",
   "provenance": [],
   "toc_visible": true
  },
  "kernelspec": {
   "display_name": "yappy_311",
   "language": "python",
   "name": "yappy_311"
  },
  "language_info": {
   "codemirror_mode": {
    "name": "ipython",
    "version": 3
   },
   "file_extension": ".py",
   "mimetype": "text/x-python",
   "name": "python",
   "nbconvert_exporter": "python",
   "pygments_lexer": "ipython3",
   "version": "3.11.9"
  },
  "widgets": {
   "application/vnd.jupyter.widget-state+json": {
    "0447760df0304bf69bf4a40fae9db3bf": {
     "model_module": "@jupyter-widgets/base",
     "model_module_version": "1.2.0",
     "model_name": "LayoutModel",
     "state": {
      "_model_module": "@jupyter-widgets/base",
      "_model_module_version": "1.2.0",
      "_model_name": "LayoutModel",
      "_view_count": null,
      "_view_module": "@jupyter-widgets/base",
      "_view_module_version": "1.2.0",
      "_view_name": "LayoutView",
      "align_content": null,
      "align_items": null,
      "align_self": null,
      "border": null,
      "bottom": null,
      "display": null,
      "flex": null,
      "flex_flow": null,
      "grid_area": null,
      "grid_auto_columns": null,
      "grid_auto_flow": null,
      "grid_auto_rows": null,
      "grid_column": null,
      "grid_gap": null,
      "grid_row": null,
      "grid_template_areas": null,
      "grid_template_columns": null,
      "grid_template_rows": null,
      "height": null,
      "justify_content": null,
      "justify_items": null,
      "left": null,
      "margin": null,
      "max_height": null,
      "max_width": null,
      "min_height": null,
      "min_width": null,
      "object_fit": null,
      "object_position": null,
      "order": null,
      "overflow": null,
      "overflow_x": null,
      "overflow_y": null,
      "padding": null,
      "right": null,
      "top": null,
      "visibility": null,
      "width": null
     }
    },
    "0795b53779954d04a5548b4b4e2c581d": {
     "model_module": "@jupyter-widgets/base",
     "model_module_version": "1.2.0",
     "model_name": "LayoutModel",
     "state": {
      "_model_module": "@jupyter-widgets/base",
      "_model_module_version": "1.2.0",
      "_model_name": "LayoutModel",
      "_view_count": null,
      "_view_module": "@jupyter-widgets/base",
      "_view_module_version": "1.2.0",
      "_view_name": "LayoutView",
      "align_content": null,
      "align_items": null,
      "align_self": null,
      "border": null,
      "bottom": null,
      "display": null,
      "flex": null,
      "flex_flow": null,
      "grid_area": null,
      "grid_auto_columns": null,
      "grid_auto_flow": null,
      "grid_auto_rows": null,
      "grid_column": null,
      "grid_gap": null,
      "grid_row": null,
      "grid_template_areas": null,
      "grid_template_columns": null,
      "grid_template_rows": null,
      "height": null,
      "justify_content": null,
      "justify_items": null,
      "left": null,
      "margin": null,
      "max_height": null,
      "max_width": null,
      "min_height": null,
      "min_width": null,
      "object_fit": null,
      "object_position": null,
      "order": null,
      "overflow": null,
      "overflow_x": null,
      "overflow_y": null,
      "padding": null,
      "right": null,
      "top": null,
      "visibility": null,
      "width": null
     }
    },
    "0a2ef946578d42fbb95dc747e0101724": {
     "model_module": "@jupyter-widgets/base",
     "model_module_version": "1.2.0",
     "model_name": "LayoutModel",
     "state": {
      "_model_module": "@jupyter-widgets/base",
      "_model_module_version": "1.2.0",
      "_model_name": "LayoutModel",
      "_view_count": null,
      "_view_module": "@jupyter-widgets/base",
      "_view_module_version": "1.2.0",
      "_view_name": "LayoutView",
      "align_content": null,
      "align_items": null,
      "align_self": null,
      "border": null,
      "bottom": null,
      "display": null,
      "flex": null,
      "flex_flow": null,
      "grid_area": null,
      "grid_auto_columns": null,
      "grid_auto_flow": null,
      "grid_auto_rows": null,
      "grid_column": null,
      "grid_gap": null,
      "grid_row": null,
      "grid_template_areas": null,
      "grid_template_columns": null,
      "grid_template_rows": null,
      "height": null,
      "justify_content": null,
      "justify_items": null,
      "left": null,
      "margin": null,
      "max_height": null,
      "max_width": null,
      "min_height": null,
      "min_width": null,
      "object_fit": null,
      "object_position": null,
      "order": null,
      "overflow": null,
      "overflow_x": null,
      "overflow_y": null,
      "padding": null,
      "right": null,
      "top": null,
      "visibility": null,
      "width": null
     }
    },
    "0b689c34410d40fbb4267b83a7acde79": {
     "model_module": "@jupyter-widgets/controls",
     "model_module_version": "1.5.0",
     "model_name": "DescriptionStyleModel",
     "state": {
      "_model_module": "@jupyter-widgets/controls",
      "_model_module_version": "1.5.0",
      "_model_name": "DescriptionStyleModel",
      "_view_count": null,
      "_view_module": "@jupyter-widgets/base",
      "_view_module_version": "1.2.0",
      "_view_name": "StyleView",
      "description_width": ""
     }
    },
    "0c8913d459644db0ac18380ee1a6a134": {
     "model_module": "@jupyter-widgets/controls",
     "model_module_version": "1.5.0",
     "model_name": "LabelModel",
     "state": {
      "_dom_classes": [],
      "_model_module": "@jupyter-widgets/controls",
      "_model_module_version": "1.5.0",
      "_model_name": "LabelModel",
      "_view_count": null,
      "_view_module": "@jupyter-widgets/controls",
      "_view_module_version": "1.5.0",
      "_view_name": "LabelView",
      "description": "",
      "description_tooltip": null,
      "layout": "IPY_MODEL_8e65943b5f4d4e05a2947cca0a9ea525",
      "placeholder": "​",
      "style": "IPY_MODEL_2e8fa8b559c44b43a781b89b01560262",
      "value": "Connecting..."
     }
    },
    "130497e3205543abbfef306bed00fefe": {
     "model_module": "@jupyter-widgets/base",
     "model_module_version": "1.2.0",
     "model_name": "LayoutModel",
     "state": {
      "_model_module": "@jupyter-widgets/base",
      "_model_module_version": "1.2.0",
      "_model_name": "LayoutModel",
      "_view_count": null,
      "_view_module": "@jupyter-widgets/base",
      "_view_module_version": "1.2.0",
      "_view_name": "LayoutView",
      "align_content": null,
      "align_items": null,
      "align_self": null,
      "border": null,
      "bottom": null,
      "display": null,
      "flex": null,
      "flex_flow": null,
      "grid_area": null,
      "grid_auto_columns": null,
      "grid_auto_flow": null,
      "grid_auto_rows": null,
      "grid_column": null,
      "grid_gap": null,
      "grid_row": null,
      "grid_template_areas": null,
      "grid_template_columns": null,
      "grid_template_rows": null,
      "height": null,
      "justify_content": null,
      "justify_items": null,
      "left": null,
      "margin": null,
      "max_height": null,
      "max_width": null,
      "min_height": null,
      "min_width": null,
      "object_fit": null,
      "object_position": null,
      "order": null,
      "overflow": null,
      "overflow_x": null,
      "overflow_y": null,
      "padding": null,
      "right": null,
      "top": null,
      "visibility": null,
      "width": null
     }
    },
    "1ec6fa486e99415ea5f973e13dd6e5c9": {
     "model_module": "@jupyter-widgets/controls",
     "model_module_version": "1.5.0",
     "model_name": "DescriptionStyleModel",
     "state": {
      "_model_module": "@jupyter-widgets/controls",
      "_model_module_version": "1.5.0",
      "_model_name": "DescriptionStyleModel",
      "_view_count": null,
      "_view_module": "@jupyter-widgets/base",
      "_view_module_version": "1.2.0",
      "_view_name": "StyleView",
      "description_width": ""
     }
    },
    "21361002f7b94b9993863832f19e0ed6": {
     "model_module": "@jupyter-widgets/controls",
     "model_module_version": "1.5.0",
     "model_name": "HBoxModel",
     "state": {
      "_dom_classes": [],
      "_model_module": "@jupyter-widgets/controls",
      "_model_module_version": "1.5.0",
      "_model_name": "HBoxModel",
      "_view_count": null,
      "_view_module": "@jupyter-widgets/controls",
      "_view_module_version": "1.5.0",
      "_view_name": "HBoxView",
      "box_style": "",
      "children": [
       "IPY_MODEL_6e0bdd7300754f5f9eb5d45f80da8221",
       "IPY_MODEL_f56c58e9adc24a9d86c66b4d382c0bce",
       "IPY_MODEL_d26da060891449fea2e9a8fd1fd19085"
      ],
      "layout": "IPY_MODEL_92aa62397f8840a5b33ed346a7be0534"
     }
    },
    "266361e845d9407997801c802b70b12f": {
     "model_module": "@jupyter-widgets/base",
     "model_module_version": "1.2.0",
     "model_name": "LayoutModel",
     "state": {
      "_model_module": "@jupyter-widgets/base",
      "_model_module_version": "1.2.0",
      "_model_name": "LayoutModel",
      "_view_count": null,
      "_view_module": "@jupyter-widgets/base",
      "_view_module_version": "1.2.0",
      "_view_name": "LayoutView",
      "align_content": null,
      "align_items": null,
      "align_self": null,
      "border": null,
      "bottom": null,
      "display": null,
      "flex": null,
      "flex_flow": null,
      "grid_area": null,
      "grid_auto_columns": null,
      "grid_auto_flow": null,
      "grid_auto_rows": null,
      "grid_column": null,
      "grid_gap": null,
      "grid_row": null,
      "grid_template_areas": null,
      "grid_template_columns": null,
      "grid_template_rows": null,
      "height": null,
      "justify_content": null,
      "justify_items": null,
      "left": null,
      "margin": null,
      "max_height": null,
      "max_width": null,
      "min_height": null,
      "min_width": null,
      "object_fit": null,
      "object_position": null,
      "order": null,
      "overflow": null,
      "overflow_x": null,
      "overflow_y": null,
      "padding": null,
      "right": null,
      "top": null,
      "visibility": null,
      "width": null
     }
    },
    "271eb3c85d3a4a62b0144739af9fa867": {
     "model_module": "@jupyter-widgets/base",
     "model_module_version": "1.2.0",
     "model_name": "LayoutModel",
     "state": {
      "_model_module": "@jupyter-widgets/base",
      "_model_module_version": "1.2.0",
      "_model_name": "LayoutModel",
      "_view_count": null,
      "_view_module": "@jupyter-widgets/base",
      "_view_module_version": "1.2.0",
      "_view_name": "LayoutView",
      "align_content": null,
      "align_items": null,
      "align_self": null,
      "border": null,
      "bottom": null,
      "display": null,
      "flex": null,
      "flex_flow": null,
      "grid_area": null,
      "grid_auto_columns": null,
      "grid_auto_flow": null,
      "grid_auto_rows": null,
      "grid_column": null,
      "grid_gap": null,
      "grid_row": null,
      "grid_template_areas": null,
      "grid_template_columns": null,
      "grid_template_rows": null,
      "height": null,
      "justify_content": null,
      "justify_items": null,
      "left": null,
      "margin": null,
      "max_height": null,
      "max_width": null,
      "min_height": null,
      "min_width": null,
      "object_fit": null,
      "object_position": null,
      "order": null,
      "overflow": null,
      "overflow_x": null,
      "overflow_y": null,
      "padding": null,
      "right": null,
      "top": null,
      "visibility": null,
      "width": null
     }
    },
    "2b282a79724e4e79a72e6f0c6915668e": {
     "model_module": "@jupyter-widgets/controls",
     "model_module_version": "1.5.0",
     "model_name": "CheckboxModel",
     "state": {
      "_dom_classes": [],
      "_model_module": "@jupyter-widgets/controls",
      "_model_module_version": "1.5.0",
      "_model_name": "CheckboxModel",
      "_view_count": null,
      "_view_module": "@jupyter-widgets/controls",
      "_view_module_version": "1.5.0",
      "_view_name": "CheckboxView",
      "description": "Add token as git credential?",
      "description_tooltip": null,
      "disabled": false,
      "indent": true,
      "layout": "IPY_MODEL_89a2b2263f874d85b2e4b8f43a58a407",
      "style": "IPY_MODEL_7d32a4f9fa594b798a8484b1b778822e",
      "value": true
     }
    },
    "2be4d1d958c94447aad4d77c116987b2": {
     "model_module": "@jupyter-widgets/base",
     "model_module_version": "1.2.0",
     "model_name": "LayoutModel",
     "state": {
      "_model_module": "@jupyter-widgets/base",
      "_model_module_version": "1.2.0",
      "_model_name": "LayoutModel",
      "_view_count": null,
      "_view_module": "@jupyter-widgets/base",
      "_view_module_version": "1.2.0",
      "_view_name": "LayoutView",
      "align_content": null,
      "align_items": null,
      "align_self": null,
      "border": null,
      "bottom": null,
      "display": null,
      "flex": null,
      "flex_flow": null,
      "grid_area": null,
      "grid_auto_columns": null,
      "grid_auto_flow": null,
      "grid_auto_rows": null,
      "grid_column": null,
      "grid_gap": null,
      "grid_row": null,
      "grid_template_areas": null,
      "grid_template_columns": null,
      "grid_template_rows": null,
      "height": null,
      "justify_content": null,
      "justify_items": null,
      "left": null,
      "margin": null,
      "max_height": null,
      "max_width": null,
      "min_height": null,
      "min_width": null,
      "object_fit": null,
      "object_position": null,
      "order": null,
      "overflow": null,
      "overflow_x": null,
      "overflow_y": null,
      "padding": null,
      "right": null,
      "top": null,
      "visibility": null,
      "width": null
     }
    },
    "2e8fa8b559c44b43a781b89b01560262": {
     "model_module": "@jupyter-widgets/controls",
     "model_module_version": "1.5.0",
     "model_name": "DescriptionStyleModel",
     "state": {
      "_model_module": "@jupyter-widgets/controls",
      "_model_module_version": "1.5.0",
      "_model_name": "DescriptionStyleModel",
      "_view_count": null,
      "_view_module": "@jupyter-widgets/base",
      "_view_module_version": "1.2.0",
      "_view_name": "StyleView",
      "description_width": ""
     }
    },
    "30a64c9811454b11ad5de7fee06a75ad": {
     "model_module": "@jupyter-widgets/controls",
     "model_module_version": "1.5.0",
     "model_name": "LabelModel",
     "state": {
      "_dom_classes": [],
      "_model_module": "@jupyter-widgets/controls",
      "_model_module_version": "1.5.0",
      "_model_name": "LabelModel",
      "_view_count": null,
      "_view_module": "@jupyter-widgets/controls",
      "_view_module_version": "1.5.0",
      "_view_name": "LabelView",
      "description": "",
      "description_tooltip": null,
      "layout": "IPY_MODEL_e7459036136d4050b3aa507cd473ea7b",
      "placeholder": "​",
      "style": "IPY_MODEL_1ec6fa486e99415ea5f973e13dd6e5c9",
      "value": "Token is valid (permission: write)."
     }
    },
    "33aec57312424f2eb92778113d802376": {
     "model_module": "@jupyter-widgets/controls",
     "model_module_version": "1.5.0",
     "model_name": "LabelModel",
     "state": {
      "_dom_classes": [],
      "_model_module": "@jupyter-widgets/controls",
      "_model_module_version": "1.5.0",
      "_model_name": "LabelModel",
      "_view_count": null,
      "_view_module": "@jupyter-widgets/controls",
      "_view_module_version": "1.5.0",
      "_view_name": "LabelView",
      "description": "",
      "description_tooltip": null,
      "layout": "IPY_MODEL_0a2ef946578d42fbb95dc747e0101724",
      "placeholder": "​",
      "style": "IPY_MODEL_94bead4a6e1846e69fece1e44c4ff660",
      "value": "Your token has been saved in your configured git credential helpers (store)."
     }
    },
    "34ac49920fe143aa8185d6e9188458b1": {
     "model_module": "@jupyter-widgets/controls",
     "model_module_version": "1.5.0",
     "model_name": "ProgressStyleModel",
     "state": {
      "_model_module": "@jupyter-widgets/controls",
      "_model_module_version": "1.5.0",
      "_model_name": "ProgressStyleModel",
      "_view_count": null,
      "_view_module": "@jupyter-widgets/base",
      "_view_module_version": "1.2.0",
      "_view_name": "StyleView",
      "bar_color": null,
      "description_width": ""
     }
    },
    "4257fb632ee3457d91462ab19eedd500": {
     "model_module": "@jupyter-widgets/controls",
     "model_module_version": "1.5.0",
     "model_name": "DescriptionStyleModel",
     "state": {
      "_model_module": "@jupyter-widgets/controls",
      "_model_module_version": "1.5.0",
      "_model_name": "DescriptionStyleModel",
      "_view_count": null,
      "_view_module": "@jupyter-widgets/base",
      "_view_module_version": "1.2.0",
      "_view_name": "StyleView",
      "description_width": ""
     }
    },
    "457cd2753cc64b6d91300763b409dff4": {
     "model_module": "@jupyter-widgets/controls",
     "model_module_version": "1.5.0",
     "model_name": "DescriptionStyleModel",
     "state": {
      "_model_module": "@jupyter-widgets/controls",
      "_model_module_version": "1.5.0",
      "_model_name": "DescriptionStyleModel",
      "_view_count": null,
      "_view_module": "@jupyter-widgets/base",
      "_view_module_version": "1.2.0",
      "_view_name": "StyleView",
      "description_width": ""
     }
    },
    "55d868ffe9d74608bc84b3af46b88b31": {
     "model_module": "@jupyter-widgets/controls",
     "model_module_version": "1.5.0",
     "model_name": "DescriptionStyleModel",
     "state": {
      "_model_module": "@jupyter-widgets/controls",
      "_model_module_version": "1.5.0",
      "_model_name": "DescriptionStyleModel",
      "_view_count": null,
      "_view_module": "@jupyter-widgets/base",
      "_view_module_version": "1.2.0",
      "_view_name": "StyleView",
      "description_width": ""
     }
    },
    "5f79c078aa434e418536c327373d5249": {
     "model_module": "@jupyter-widgets/controls",
     "model_module_version": "1.5.0",
     "model_name": "LabelModel",
     "state": {
      "_dom_classes": [],
      "_model_module": "@jupyter-widgets/controls",
      "_model_module_version": "1.5.0",
      "_model_name": "LabelModel",
      "_view_count": null,
      "_view_module": "@jupyter-widgets/controls",
      "_view_module_version": "1.5.0",
      "_view_name": "LabelView",
      "description": "",
      "description_tooltip": null,
      "layout": "IPY_MODEL_130497e3205543abbfef306bed00fefe",
      "placeholder": "​",
      "style": "IPY_MODEL_0b689c34410d40fbb4267b83a7acde79",
      "value": "Login successful"
     }
    },
    "64a1d66276f7480289e45612e3eb41ce": {
     "model_module": "@jupyter-widgets/controls",
     "model_module_version": "1.5.0",
     "model_name": "DescriptionStyleModel",
     "state": {
      "_model_module": "@jupyter-widgets/controls",
      "_model_module_version": "1.5.0",
      "_model_name": "DescriptionStyleModel",
      "_view_count": null,
      "_view_module": "@jupyter-widgets/base",
      "_view_module_version": "1.2.0",
      "_view_name": "StyleView",
      "description_width": ""
     }
    },
    "6e0bdd7300754f5f9eb5d45f80da8221": {
     "model_module": "@jupyter-widgets/controls",
     "model_module_version": "1.5.0",
     "model_name": "HTMLModel",
     "state": {
      "_dom_classes": [],
      "_model_module": "@jupyter-widgets/controls",
      "_model_module_version": "1.5.0",
      "_model_name": "HTMLModel",
      "_view_count": null,
      "_view_module": "@jupyter-widgets/controls",
      "_view_module_version": "1.5.0",
      "_view_name": "HTMLView",
      "description": "",
      "description_tooltip": null,
      "layout": "IPY_MODEL_2be4d1d958c94447aad4d77c116987b2",
      "placeholder": "​",
      "style": "IPY_MODEL_64a1d66276f7480289e45612e3eb41ce",
      "value": "Loading checkpoint shards: 100%"
     }
    },
    "6fd178bd21e14fe0b9b4e1b8a08476c6": {
     "model_module": "@jupyter-widgets/base",
     "model_module_version": "1.2.0",
     "model_name": "LayoutModel",
     "state": {
      "_model_module": "@jupyter-widgets/base",
      "_model_module_version": "1.2.0",
      "_model_name": "LayoutModel",
      "_view_count": null,
      "_view_module": "@jupyter-widgets/base",
      "_view_module_version": "1.2.0",
      "_view_name": "LayoutView",
      "align_content": null,
      "align_items": "center",
      "align_self": null,
      "border": null,
      "bottom": null,
      "display": "flex",
      "flex": null,
      "flex_flow": "column",
      "grid_area": null,
      "grid_auto_columns": null,
      "grid_auto_flow": null,
      "grid_auto_rows": null,
      "grid_column": null,
      "grid_gap": null,
      "grid_row": null,
      "grid_template_areas": null,
      "grid_template_columns": null,
      "grid_template_rows": null,
      "height": null,
      "justify_content": null,
      "justify_items": null,
      "left": null,
      "margin": null,
      "max_height": null,
      "max_width": null,
      "min_height": null,
      "min_width": null,
      "object_fit": null,
      "object_position": null,
      "order": null,
      "overflow": null,
      "overflow_x": null,
      "overflow_y": null,
      "padding": null,
      "right": null,
      "top": null,
      "visibility": null,
      "width": "50%"
     }
    },
    "7434b17643b547379ef41a823b4e6199": {
     "model_module": "@jupyter-widgets/controls",
     "model_module_version": "1.5.0",
     "model_name": "DescriptionStyleModel",
     "state": {
      "_model_module": "@jupyter-widgets/controls",
      "_model_module_version": "1.5.0",
      "_model_name": "DescriptionStyleModel",
      "_view_count": null,
      "_view_module": "@jupyter-widgets/base",
      "_view_module_version": "1.2.0",
      "_view_name": "StyleView",
      "description_width": ""
     }
    },
    "76980e0a8c824be08191edcb58f4219d": {
     "model_module": "@jupyter-widgets/controls",
     "model_module_version": "1.5.0",
     "model_name": "DescriptionStyleModel",
     "state": {
      "_model_module": "@jupyter-widgets/controls",
      "_model_module_version": "1.5.0",
      "_model_name": "DescriptionStyleModel",
      "_view_count": null,
      "_view_module": "@jupyter-widgets/base",
      "_view_module_version": "1.2.0",
      "_view_name": "StyleView",
      "description_width": ""
     }
    },
    "78e2596c00f04c32ab3d7d7639f21e21": {
     "model_module": "@jupyter-widgets/controls",
     "model_module_version": "1.5.0",
     "model_name": "ProgressStyleModel",
     "state": {
      "_model_module": "@jupyter-widgets/controls",
      "_model_module_version": "1.5.0",
      "_model_name": "ProgressStyleModel",
      "_view_count": null,
      "_view_module": "@jupyter-widgets/base",
      "_view_module_version": "1.2.0",
      "_view_name": "StyleView",
      "bar_color": null,
      "description_width": ""
     }
    },
    "7d32a4f9fa594b798a8484b1b778822e": {
     "model_module": "@jupyter-widgets/controls",
     "model_module_version": "1.5.0",
     "model_name": "DescriptionStyleModel",
     "state": {
      "_model_module": "@jupyter-widgets/controls",
      "_model_module_version": "1.5.0",
      "_model_name": "DescriptionStyleModel",
      "_view_count": null,
      "_view_module": "@jupyter-widgets/base",
      "_view_module_version": "1.2.0",
      "_view_name": "StyleView",
      "description_width": ""
     }
    },
    "86fed81fcf074cb89a5416802cffdc49": {
     "model_module": "@jupyter-widgets/controls",
     "model_module_version": "1.5.0",
     "model_name": "LabelModel",
     "state": {
      "_dom_classes": [],
      "_model_module": "@jupyter-widgets/controls",
      "_model_module_version": "1.5.0",
      "_model_name": "LabelModel",
      "_view_count": null,
      "_view_module": "@jupyter-widgets/controls",
      "_view_module_version": "1.5.0",
      "_view_name": "LabelView",
      "description": "",
      "description_tooltip": null,
      "layout": "IPY_MODEL_d1e31083840742bcb64138f52ae55135",
      "placeholder": "​",
      "style": "IPY_MODEL_da3ce47e0d3e44b5bdd5a7c40b1be5ee",
      "value": "Your token has been saved to /root/.cache/huggingface/token"
     }
    },
    "89a2b2263f874d85b2e4b8f43a58a407": {
     "model_module": "@jupyter-widgets/base",
     "model_module_version": "1.2.0",
     "model_name": "LayoutModel",
     "state": {
      "_model_module": "@jupyter-widgets/base",
      "_model_module_version": "1.2.0",
      "_model_name": "LayoutModel",
      "_view_count": null,
      "_view_module": "@jupyter-widgets/base",
      "_view_module_version": "1.2.0",
      "_view_name": "LayoutView",
      "align_content": null,
      "align_items": null,
      "align_self": null,
      "border": null,
      "bottom": null,
      "display": null,
      "flex": null,
      "flex_flow": null,
      "grid_area": null,
      "grid_auto_columns": null,
      "grid_auto_flow": null,
      "grid_auto_rows": null,
      "grid_column": null,
      "grid_gap": null,
      "grid_row": null,
      "grid_template_areas": null,
      "grid_template_columns": null,
      "grid_template_rows": null,
      "height": null,
      "justify_content": null,
      "justify_items": null,
      "left": null,
      "margin": null,
      "max_height": null,
      "max_width": null,
      "min_height": null,
      "min_width": null,
      "object_fit": null,
      "object_position": null,
      "order": null,
      "overflow": null,
      "overflow_x": null,
      "overflow_y": null,
      "padding": null,
      "right": null,
      "top": null,
      "visibility": null,
      "width": null
     }
    },
    "8e65943b5f4d4e05a2947cca0a9ea525": {
     "model_module": "@jupyter-widgets/base",
     "model_module_version": "1.2.0",
     "model_name": "LayoutModel",
     "state": {
      "_model_module": "@jupyter-widgets/base",
      "_model_module_version": "1.2.0",
      "_model_name": "LayoutModel",
      "_view_count": null,
      "_view_module": "@jupyter-widgets/base",
      "_view_module_version": "1.2.0",
      "_view_name": "LayoutView",
      "align_content": null,
      "align_items": null,
      "align_self": null,
      "border": null,
      "bottom": null,
      "display": null,
      "flex": null,
      "flex_flow": null,
      "grid_area": null,
      "grid_auto_columns": null,
      "grid_auto_flow": null,
      "grid_auto_rows": null,
      "grid_column": null,
      "grid_gap": null,
      "grid_row": null,
      "grid_template_areas": null,
      "grid_template_columns": null,
      "grid_template_rows": null,
      "height": null,
      "justify_content": null,
      "justify_items": null,
      "left": null,
      "margin": null,
      "max_height": null,
      "max_width": null,
      "min_height": null,
      "min_width": null,
      "object_fit": null,
      "object_position": null,
      "order": null,
      "overflow": null,
      "overflow_x": null,
      "overflow_y": null,
      "padding": null,
      "right": null,
      "top": null,
      "visibility": null,
      "width": null
     }
    },
    "92aa62397f8840a5b33ed346a7be0534": {
     "model_module": "@jupyter-widgets/base",
     "model_module_version": "1.2.0",
     "model_name": "LayoutModel",
     "state": {
      "_model_module": "@jupyter-widgets/base",
      "_model_module_version": "1.2.0",
      "_model_name": "LayoutModel",
      "_view_count": null,
      "_view_module": "@jupyter-widgets/base",
      "_view_module_version": "1.2.0",
      "_view_name": "LayoutView",
      "align_content": null,
      "align_items": null,
      "align_self": null,
      "border": null,
      "bottom": null,
      "display": null,
      "flex": null,
      "flex_flow": null,
      "grid_area": null,
      "grid_auto_columns": null,
      "grid_auto_flow": null,
      "grid_auto_rows": null,
      "grid_column": null,
      "grid_gap": null,
      "grid_row": null,
      "grid_template_areas": null,
      "grid_template_columns": null,
      "grid_template_rows": null,
      "height": null,
      "justify_content": null,
      "justify_items": null,
      "left": null,
      "margin": null,
      "max_height": null,
      "max_width": null,
      "min_height": null,
      "min_width": null,
      "object_fit": null,
      "object_position": null,
      "order": null,
      "overflow": null,
      "overflow_x": null,
      "overflow_y": null,
      "padding": null,
      "right": null,
      "top": null,
      "visibility": null,
      "width": null
     }
    },
    "94bead4a6e1846e69fece1e44c4ff660": {
     "model_module": "@jupyter-widgets/controls",
     "model_module_version": "1.5.0",
     "model_name": "DescriptionStyleModel",
     "state": {
      "_model_module": "@jupyter-widgets/controls",
      "_model_module_version": "1.5.0",
      "_model_name": "DescriptionStyleModel",
      "_view_count": null,
      "_view_module": "@jupyter-widgets/base",
      "_view_module_version": "1.2.0",
      "_view_name": "StyleView",
      "description_width": ""
     }
    },
    "9f14e74107074e2686fdb76d7740806a": {
     "model_module": "@jupyter-widgets/base",
     "model_module_version": "1.2.0",
     "model_name": "LayoutModel",
     "state": {
      "_model_module": "@jupyter-widgets/base",
      "_model_module_version": "1.2.0",
      "_model_name": "LayoutModel",
      "_view_count": null,
      "_view_module": "@jupyter-widgets/base",
      "_view_module_version": "1.2.0",
      "_view_name": "LayoutView",
      "align_content": null,
      "align_items": null,
      "align_self": null,
      "border": null,
      "bottom": null,
      "display": null,
      "flex": null,
      "flex_flow": null,
      "grid_area": null,
      "grid_auto_columns": null,
      "grid_auto_flow": null,
      "grid_auto_rows": null,
      "grid_column": null,
      "grid_gap": null,
      "grid_row": null,
      "grid_template_areas": null,
      "grid_template_columns": null,
      "grid_template_rows": null,
      "height": null,
      "justify_content": null,
      "justify_items": null,
      "left": null,
      "margin": null,
      "max_height": null,
      "max_width": null,
      "min_height": null,
      "min_width": null,
      "object_fit": null,
      "object_position": null,
      "order": null,
      "overflow": null,
      "overflow_x": null,
      "overflow_y": null,
      "padding": null,
      "right": null,
      "top": null,
      "visibility": null,
      "width": null
     }
    },
    "adca1456d5fd43fa94a8639ec48ca8da": {
     "model_module": "@jupyter-widgets/controls",
     "model_module_version": "1.5.0",
     "model_name": "HTMLModel",
     "state": {
      "_dom_classes": [],
      "_model_module": "@jupyter-widgets/controls",
      "_model_module_version": "1.5.0",
      "_model_name": "HTMLModel",
      "_view_count": null,
      "_view_module": "@jupyter-widgets/controls",
      "_view_module_version": "1.5.0",
      "_view_name": "HTMLView",
      "description": "",
      "description_tooltip": null,
      "layout": "IPY_MODEL_da32c819636a4cceb4b6c549720b8a80",
      "placeholder": "​",
      "style": "IPY_MODEL_76980e0a8c824be08191edcb58f4219d",
      "value": " 26/27 [05:04&lt;00:11, 11.75s/it]"
     }
    },
    "b1eb471c67dc4f1abc747678c271306a": {
     "model_module": "@jupyter-widgets/controls",
     "model_module_version": "1.5.0",
     "model_name": "ButtonModel",
     "state": {
      "_dom_classes": [],
      "_model_module": "@jupyter-widgets/controls",
      "_model_module_version": "1.5.0",
      "_model_name": "ButtonModel",
      "_view_count": null,
      "_view_module": "@jupyter-widgets/controls",
      "_view_module_version": "1.5.0",
      "_view_name": "ButtonView",
      "button_style": "",
      "description": "Login",
      "disabled": false,
      "icon": "",
      "layout": "IPY_MODEL_0447760df0304bf69bf4a40fae9db3bf",
      "style": "IPY_MODEL_e9a519d2bfc743ff8bfac480b457a8cb",
      "tooltip": ""
     }
    },
    "b375dd2c79064f01bfacf1e19effe261": {
     "model_module": "@jupyter-widgets/base",
     "model_module_version": "1.2.0",
     "model_name": "LayoutModel",
     "state": {
      "_model_module": "@jupyter-widgets/base",
      "_model_module_version": "1.2.0",
      "_model_name": "LayoutModel",
      "_view_count": null,
      "_view_module": "@jupyter-widgets/base",
      "_view_module_version": "1.2.0",
      "_view_name": "LayoutView",
      "align_content": null,
      "align_items": null,
      "align_self": null,
      "border": null,
      "bottom": null,
      "display": null,
      "flex": null,
      "flex_flow": null,
      "grid_area": null,
      "grid_auto_columns": null,
      "grid_auto_flow": null,
      "grid_auto_rows": null,
      "grid_column": null,
      "grid_gap": null,
      "grid_row": null,
      "grid_template_areas": null,
      "grid_template_columns": null,
      "grid_template_rows": null,
      "height": null,
      "justify_content": null,
      "justify_items": null,
      "left": null,
      "margin": null,
      "max_height": null,
      "max_width": null,
      "min_height": null,
      "min_width": null,
      "object_fit": null,
      "object_position": null,
      "order": null,
      "overflow": null,
      "overflow_x": null,
      "overflow_y": null,
      "padding": null,
      "right": null,
      "top": null,
      "visibility": null,
      "width": null
     }
    },
    "b5f707cb644d48c28f08493d39855b6a": {
     "model_module": "@jupyter-widgets/controls",
     "model_module_version": "1.5.0",
     "model_name": "DescriptionStyleModel",
     "state": {
      "_model_module": "@jupyter-widgets/controls",
      "_model_module_version": "1.5.0",
      "_model_name": "DescriptionStyleModel",
      "_view_count": null,
      "_view_module": "@jupyter-widgets/base",
      "_view_module_version": "1.2.0",
      "_view_name": "StyleView",
      "description_width": ""
     }
    },
    "bb4f4632b19d4e5e868d08c8d7683706": {
     "model_module": "@jupyter-widgets/controls",
     "model_module_version": "1.5.0",
     "model_name": "HBoxModel",
     "state": {
      "_dom_classes": [],
      "_model_module": "@jupyter-widgets/controls",
      "_model_module_version": "1.5.0",
      "_model_name": "HBoxModel",
      "_view_count": null,
      "_view_module": "@jupyter-widgets/controls",
      "_view_module_version": "1.5.0",
      "_view_name": "HBoxView",
      "box_style": "",
      "children": [
       "IPY_MODEL_f6a07f7035a0416785092191c6976182",
       "IPY_MODEL_d293dfc30727435aa9eddb8cade6555c",
       "IPY_MODEL_adca1456d5fd43fa94a8639ec48ca8da"
      ],
      "layout": "IPY_MODEL_b375dd2c79064f01bfacf1e19effe261"
     }
    },
    "d1260200a50849ab959a38b46cc7d1d3": {
     "model_module": "@jupyter-widgets/base",
     "model_module_version": "1.2.0",
     "model_name": "LayoutModel",
     "state": {
      "_model_module": "@jupyter-widgets/base",
      "_model_module_version": "1.2.0",
      "_model_name": "LayoutModel",
      "_view_count": null,
      "_view_module": "@jupyter-widgets/base",
      "_view_module_version": "1.2.0",
      "_view_name": "LayoutView",
      "align_content": null,
      "align_items": null,
      "align_self": null,
      "border": null,
      "bottom": null,
      "display": null,
      "flex": null,
      "flex_flow": null,
      "grid_area": null,
      "grid_auto_columns": null,
      "grid_auto_flow": null,
      "grid_auto_rows": null,
      "grid_column": null,
      "grid_gap": null,
      "grid_row": null,
      "grid_template_areas": null,
      "grid_template_columns": null,
      "grid_template_rows": null,
      "height": null,
      "justify_content": null,
      "justify_items": null,
      "left": null,
      "margin": null,
      "max_height": null,
      "max_width": null,
      "min_height": null,
      "min_width": null,
      "object_fit": null,
      "object_position": null,
      "order": null,
      "overflow": null,
      "overflow_x": null,
      "overflow_y": null,
      "padding": null,
      "right": null,
      "top": null,
      "visibility": null,
      "width": null
     }
    },
    "d1e31083840742bcb64138f52ae55135": {
     "model_module": "@jupyter-widgets/base",
     "model_module_version": "1.2.0",
     "model_name": "LayoutModel",
     "state": {
      "_model_module": "@jupyter-widgets/base",
      "_model_module_version": "1.2.0",
      "_model_name": "LayoutModel",
      "_view_count": null,
      "_view_module": "@jupyter-widgets/base",
      "_view_module_version": "1.2.0",
      "_view_name": "LayoutView",
      "align_content": null,
      "align_items": null,
      "align_self": null,
      "border": null,
      "bottom": null,
      "display": null,
      "flex": null,
      "flex_flow": null,
      "grid_area": null,
      "grid_auto_columns": null,
      "grid_auto_flow": null,
      "grid_auto_rows": null,
      "grid_column": null,
      "grid_gap": null,
      "grid_row": null,
      "grid_template_areas": null,
      "grid_template_columns": null,
      "grid_template_rows": null,
      "height": null,
      "justify_content": null,
      "justify_items": null,
      "left": null,
      "margin": null,
      "max_height": null,
      "max_width": null,
      "min_height": null,
      "min_width": null,
      "object_fit": null,
      "object_position": null,
      "order": null,
      "overflow": null,
      "overflow_x": null,
      "overflow_y": null,
      "padding": null,
      "right": null,
      "top": null,
      "visibility": null,
      "width": null
     }
    },
    "d26da060891449fea2e9a8fd1fd19085": {
     "model_module": "@jupyter-widgets/controls",
     "model_module_version": "1.5.0",
     "model_name": "HTMLModel",
     "state": {
      "_dom_classes": [],
      "_model_module": "@jupyter-widgets/controls",
      "_model_module_version": "1.5.0",
      "_model_name": "HTMLModel",
      "_view_count": null,
      "_view_module": "@jupyter-widgets/controls",
      "_view_module_version": "1.5.0",
      "_view_name": "HTMLView",
      "description": "",
      "description_tooltip": null,
      "layout": "IPY_MODEL_e3b726a9207d424bb2b8c8e645f62ba0",
      "placeholder": "​",
      "style": "IPY_MODEL_7434b17643b547379ef41a823b4e6199",
      "value": " 4/4 [01:18&lt;00:00, 17.26s/it]"
     }
    },
    "d293dfc30727435aa9eddb8cade6555c": {
     "model_module": "@jupyter-widgets/controls",
     "model_module_version": "1.5.0",
     "model_name": "FloatProgressModel",
     "state": {
      "_dom_classes": [],
      "_model_module": "@jupyter-widgets/controls",
      "_model_module_version": "1.5.0",
      "_model_name": "FloatProgressModel",
      "_view_count": null,
      "_view_module": "@jupyter-widgets/controls",
      "_view_module_version": "1.5.0",
      "_view_name": "ProgressView",
      "bar_style": "danger",
      "description": "",
      "description_tooltip": null,
      "layout": "IPY_MODEL_d1260200a50849ab959a38b46cc7d1d3",
      "max": 27,
      "min": 0,
      "orientation": "horizontal",
      "style": "IPY_MODEL_34ac49920fe143aa8185d6e9188458b1",
      "value": 26
     }
    },
    "da32c819636a4cceb4b6c549720b8a80": {
     "model_module": "@jupyter-widgets/base",
     "model_module_version": "1.2.0",
     "model_name": "LayoutModel",
     "state": {
      "_model_module": "@jupyter-widgets/base",
      "_model_module_version": "1.2.0",
      "_model_name": "LayoutModel",
      "_view_count": null,
      "_view_module": "@jupyter-widgets/base",
      "_view_module_version": "1.2.0",
      "_view_name": "LayoutView",
      "align_content": null,
      "align_items": null,
      "align_self": null,
      "border": null,
      "bottom": null,
      "display": null,
      "flex": null,
      "flex_flow": null,
      "grid_area": null,
      "grid_auto_columns": null,
      "grid_auto_flow": null,
      "grid_auto_rows": null,
      "grid_column": null,
      "grid_gap": null,
      "grid_row": null,
      "grid_template_areas": null,
      "grid_template_columns": null,
      "grid_template_rows": null,
      "height": null,
      "justify_content": null,
      "justify_items": null,
      "left": null,
      "margin": null,
      "max_height": null,
      "max_width": null,
      "min_height": null,
      "min_width": null,
      "object_fit": null,
      "object_position": null,
      "order": null,
      "overflow": null,
      "overflow_x": null,
      "overflow_y": null,
      "padding": null,
      "right": null,
      "top": null,
      "visibility": null,
      "width": null
     }
    },
    "da3ce47e0d3e44b5bdd5a7c40b1be5ee": {
     "model_module": "@jupyter-widgets/controls",
     "model_module_version": "1.5.0",
     "model_name": "DescriptionStyleModel",
     "state": {
      "_model_module": "@jupyter-widgets/controls",
      "_model_module_version": "1.5.0",
      "_model_name": "DescriptionStyleModel",
      "_view_count": null,
      "_view_module": "@jupyter-widgets/base",
      "_view_module_version": "1.2.0",
      "_view_name": "StyleView",
      "description_width": ""
     }
    },
    "dbe8220710d34cd489a42fb922e92bdd": {
     "model_module": "@jupyter-widgets/controls",
     "model_module_version": "1.5.0",
     "model_name": "PasswordModel",
     "state": {
      "_dom_classes": [],
      "_model_module": "@jupyter-widgets/controls",
      "_model_module_version": "1.5.0",
      "_model_name": "PasswordModel",
      "_view_count": null,
      "_view_module": "@jupyter-widgets/controls",
      "_view_module_version": "1.5.0",
      "_view_name": "PasswordView",
      "continuous_update": true,
      "description": "Token:",
      "description_tooltip": null,
      "disabled": false,
      "layout": "IPY_MODEL_271eb3c85d3a4a62b0144739af9fa867",
      "placeholder": "​",
      "style": "IPY_MODEL_b5f707cb644d48c28f08493d39855b6a",
      "value": ""
     }
    },
    "e3b726a9207d424bb2b8c8e645f62ba0": {
     "model_module": "@jupyter-widgets/base",
     "model_module_version": "1.2.0",
     "model_name": "LayoutModel",
     "state": {
      "_model_module": "@jupyter-widgets/base",
      "_model_module_version": "1.2.0",
      "_model_name": "LayoutModel",
      "_view_count": null,
      "_view_module": "@jupyter-widgets/base",
      "_view_module_version": "1.2.0",
      "_view_name": "LayoutView",
      "align_content": null,
      "align_items": null,
      "align_self": null,
      "border": null,
      "bottom": null,
      "display": null,
      "flex": null,
      "flex_flow": null,
      "grid_area": null,
      "grid_auto_columns": null,
      "grid_auto_flow": null,
      "grid_auto_rows": null,
      "grid_column": null,
      "grid_gap": null,
      "grid_row": null,
      "grid_template_areas": null,
      "grid_template_columns": null,
      "grid_template_rows": null,
      "height": null,
      "justify_content": null,
      "justify_items": null,
      "left": null,
      "margin": null,
      "max_height": null,
      "max_width": null,
      "min_height": null,
      "min_width": null,
      "object_fit": null,
      "object_position": null,
      "order": null,
      "overflow": null,
      "overflow_x": null,
      "overflow_y": null,
      "padding": null,
      "right": null,
      "top": null,
      "visibility": null,
      "width": null
     }
    },
    "e7459036136d4050b3aa507cd473ea7b": {
     "model_module": "@jupyter-widgets/base",
     "model_module_version": "1.2.0",
     "model_name": "LayoutModel",
     "state": {
      "_model_module": "@jupyter-widgets/base",
      "_model_module_version": "1.2.0",
      "_model_name": "LayoutModel",
      "_view_count": null,
      "_view_module": "@jupyter-widgets/base",
      "_view_module_version": "1.2.0",
      "_view_name": "LayoutView",
      "align_content": null,
      "align_items": null,
      "align_self": null,
      "border": null,
      "bottom": null,
      "display": null,
      "flex": null,
      "flex_flow": null,
      "grid_area": null,
      "grid_auto_columns": null,
      "grid_auto_flow": null,
      "grid_auto_rows": null,
      "grid_column": null,
      "grid_gap": null,
      "grid_row": null,
      "grid_template_areas": null,
      "grid_template_columns": null,
      "grid_template_rows": null,
      "height": null,
      "justify_content": null,
      "justify_items": null,
      "left": null,
      "margin": null,
      "max_height": null,
      "max_width": null,
      "min_height": null,
      "min_width": null,
      "object_fit": null,
      "object_position": null,
      "order": null,
      "overflow": null,
      "overflow_x": null,
      "overflow_y": null,
      "padding": null,
      "right": null,
      "top": null,
      "visibility": null,
      "width": null
     }
    },
    "e9a519d2bfc743ff8bfac480b457a8cb": {
     "model_module": "@jupyter-widgets/controls",
     "model_module_version": "1.5.0",
     "model_name": "ButtonStyleModel",
     "state": {
      "_model_module": "@jupyter-widgets/controls",
      "_model_module_version": "1.5.0",
      "_model_name": "ButtonStyleModel",
      "_view_count": null,
      "_view_module": "@jupyter-widgets/base",
      "_view_module_version": "1.2.0",
      "_view_name": "StyleView",
      "button_color": null,
      "font_weight": ""
     }
    },
    "eab9469422074ba38547c8432bc84978": {
     "model_module": "@jupyter-widgets/controls",
     "model_module_version": "1.5.0",
     "model_name": "HTMLModel",
     "state": {
      "_dom_classes": [],
      "_model_module": "@jupyter-widgets/controls",
      "_model_module_version": "1.5.0",
      "_model_name": "HTMLModel",
      "_view_count": null,
      "_view_module": "@jupyter-widgets/controls",
      "_view_module_version": "1.5.0",
      "_view_name": "HTMLView",
      "description": "",
      "description_tooltip": null,
      "layout": "IPY_MODEL_f226325ec8764afdb85078fdb85ebc9e",
      "placeholder": "​",
      "style": "IPY_MODEL_4257fb632ee3457d91462ab19eedd500",
      "value": "\n<b>Pro Tip:</b> If you don't already have one, you can create a dedicated\n'notebooks' token with 'write' access, that you can then easily reuse for all\nnotebooks. </center>"
     }
    },
    "ec6fab9c7a7b47268302542c0a6c5251": {
     "model_module": "@jupyter-widgets/controls",
     "model_module_version": "1.5.0",
     "model_name": "VBoxModel",
     "state": {
      "_dom_classes": [],
      "_model_module": "@jupyter-widgets/controls",
      "_model_module_version": "1.5.0",
      "_model_name": "VBoxModel",
      "_view_count": null,
      "_view_module": "@jupyter-widgets/controls",
      "_view_module_version": "1.5.0",
      "_view_name": "VBoxView",
      "box_style": "",
      "children": [
       "IPY_MODEL_30a64c9811454b11ad5de7fee06a75ad",
       "IPY_MODEL_33aec57312424f2eb92778113d802376",
       "IPY_MODEL_86fed81fcf074cb89a5416802cffdc49",
       "IPY_MODEL_5f79c078aa434e418536c327373d5249"
      ],
      "layout": "IPY_MODEL_6fd178bd21e14fe0b9b4e1b8a08476c6"
     }
    },
    "f226325ec8764afdb85078fdb85ebc9e": {
     "model_module": "@jupyter-widgets/base",
     "model_module_version": "1.2.0",
     "model_name": "LayoutModel",
     "state": {
      "_model_module": "@jupyter-widgets/base",
      "_model_module_version": "1.2.0",
      "_model_name": "LayoutModel",
      "_view_count": null,
      "_view_module": "@jupyter-widgets/base",
      "_view_module_version": "1.2.0",
      "_view_name": "LayoutView",
      "align_content": null,
      "align_items": null,
      "align_self": null,
      "border": null,
      "bottom": null,
      "display": null,
      "flex": null,
      "flex_flow": null,
      "grid_area": null,
      "grid_auto_columns": null,
      "grid_auto_flow": null,
      "grid_auto_rows": null,
      "grid_column": null,
      "grid_gap": null,
      "grid_row": null,
      "grid_template_areas": null,
      "grid_template_columns": null,
      "grid_template_rows": null,
      "height": null,
      "justify_content": null,
      "justify_items": null,
      "left": null,
      "margin": null,
      "max_height": null,
      "max_width": null,
      "min_height": null,
      "min_width": null,
      "object_fit": null,
      "object_position": null,
      "order": null,
      "overflow": null,
      "overflow_x": null,
      "overflow_y": null,
      "padding": null,
      "right": null,
      "top": null,
      "visibility": null,
      "width": null
     }
    },
    "f56c58e9adc24a9d86c66b4d382c0bce": {
     "model_module": "@jupyter-widgets/controls",
     "model_module_version": "1.5.0",
     "model_name": "FloatProgressModel",
     "state": {
      "_dom_classes": [],
      "_model_module": "@jupyter-widgets/controls",
      "_model_module_version": "1.5.0",
      "_model_name": "FloatProgressModel",
      "_view_count": null,
      "_view_module": "@jupyter-widgets/controls",
      "_view_module_version": "1.5.0",
      "_view_name": "ProgressView",
      "bar_style": "success",
      "description": "",
      "description_tooltip": null,
      "layout": "IPY_MODEL_0795b53779954d04a5548b4b4e2c581d",
      "max": 4,
      "min": 0,
      "orientation": "horizontal",
      "style": "IPY_MODEL_78e2596c00f04c32ab3d7d7639f21e21",
      "value": 4
     }
    },
    "f6a07f7035a0416785092191c6976182": {
     "model_module": "@jupyter-widgets/controls",
     "model_module_version": "1.5.0",
     "model_name": "HTMLModel",
     "state": {
      "_dom_classes": [],
      "_model_module": "@jupyter-widgets/controls",
      "_model_module_version": "1.5.0",
      "_model_name": "HTMLModel",
      "_view_count": null,
      "_view_module": "@jupyter-widgets/controls",
      "_view_module_version": "1.5.0",
      "_view_name": "HTMLView",
      "description": "",
      "description_tooltip": null,
      "layout": "IPY_MODEL_266361e845d9407997801c802b70b12f",
      "placeholder": "​",
      "style": "IPY_MODEL_457cd2753cc64b6d91300763b409dff4",
      "value": " 96%"
     }
    },
    "fb442785e02948a2bb5d8e52aaf60051": {
     "model_module": "@jupyter-widgets/controls",
     "model_module_version": "1.5.0",
     "model_name": "HTMLModel",
     "state": {
      "_dom_classes": [],
      "_model_module": "@jupyter-widgets/controls",
      "_model_module_version": "1.5.0",
      "_model_name": "HTMLModel",
      "_view_count": null,
      "_view_module": "@jupyter-widgets/controls",
      "_view_module_version": "1.5.0",
      "_view_name": "HTMLView",
      "description": "",
      "description_tooltip": null,
      "layout": "IPY_MODEL_9f14e74107074e2686fdb76d7740806a",
      "placeholder": "​",
      "style": "IPY_MODEL_55d868ffe9d74608bc84b3af46b88b31",
      "value": "<center> <img\nsrc=https://huggingface.co/front/assets/huggingface_logo-noborder.svg\nalt='Hugging Face'> <br> Copy a token from <a\nhref=\"https://huggingface.co/settings/tokens\" target=\"_blank\">your Hugging Face\ntokens page</a> and paste it below. <br> Immediately click login after copying\nyour token or it might be stored in plain text in this notebook file. </center>"
     }
    }
   }
  }
 },
 "nbformat": 4,
 "nbformat_minor": 5
}
