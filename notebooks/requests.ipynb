{
 "cells": [
  {
   "cell_type": "code",
   "execution_count": 2,
   "id": "6cdd92e6-1494-4af2-993e-4eecee542ec2",
   "metadata": {},
   "outputs": [],
   "source": [
    "import requests\n",
    "import pandas as pd\n",
    "from tqdm.notebook import tqdm"
   ]
  },
  {
   "cell_type": "code",
   "execution_count": 3,
   "id": "b1854b04-a758-43ed-bc46-c6f0a7702ef6",
   "metadata": {},
   "outputs": [],
   "source": [
    "data = pd.read_csv(\"../data/old/yappy_hackaton_2024_400k.csv\").iloc[40001:40005]\n",
    "data.fillna(\"\", inplace=True)"
   ]
  },
  {
   "cell_type": "code",
   "execution_count": 4,
   "id": "5edc057a-932d-401a-a3dc-4c88d8188042",
   "metadata": {
    "scrolled": true
   },
   "outputs": [
    {
     "data": {
      "text/plain": [
       "{40001: {'link': 'https://cdn-st.rutubelist.ru/media/0f/fc/00fc6050405ca29a97843d91b4ef/fhd.mp4',\n",
       "  'description': 'Нравится ее стиль'},\n",
       " 40002: {'link': 'https://cdn-st.rutubelist.ru/media/8a/04/c51a9e644f578ac328c778124d02/fhd.mp4',\n",
       "  'description': 'Стесняшка Жэньши • Монолог фармацевта | Kusuriya no Hitorigoto'},\n",
       " 40003: {'link': 'https://cdn-st.rutubelist.ru/media/9f/27/4edb34bc4ce182bfcd9c6822bd56/fhd.mp4',\n",
       "  'description': '#спорт #наспорте #растяжка #фитнес #мотивация'},\n",
       " 40004: {'link': 'https://cdn-st.rutubelist.ru/media/13/83/ed72c0e847c9964bd75061297e5a/fhd.mp4',\n",
       "  'description': '#красивыедевушки #губы #макияж'}}"
      ]
     },
     "execution_count": 4,
     "metadata": {},
     "output_type": "execute_result"
    }
   ],
   "source": [
    "data.T.to_dict()"
   ]
  },
  {
   "cell_type": "code",
   "execution_count": 26,
   "id": "db5db77c-1185-4664-b350-7d8285d69670",
   "metadata": {},
   "outputs": [
    {
     "name": "stdout",
     "output_type": "stream",
     "text": [
      "CPU times: user 3.01 ms, sys: 0 ns, total: 3.01 ms\n",
      "Wall time: 7.15 s\n"
     ]
    }
   ],
   "source": [
    "%%time\n",
    "\n",
    "headers = {\n",
    "    'accept': 'application/json',\n",
    "    'Content-Type': 'application/json',\n",
    "}\n",
    "\n",
    "json_data = data.iloc[1].to_dict()\n",
    "response = requests.post('http://localhost:8080/index', headers=headers, json=json_data)"
   ]
  },
  {
   "cell_type": "code",
   "execution_count": 27,
   "id": "4363b12c-0d4b-4ddf-8cbb-c2f2222156c2",
   "metadata": {},
   "outputs": [
    {
     "name": "stdout",
     "output_type": "stream",
     "text": [
      "CPU times: user 2.3 ms, sys: 0 ns, total: 2.3 ms\n",
      "Wall time: 41 ms\n"
     ]
    }
   ],
   "source": [
    "%%time\n",
    "\n",
    "headers = {\n",
    "    'accept': 'application/json',\n",
    "}\n",
    "\n",
    "params = {\n",
    "    'text': 'даня милохин',\n",
    "}\n",
    "\n",
    "response = requests.get('http://localhost:8080/search', params=params, headers=headers)"
   ]
  },
  {
   "cell_type": "code",
   "execution_count": 28,
   "id": "19fb799d-3440-4812-92b7-e74bc7adee8c",
   "metadata": {},
   "outputs": [],
   "source": [
    "responses = []\n",
    "\n",
    "headers = {\n",
    "    'accept': 'application/json',\n",
    "    'Content-Type': 'application/json',\n",
    "}\n",
    "\n",
    "for i in tqdm(range(500)):\n",
    "    json_data = data.iloc[i].to_dict()\n",
    "    response = requests.post('http://localhost:8080/index', headers=headers, json=json_data)\n",
    "    if response.status_code != 200:\n",
    "        print(i, response.text)\n",
    "    responses.append(response)"
   ]
  },
  {
   "cell_type": "code",
   "execution_count": 29,
   "id": "cf4f63d8-f589-4d03-81e8-0e7fc023a476",
   "metadata": {},
   "outputs": [],
   "source": [
    "import aiohttp, asyncio\n",
    "\n",
    "async def post_request(session, url, headers, json_data):\n",
    "    async with session.post(url, headers=headers, json=json_data) as response:\n",
    "        if response.status != 200:\n",
    "            print(json_data, await response.text())\n",
    "        return await response.json()\n",
    "\n",
    "responses = []\n",
    "batch_size = 5\n",
    "url = 'http://localhost:8080/index'\n",
    "\n",
    "async with aiohttp.ClientSession() as session:\n",
    "    for i in tqdm(range(0, len(data), batch_size)):\n",
    "        tasks = []\n",
    "        for j in range(i, min(i + batch_size, len(data))):\n",
    "            json_data = data.iloc[j].to_dict()\n",
    "            tasks.append(post_request(session, url, headers, json_data))\n",
    "        responses.extend(await asyncio.gather(*tasks))"
   ]
  },
  {
   "cell_type": "code",
   "execution_count": null,
   "id": "e652b26e-6aed-49c7-bdfc-34a3c745dd1b",
   "metadata": {},
   "outputs": [],
   "source": []
  }
 ],
 "metadata": {
  "kernelspec": {
   "display_name": "Python 3 (ipykernel)",
   "language": "python",
   "name": "python3"
  },
  "language_info": {
   "codemirror_mode": {
    "name": "ipython",
    "version": 3
   },
   "file_extension": ".py",
   "mimetype": "text/x-python",
   "name": "python",
   "nbconvert_exporter": "python",
   "pygments_lexer": "ipython3",
   "version": "3.9.19"
  }
 },
 "nbformat": 4,
 "nbformat_minor": 5
}
