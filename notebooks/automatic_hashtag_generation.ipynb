{
 "cells": [
  {
   "cell_type": "code",
   "execution_count": 2,
   "id": "05460ea9-5771-4db1-ab84-8651ddd3cd07",
   "metadata": {
    "id": "1ea61ff0-620e-4105-b4ac-e8d417a0454f"
   },
   "outputs": [],
   "source": [
    "import os\n",
    "import pandas as pd\n",
    "import requests\n",
    "from tqdm import tqdm_notebook\n",
    "import glob\n",
    "import json"
   ]
  },
  {
   "cell_type": "code",
   "execution_count": 27,
   "id": "eb4affc7-4015-4153-a1d3-dd9be534c39f",
   "metadata": {},
   "outputs": [],
   "source": [
    "# Считываем данные из таблицы (CSV или Excel, в зависимости от формата)\n",
    "file_path = '../../raw_fields_with_transliteration.pq'  # укажите правильный путь к файлу\n",
    "df = pd.read_parquet(file_path)  # если у вас Excel, используйте pd.read_excel(file_path)"
   ]
  },
  {
   "cell_type": "code",
   "execution_count": 28,
   "id": "8696e989-0b3a-4381-b979-f26224c3404a",
   "metadata": {},
   "outputs": [],
   "source": [
    "df.sort_values('index orig',inplace=True)"
   ]
  },
  {
   "cell_type": "code",
   "execution_count": 29,
   "id": "7b5b6beb-5811-4eb2-ab08-927fa990945a",
   "metadata": {},
   "outputs": [
    {
     "data": {
      "text/html": [
       "<div>\n",
       "<style scoped>\n",
       "    .dataframe tbody tr th:only-of-type {\n",
       "        vertical-align: middle;\n",
       "    }\n",
       "\n",
       "    .dataframe tbody tr th {\n",
       "        vertical-align: top;\n",
       "    }\n",
       "\n",
       "    .dataframe thead th {\n",
       "        text-align: right;\n",
       "    }\n",
       "</style>\n",
       "<table border=\"1\" class=\"dataframe\">\n",
       "  <thead>\n",
       "    <tr style=\"text-align: right;\">\n",
       "      <th></th>\n",
       "      <th>index orig</th>\n",
       "      <th>link</th>\n",
       "      <th>description</th>\n",
       "      <th>title shazam</th>\n",
       "      <th>subtitle shazam</th>\n",
       "      <th>transcription whisper v3</th>\n",
       "      <th>image captioning</th>\n",
       "      <th>title shazam transliterated</th>\n",
       "      <th>subtitle shazam transliterated</th>\n",
       "    </tr>\n",
       "  </thead>\n",
       "  <tbody>\n",
       "    <tr>\n",
       "      <th>37499</th>\n",
       "      <td>0</td>\n",
       "      <td>https://cdn-st.rutubelist.ru/media/b0/e9/ef285...</td>\n",
       "      <td>#нарезкистримов , #dota2 , #cs2 , #fifa23 , #m...</td>\n",
       "      <td>Resurrection</td>\n",
       "      <td>Tapiuanthegod</td>\n",
       "      <td>Thank you.</td>\n",
       "      <td>a soccer game with players on the field</td>\n",
       "      <td>Воскресение</td>\n",
       "      <td>Tapiuanthefod</td>\n",
       "    </tr>\n",
       "    <tr>\n",
       "      <th>37500</th>\n",
       "      <td>1</td>\n",
       "      <td>https://cdn-st.rutubelist.ru/media/39/6c/b31bc...</td>\n",
       "      <td>🤫НЕ ВВОДИ ЭТУ КОМАНДУ В РОБЛОКС ! #shorts #rob...</td>\n",
       "      <td></td>\n",
       "      <td></td>\n",
       "      <td>Сейчас я тебе покажу секретную команду в Робл...</td>\n",
       "      <td>a picture of a man in a dark room with the wo...</td>\n",
       "      <td>Я не знаю, что делать.</td>\n",
       "      <td>Я не знаю, что делать.</td>\n",
       "    </tr>\n",
       "    <tr>\n",
       "      <th>37501</th>\n",
       "      <td>2</td>\n",
       "      <td>https://cdn-st.rutubelist.ru/media/e9/e0/b47a9...</td>\n",
       "      <td>#boobs , #красивыедевушки , #ass</td>\n",
       "      <td>Substance</td>\n",
       "      <td>Greedo 03</td>\n",
       "      <td>I wanna spend some time with her Cause I can'...</td>\n",
       "      <td>a man and woman in blue paint are kissing</td>\n",
       "      <td>Вещество</td>\n",
       "      <td>Жадность 03</td>\n",
       "    </tr>\n",
       "    <tr>\n",
       "      <th>37502</th>\n",
       "      <td>3</td>\n",
       "      <td>https://cdn-st.rutubelist.ru/media/87/43/b11df...</td>\n",
       "      <td></td>\n",
       "      <td></td>\n",
       "      <td></td>\n",
       "      <td>Что он о тебе думает прямо сейчас? Слушай, ду...</td>\n",
       "      <td>a woman is sitting at a table with cards and ...</td>\n",
       "      <td>Я не знаю, что делать.</td>\n",
       "      <td>Я не знаю, что делать.</td>\n",
       "    </tr>\n",
       "    <tr>\n",
       "      <th>37503</th>\n",
       "      <td>4</td>\n",
       "      <td>https://cdn-st.rutubelist.ru/media/d1/e7/642dc...</td>\n",
       "      <td></td>\n",
       "      <td></td>\n",
       "      <td></td>\n",
       "      <td>Я убежден, что чем беднее человек, тем сложне...</td>\n",
       "      <td>a man in a purple suit is sitting at a desk</td>\n",
       "      <td>Я не знаю, что делать.</td>\n",
       "      <td>Я не знаю, что делать.</td>\n",
       "    </tr>\n",
       "    <tr>\n",
       "      <th>...</th>\n",
       "      <td>...</td>\n",
       "      <td>...</td>\n",
       "      <td>...</td>\n",
       "      <td>...</td>\n",
       "      <td>...</td>\n",
       "      <td>...</td>\n",
       "      <td>...</td>\n",
       "      <td>...</td>\n",
       "      <td>...</td>\n",
       "    </tr>\n",
       "    <tr>\n",
       "      <th>16994</th>\n",
       "      <td>39995</td>\n",
       "      <td>https://cdn-st.rutubelist.ru/media/23/be/acad5...</td>\n",
       "      <td>#спорт #наспорте #хоккей #игра #хкгуу #гол</td>\n",
       "      <td>3500 Chainz 2 Feat Future</td>\n",
       "      <td>Scott Travis</td>\n",
       "      <td>Only true niggas I know Only true niggas I know</td>\n",
       "      <td>a hockey game is being played on an ice rink</td>\n",
       "      <td>3 500 Chainz 2 Feat Future</td>\n",
       "      <td>Скотт Трэвис</td>\n",
       "    </tr>\n",
       "    <tr>\n",
       "      <th>16995</th>\n",
       "      <td>39996</td>\n",
       "      <td>https://cdn-st.rutubelist.ru/media/57/f3/ed28e...</td>\n",
       "      <td>#boobs , #красивыедевушки , #ass</td>\n",
       "      <td>Life Married</td>\n",
       "      <td>Luciani Gina</td>\n",
       "      <td>Okay!</td>\n",
       "      <td>a person is putting something in a bowl on a ...</td>\n",
       "      <td>Жизнь замужем</td>\n",
       "      <td>Лусиани Джина</td>\n",
       "    </tr>\n",
       "    <tr>\n",
       "      <th>16996</th>\n",
       "      <td>39997</td>\n",
       "      <td>https://cdn-st.rutubelist.ru/media/90/6a/fa7be...</td>\n",
       "      <td>#красивыедевушки #грудь #boobs #попа #ass #big...</td>\n",
       "      <td>Eyes Close</td>\n",
       "      <td>Dvrst</td>\n",
       "      <td>자막 제공 배달의민족</td>\n",
       "      <td>a woman with blue hair and a blue face</td>\n",
       "      <td>Закрыть глаза</td>\n",
       "      <td>Dvrst</td>\n",
       "    </tr>\n",
       "    <tr>\n",
       "      <th>16997</th>\n",
       "      <td>39998</td>\n",
       "      <td>https://cdn-st.rutubelist.ru/media/58/0d/8d9a3...</td>\n",
       "      <td>Game 7😤 TIMBERWOLVES vs The NUGGETS…Ant-Man vs...</td>\n",
       "      <td></td>\n",
       "      <td></td>\n",
       "      <td>Teksting av Nicolai Winther</td>\n",
       "      <td>two men in blue uniforms standing on a basket...</td>\n",
       "      <td>Я не знаю, что делать.</td>\n",
       "      <td>Я не знаю, что делать.</td>\n",
       "    </tr>\n",
       "    <tr>\n",
       "      <th>16998</th>\n",
       "      <td>39999</td>\n",
       "      <td>https://cdn-st.rutubelist.ru/media/fd/e7/b7ff4...</td>\n",
       "      <td>#красивыедевушки #селфи</td>\n",
       "      <td></td>\n",
       "      <td></td>\n",
       "      <td>자막 제공 배달의민족</td>\n",
       "      <td>a woman with blue skin and black hair taking ...</td>\n",
       "      <td>Я не знаю, что делать.</td>\n",
       "      <td>Я не знаю, что делать.</td>\n",
       "    </tr>\n",
       "  </tbody>\n",
       "</table>\n",
       "<p>40000 rows × 9 columns</p>\n",
       "</div>"
      ],
      "text/plain": [
       "       index orig                                               link  \\\n",
       "37499           0  https://cdn-st.rutubelist.ru/media/b0/e9/ef285...   \n",
       "37500           1  https://cdn-st.rutubelist.ru/media/39/6c/b31bc...   \n",
       "37501           2  https://cdn-st.rutubelist.ru/media/e9/e0/b47a9...   \n",
       "37502           3  https://cdn-st.rutubelist.ru/media/87/43/b11df...   \n",
       "37503           4  https://cdn-st.rutubelist.ru/media/d1/e7/642dc...   \n",
       "...           ...                                                ...   \n",
       "16994       39995  https://cdn-st.rutubelist.ru/media/23/be/acad5...   \n",
       "16995       39996  https://cdn-st.rutubelist.ru/media/57/f3/ed28e...   \n",
       "16996       39997  https://cdn-st.rutubelist.ru/media/90/6a/fa7be...   \n",
       "16997       39998  https://cdn-st.rutubelist.ru/media/58/0d/8d9a3...   \n",
       "16998       39999  https://cdn-st.rutubelist.ru/media/fd/e7/b7ff4...   \n",
       "\n",
       "                                             description  \\\n",
       "37499  #нарезкистримов , #dota2 , #cs2 , #fifa23 , #m...   \n",
       "37500  🤫НЕ ВВОДИ ЭТУ КОМАНДУ В РОБЛОКС ! #shorts #rob...   \n",
       "37501                   #boobs , #красивыедевушки , #ass   \n",
       "37502                                                      \n",
       "37503                                                      \n",
       "...                                                  ...   \n",
       "16994         #спорт #наспорте #хоккей #игра #хкгуу #гол   \n",
       "16995                   #boobs , #красивыедевушки , #ass   \n",
       "16996  #красивыедевушки #грудь #boobs #попа #ass #big...   \n",
       "16997  Game 7😤 TIMBERWOLVES vs The NUGGETS…Ant-Man vs...   \n",
       "16998                            #красивыедевушки #селфи   \n",
       "\n",
       "                    title shazam subtitle shazam  \\\n",
       "37499               Resurrection   Tapiuanthegod   \n",
       "37500                                              \n",
       "37501                  Substance       Greedo 03   \n",
       "37502                                              \n",
       "37503                                              \n",
       "...                          ...             ...   \n",
       "16994  3500 Chainz 2 Feat Future    Scott Travis   \n",
       "16995               Life Married    Luciani Gina   \n",
       "16996                 Eyes Close           Dvrst   \n",
       "16997                                              \n",
       "16998                                              \n",
       "\n",
       "                                transcription whisper v3  \\\n",
       "37499                                         Thank you.   \n",
       "37500   Сейчас я тебе покажу секретную команду в Робл...   \n",
       "37501   I wanna spend some time with her Cause I can'...   \n",
       "37502   Что он о тебе думает прямо сейчас? Слушай, ду...   \n",
       "37503   Я убежден, что чем беднее человек, тем сложне...   \n",
       "...                                                  ...   \n",
       "16994    Only true niggas I know Only true niggas I know   \n",
       "16995                                              Okay!   \n",
       "16996                                        자막 제공 배달의민족   \n",
       "16997                        Teksting av Nicolai Winther   \n",
       "16998                                        자막 제공 배달의민족   \n",
       "\n",
       "                                        image captioning  \\\n",
       "37499            a soccer game with players on the field   \n",
       "37500   a picture of a man in a dark room with the wo...   \n",
       "37501          a man and woman in blue paint are kissing   \n",
       "37502   a woman is sitting at a table with cards and ...   \n",
       "37503        a man in a purple suit is sitting at a desk   \n",
       "...                                                  ...   \n",
       "16994       a hockey game is being played on an ice rink   \n",
       "16995   a person is putting something in a bowl on a ...   \n",
       "16996             a woman with blue hair and a blue face   \n",
       "16997   two men in blue uniforms standing on a basket...   \n",
       "16998   a woman with blue skin and black hair taking ...   \n",
       "\n",
       "      title shazam transliterated subtitle shazam transliterated  \n",
       "37499                 Воскресение                  Tapiuanthefod  \n",
       "37500      Я не знаю, что делать.         Я не знаю, что делать.  \n",
       "37501                    Вещество                    Жадность 03  \n",
       "37502      Я не знаю, что делать.         Я не знаю, что делать.  \n",
       "37503      Я не знаю, что делать.         Я не знаю, что делать.  \n",
       "...                           ...                            ...  \n",
       "16994  3 500 Chainz 2 Feat Future                   Скотт Трэвис  \n",
       "16995               Жизнь замужем                  Лусиани Джина  \n",
       "16996               Закрыть глаза                          Dvrst  \n",
       "16997      Я не знаю, что делать.         Я не знаю, что делать.  \n",
       "16998      Я не знаю, что делать.         Я не знаю, что делать.  \n",
       "\n",
       "[40000 rows x 9 columns]"
      ]
     },
     "execution_count": 29,
     "metadata": {},
     "output_type": "execute_result"
    }
   ],
   "source": [
    "df"
   ]
  },
  {
   "cell_type": "code",
   "execution_count": 30,
   "id": "5b7b73ae-5855-434f-9a30-1b563c6c34dc",
   "metadata": {},
   "outputs": [],
   "source": [
    "df.reset_index(drop=True,inplace=True)"
   ]
  },
  {
   "cell_type": "markdown",
   "id": "33dbd071-5a84-46c7-aec5-fa4de78b5d90",
   "metadata": {},
   "source": [
    "## проба [saiga_llama3_8b](https://huggingface.co/IlyaGusev/saiga_llama3_8b) базово"
   ]
  },
  {
   "cell_type": "markdown",
   "id": "21a00638-eb14-455d-9886-82107eeb7d3f",
   "metadata": {},
   "source": [
    "это для запуска на cpu - [IlyaGusev/saiga_llama3_8b_gguf](https://huggingface.co/IlyaGusev/saiga_llama3_8b_ggufv)"
   ]
  },
  {
   "cell_type": "code",
   "execution_count": 56,
   "id": "2401a157-aab9-4e2a-994f-f4f466e5bbb9",
   "metadata": {},
   "outputs": [],
   "source": [
    "import time\n",
    "import torch\n",
    "from transformers import AutoModelForCausalLM, AutoTokenizer, GenerationConfig"
   ]
  },
  {
   "cell_type": "code",
   "execution_count": 23,
   "id": "39dc5cfe-eb40-44ce-b549-10eba87dfd63",
   "metadata": {},
   "outputs": [],
   "source": [
    "path_to_models :str = '/home/jovyan/models'"
   ]
  },
  {
   "cell_type": "code",
   "execution_count": 24,
   "id": "357e5464-552e-40d2-bfac-036935429342",
   "metadata": {},
   "outputs": [
    {
     "name": "stderr",
     "output_type": "stream",
     "text": [
      "/opt/conda/lib/python3.10/site-packages/huggingface_hub/file_download.py:1132: FutureWarning: `resume_download` is deprecated and will be removed in version 1.0.0. Downloads always resume when possible. If you want to force a new download, use `force_download=True`.\n",
      "  warnings.warn(\n"
     ]
    },
    {
     "data": {
      "application/vnd.jupyter.widget-view+json": {
       "model_id": "862e8b1a000e4e3d8792d65e06a60a36",
       "version_major": 2,
       "version_minor": 0
      },
      "text/plain": [
       "config.json:   0%|          | 0.00/689 [00:00<?, ?B/s]"
      ]
     },
     "metadata": {},
     "output_type": "display_data"
    },
    {
     "name": "stderr",
     "output_type": "stream",
     "text": [
      "The `load_in_4bit` and `load_in_8bit` arguments are deprecated and will be removed in the future versions. Please, pass a `BitsAndBytesConfig` object in `quantization_config` argument instead.\n"
     ]
    },
    {
     "data": {
      "application/vnd.jupyter.widget-view+json": {
       "model_id": "e0f99b32aa15438ca7add1bc9db62339",
       "version_major": 2,
       "version_minor": 0
      },
      "text/plain": [
       "model.safetensors.index.json:   0%|          | 0.00/23.9k [00:00<?, ?B/s]"
      ]
     },
     "metadata": {},
     "output_type": "display_data"
    },
    {
     "data": {
      "application/vnd.jupyter.widget-view+json": {
       "model_id": "893372b814de4c5e9afdc8bd0b0f3e53",
       "version_major": 2,
       "version_minor": 0
      },
      "text/plain": [
       "Downloading shards:   0%|          | 0/4 [00:00<?, ?it/s]"
      ]
     },
     "metadata": {},
     "output_type": "display_data"
    },
    {
     "data": {
      "application/vnd.jupyter.widget-view+json": {
       "model_id": "8b4ed3c9b5cf4f5cbf8a5e955d20f795",
       "version_major": 2,
       "version_minor": 0
      },
      "text/plain": [
       "model-00001-of-00004.safetensors:   0%|          | 0.00/4.98G [00:00<?, ?B/s]"
      ]
     },
     "metadata": {},
     "output_type": "display_data"
    },
    {
     "data": {
      "application/vnd.jupyter.widget-view+json": {
       "model_id": "376ea4e38acc4158a7e0f4e23ea3ed00",
       "version_major": 2,
       "version_minor": 0
      },
      "text/plain": [
       "model-00002-of-00004.safetensors:   0%|          | 0.00/5.00G [00:00<?, ?B/s]"
      ]
     },
     "metadata": {},
     "output_type": "display_data"
    },
    {
     "data": {
      "application/vnd.jupyter.widget-view+json": {
       "model_id": "9d661e348cc94b958c9f902d519ccd47",
       "version_major": 2,
       "version_minor": 0
      },
      "text/plain": [
       "model-00003-of-00004.safetensors:   0%|          | 0.00/4.92G [00:00<?, ?B/s]"
      ]
     },
     "metadata": {},
     "output_type": "display_data"
    },
    {
     "data": {
      "application/vnd.jupyter.widget-view+json": {
       "model_id": "8e5a93304a5c4230a2ff0c14daa0bf6b",
       "version_major": 2,
       "version_minor": 0
      },
      "text/plain": [
       "model-00004-of-00004.safetensors:   0%|          | 0.00/1.17G [00:00<?, ?B/s]"
      ]
     },
     "metadata": {},
     "output_type": "display_data"
    },
    {
     "data": {
      "application/vnd.jupyter.widget-view+json": {
       "model_id": "bd6de4827f914bb6b6cdc71ee5af7b57",
       "version_major": 2,
       "version_minor": 0
      },
      "text/plain": [
       "Loading checkpoint shards:   0%|          | 0/4 [00:00<?, ?it/s]"
      ]
     },
     "metadata": {},
     "output_type": "display_data"
    },
    {
     "data": {
      "application/vnd.jupyter.widget-view+json": {
       "model_id": "c5b353d2d5e045deb40fc0d7904c5817",
       "version_major": 2,
       "version_minor": 0
      },
      "text/plain": [
       "generation_config.json:   0%|          | 0.00/277 [00:00<?, ?B/s]"
      ]
     },
     "metadata": {},
     "output_type": "display_data"
    },
    {
     "data": {
      "application/vnd.jupyter.widget-view+json": {
       "model_id": "2bca7c87653a4c50927053b0f54c7b1c",
       "version_major": 2,
       "version_minor": 0
      },
      "text/plain": [
       "tokenizer_config.json:   0%|          | 0.00/51.0k [00:00<?, ?B/s]"
      ]
     },
     "metadata": {},
     "output_type": "display_data"
    },
    {
     "data": {
      "application/vnd.jupyter.widget-view+json": {
       "model_id": "b561a2f6a85641e0ae6a77ae0f163dc0",
       "version_major": 2,
       "version_minor": 0
      },
      "text/plain": [
       "tokenizer.json:   0%|          | 0.00/9.09M [00:00<?, ?B/s]"
      ]
     },
     "metadata": {},
     "output_type": "display_data"
    },
    {
     "data": {
      "application/vnd.jupyter.widget-view+json": {
       "model_id": "9228e9b1e1064f82b6662046d88c1091",
       "version_major": 2,
       "version_minor": 0
      },
      "text/plain": [
       "special_tokens_map.json:   0%|          | 0.00/446 [00:00<?, ?B/s]"
      ]
     },
     "metadata": {},
     "output_type": "display_data"
    },
    {
     "name": "stderr",
     "output_type": "stream",
     "text": [
      "Special tokens have been added in the vocabulary, make sure the associated word embeddings are fine-tuned or trained.\n"
     ]
    }
   ],
   "source": [
    "MODEL_NAME = \"IlyaGusev/saiga_llama3_8b\"\n",
    "model = AutoModelForCausalLM.from_pretrained(\n",
    "    MODEL_NAME,\n",
    "    load_in_8bit=True,\n",
    "    torch_dtype=torch.bfloat16,\n",
    "    device_map=\"auto\",\n",
    "    cache_dir=path_to_models\n",
    ")\n",
    "model.eval()\n",
    "\n",
    "tokenizer = AutoTokenizer.from_pretrained(MODEL_NAME, cache_dir=path_to_models)\n",
    "generation_config = GenerationConfig.from_pretrained(MODEL_NAME, cache_dir=path_to_models)"
   ]
  },
  {
   "cell_type": "code",
   "execution_count": 35,
   "id": "ab4c43f0-c1aa-46bb-a1e0-eba87b880f4f",
   "metadata": {},
   "outputs": [],
   "source": [
    "def generate_llm(\n",
    "    text: str, model: AutoModelForCausalLM, tokenizer: AutoTokenizer, config: dict\n",
    ") -> str:\n",
    "    \"\"\"\n",
    "    Принимает на вход один сэмпл текста, который необходимо аугментировать с помощью LLM\n",
    "\n",
    "    Args:\n",
    "        text (str): Текст, который нужно аугментировать\n",
    "        model (AutoModelForCausalLM): LLM модель\n",
    "        tokenizer (AutoTokenizer): Токенизатор\n",
    "        config (dict): Конфиг, где определены основные параметры генерации, а также системный промпт и юзер промпт\n",
    "\n",
    "    Returns:\n",
    "        str: Аугментированное предложение\n",
    "    \"\"\"\n",
    "    input_messages = [\n",
    "        {\n",
    "            \"role\": \"system\",\n",
    "            \"content\": config[\"prompts\"][\"system_prompt\"],\n",
    "        },\n",
    "        {\n",
    "            \"role\": \"user\",\n",
    "            \"content\": config[\"prompts\"][\"user_prompt\"].format(message=text),\n",
    "        },\n",
    "    ]\n",
    "    terminators = [\n",
    "        tokenizer.eos_token_id,\n",
    "        tokenizer.convert_tokens_to_ids(\"<|eot_id|>\"),\n",
    "    ]\n",
    "\n",
    "    input_ids = tokenizer.apply_chat_template(\n",
    "        input_messages, add_generation_prompt=True, return_tensors=\"pt\", tokenize=True\n",
    "    ).to(model.device)\n",
    "\n",
    "    outputs = model.generate(\n",
    "        input_ids,\n",
    "        max_new_tokens=config[\"generation_parameters\"][\"max_new_tokens\"],\n",
    "        eos_token_id=terminators,\n",
    "        do_sample=config[\"generation_parameters\"][\"do_sample\"],\n",
    "        temperature=config[\"generation_parameters\"][\"temperature\"],\n",
    "        top_p=config[\"generation_parameters\"][\"top_p\"],\n",
    "        top_k=config[\"generation_parameters\"][\"top_k\"],\n",
    "        no_repeat_ngram_size=config[\"generation_parameters\"][\"no_repeat_ngram_size\"],\n",
    "    )\n",
    "\n",
    "    response = outputs[0][input_ids.shape[-1] :]\n",
    "    output_text = tokenizer.decode(response, skip_special_tokens=True)\n",
    "\n",
    "    return output_text"
   ]
  },
  {
   "cell_type": "code",
   "execution_count": 111,
   "id": "ebc501fb-8f15-4226-8965-890785a9d540",
   "metadata": {},
   "outputs": [],
   "source": [
    "DEFAULT_SYSTEM_PROMPT = \"\"\"|\n",
    "Сгенерируй топ-5 качественных коротких поисковых запроса, состоящих из одного или двух слов, с помощью которых можно легко найти короткий видеоролик длительностью от 15 и до 60 секунд.\n",
    "Опирайся на транскрибацию аудио и описание фрейма видео.\n",
    "\n",
    "На вход подаются следующие сущности, которые отделены между друг другом '||':\n",
    "  - transcription: транскрибация аудио на любом языке \n",
    "  - image_caption: описание фрейма видео на английском\n",
    "\n",
    "На выходе должно быть только JSON с ключом 'queries', значением которого является список из пяти наиболее подходящих коротких поисковых запросов для видео. Запросы должны быть короткими и точными, не превышать два слова.\n",
    "\n",
    "Пример 1 входных данных :\n",
    "transcription: Привет, это мой новый влог о путешествии в Париж!\n",
    "||image_caption: a view of the Eiffel Tower in Paris\n",
    "\n",
    "Пример 1 выходного JSON :\n",
    "{\n",
    "   \"queries\": [\n",
    "      \"влог о путешествии\",\n",
    "      \"путешествия\",\n",
    "      \"Париж\",\n",
    "      \"Eiffel Tower\",\n",
    "      \"Paris travel\",\n",
    "   ]\n",
    "}\n",
    "\n",
    "Пример 2 входных данных :\n",
    "transcription: В этом видео я расскажу, как приготовить вкуснейший шоколадный торт всего за 30 минут!\n",
    "||image_caption: a close-up of a chocolate cake with strawberries on top\n",
    "\n",
    "Пример 2 выходного JSON :\n",
    "{\n",
    "   \"queries\": [\n",
    "      \"шоколадный торт\",\n",
    "      \"торт рецепт\",\n",
    "      \"приготовление торта\",\n",
    "      \"cake\",\n",
    "      \"шоколад\"\n",
    "   ]\n",
    "}\n",
    "\n",
    "Пример 3 входных данных :\n",
    "transcription: В этом ролике мы рассмотрим основные функции последней модели iPhone и сравним ее с предыдущей версией.\n",
    "||image_caption: a new iPhone model with its box\n",
    "\n",
    "Пример 3 выходного JSON :\n",
    "{\n",
    "   \"queries\": [\n",
    "      \"новый iPhone\",\n",
    "      \"iPhone обзор\",\n",
    "      \"iPhone функции\",\n",
    "      \"iPhone сравнение\",\n",
    "      \"смартфон\"\n",
    "   ]\n",
    "}\n",
    "\"\"\""
   ]
  },
  {
   "cell_type": "code",
   "execution_count": 112,
   "id": "14b53a07-5435-48a7-8014-14aa053b4553",
   "metadata": {},
   "outputs": [],
   "source": [
    "max_new_tokens = 512\n",
    "temperature = 0.2"
   ]
  },
  {
   "cell_type": "code",
   "execution_count": 121,
   "id": "b4ebbb31-a69f-491a-ac32-07ea15aa0d5c",
   "metadata": {},
   "outputs": [],
   "source": [
    "config = {\n",
    "    \"prompts\": {\n",
    "        \"system_prompt\": DEFAULT_SYSTEM_PROMPT,\n",
    "        \"user_prompt\": \"\"\"|\n",
    "                           {message}\n",
    "                           \"\"\",\n",
    "    },\n",
    "    \"generation_parameters\": {\n",
    "        \"max_new_tokens\": max_new_tokens,\n",
    "        \"do_sample\": True,\n",
    "        \"temperature\": temperature,\n",
    "        \"top_k\": 30,\n",
    "        \"top_p\": 0.9,\n",
    "        \"no_repeat_ngram_size\":None\n",
    "    },\n",
    "}"
   ]
  },
  {
   "cell_type": "code",
   "execution_count": 122,
   "id": "876a625a-41df-4556-9e23-e661f2ab9ade",
   "metadata": {},
   "outputs": [],
   "source": [
    "delimiter: str = \"||\""
   ]
  },
  {
   "cell_type": "code",
   "execution_count": 123,
   "id": "c804aecd-090f-4714-87ff-43b98534cf61",
   "metadata": {},
   "outputs": [],
   "source": [
    "indexes = range(0, 5)"
   ]
  },
  {
   "cell_type": "code",
   "execution_count": 124,
   "id": "7c6542b0-c834-4700-9279-e380756d8ec0",
   "metadata": {},
   "outputs": [
    {
     "name": "stderr",
     "output_type": "stream",
     "text": [
      "/home/jovyan/.local/lib/python3.10/site-packages/bitsandbytes/autograd/_functions.py:316: UserWarning: MatMul8bitLt: inputs will be cast from torch.bfloat16 to float16 during quantization\n",
      "  warnings.warn(f\"MatMul8bitLt: inputs will be cast from {A.dtype} to float16 during quantization\")\n"
     ]
    }
   ],
   "source": [
    "answers: list[int] = []\n",
    "\n",
    "all_outputs :list[str] = []\n",
    "\n",
    "start_time = time.time()\n",
    "for index in tqdm_notebook(indexes):\n",
    "    row = df.iloc[index]\n",
    "    text: str = f\"transcription:{row['transcription whisper v3']}{delimiter}image_caption:{row['image captioning']}\"\n",
    "\n",
    "    output_text = generate_llm(text, model, tokenizer, config)\n",
    "\n",
    "    try:\n",
    "        result = json.loads(output_text.strip('```json\\n```'))\n",
    "        answer = result[\"queries\"]\n",
    "    except Exception as e:\n",
    "        print(e)\n",
    "        answer = \"\"\n",
    "    answers.append(answer)\n",
    "    all_outputs.append(output_text)\n",
    "exec_time = time.time()-start_time\n",
    "mean_time = (exec_time)/len(all_outputs)"
   ]
  },
  {
   "cell_type": "code",
   "execution_count": 130,
   "id": "dd44eb8a-9b65-4bf9-ace4-cbdc5e2157d3",
   "metadata": {},
   "outputs": [
    {
     "name": "stdout",
     "output_type": "stream",
     "text": [
      "exec_time: 39.43 sec.\n",
      "mean_time: 7.89 sec.\n"
     ]
    }
   ],
   "source": [
    "print(f\"exec_time: {exec_time:.2f} sec.\")\n",
    "print(f\"mean_time: {mean_time:.2f} sec.\")"
   ]
  },
  {
   "cell_type": "code",
   "execution_count": 126,
   "id": "f8f87bf6-deb1-4da5-9665-2be70b5b27c3",
   "metadata": {},
   "outputs": [
    {
     "name": "stdout",
     "output_type": "stream",
     "text": [
      "index:0\n",
      "--------------------\n",
      "text for llm:transcription: Thank you.\n",
      "||image_caption: a soccer game with players on the field\n",
      "--------------------\n",
      "output_text:{\n",
      "   \"queries\": [\n",
      "      \"сoccer\",\n",
      "      \"soccer game\",\n",
      "      \"футбол игра\",\n",
      "      \"игра футбол\",\n",
      "      \"спорт\"\n",
      "   ]\n",
      "}\n",
      "========================================\n",
      "\n",
      "index:1\n",
      "--------------------\n",
      "text for llm:transcription: Сейчас я тебе покажу секретную команду в Роблоксе. Чтобы её активировать поставь лайк и подпишись, а также введи в чат команду ILOVEYOU. Когда вы её введёте у вас на экране появится вот такой клоун. Скрипт был создан одним из создателей Роблокса и работает только в играх, где есть Роблос девелопер сервис. Чтобы убрать скример нужно всего\n",
      "||image_caption: a picture of a man in a dark room with the words bot takon\n",
      "--------------------\n",
      "output_text:{\n",
      "   \"queries\": [\n",
      "      \"Роблокс секретная команда\",\n",
      "      \"ILOVEYOU Roblox\",\n",
      "      \"скриммер Roblox\",\n",
      "      \"Roblox developer service\",\n",
      "      \"клоун Roblox\"\n",
      "   ]\n",
      "}\n",
      "========================================\n",
      "\n",
      "index:2\n",
      "--------------------\n",
      "text for llm:transcription: I wanna spend some time with her Cause I can't get her through Type of bitch, I don't know who Falling in love\n",
      "||image_caption: a man and woman in blue paint are kissing\n",
      "--------------------\n",
      "output_text:{\n",
      "   \"queries\": [\n",
      "      \"любовь песня\",\n",
      "      \"песни про любовь\",\n",
      "      \"клип\",\n",
      "      \"парень и девушка\",\n",
      "      \"синий цвет\"\n",
      "   ]\n",
      "}\n",
      "========================================\n",
      "\n",
      "index:3\n",
      "--------------------\n",
      "text for llm:transcription: Что он о тебе думает прямо сейчас? Слушай, думает, что ты, знаешь, для него непосильная ноша. Как будто бы, да, королева мечей. Чувствует то, что ты по характеру гораздо сильнее, и то, что ему с тобой будет очень сложно. Но при этом есть желания, и желания не совсем приличные. Проявляться боится, и, честно говоря, сам проявляться не будет. Я бы на твоем месте вообще подумала, нужен ли тебе такой партнер, который слабее тебя. Но выводы делай сама.\n",
      "||image_caption: a woman is sitting at a table with cards and a book\n",
      "--------------------\n",
      "output_text:{\n",
      "   \"queries\": [\n",
      "      \"как думает парень о девушке\",\n",
      "      \"непосильная ноша\",\n",
      "      \"королева мечей\",\n",
      "      \"сильная женщина\",\n",
      "      \"неоднозначные желания\"\n",
      "   ]\n",
      "}\n",
      "========================================\n",
      "\n",
      "index:4\n",
      "--------------------\n",
      "text for llm:transcription: Я убежден, что чем беднее человек, тем сложнее его удовлетворить. Потому что тот человек, у которого нет денег, он всегда недоволен чем-то, он всегда просит больше. А тот человек, который в принципе удовлетворен своими деньгами, он говорит, классно, это здорово, спасибо и идет и делает.\n",
      "||image_caption: a man in a purple suit is sitting at a desk\n",
      "--------------------\n",
      "output_text:{\n",
      "   \"queries\": [\n",
      "      \"удовлетворенность жизнью\",\n",
      "      \"счастье без богатства\",\n",
      "      \"как быть счастливым\",\n",
      "      \"справедливость жизни\",\n",
      "      \"богатство и счастье\"\n",
      "   ]\n",
      "}\n",
      "========================================\n",
      "\n"
     ]
    }
   ],
   "source": [
    "for index in indexes:\n",
    "    row = df.iloc[index]\n",
    "    text: str = f\"transcription:{row['transcription whisper v3']}\\n{delimiter}image_caption:{row['image captioning']}\"\n",
    "    print(f\"index:{index}\")\n",
    "    print(20*'-')\n",
    "    print(f\"text for llm:{text}\")\n",
    "    print(20*'-')\n",
    "    print(f\"output_text:{all_outputs[index]}\")\n",
    "    print(40*'=')\n",
    "    print()"
   ]
  },
  {
   "cell_type": "markdown",
   "id": "83eb2713-cea0-464c-a3d5-798a0d7123d7",
   "metadata": {},
   "source": [
    "**Итог:**\n",
    "\n",
    "Модель `IlyaGusev/saiga_llama3_8b` ( при подборе промпта, параметров генерации модели и few-shot ) генерирует полезные хэштеги для пользователей и поиска, которые можно в дальнейшем использовать. \n",
    "\n",
    "Время работы генерации около 8 секунд на GPU, что дольше чем вся текущая индексация видео. Поэтому данное решение можно использовать как генерацию хэштегов видео для пользователей, которые не писали ничего в поле `описание видео` и предлагать им отредактировать автосгенерированные хэштеги.\n",
    "\n",
    "Кроме того, потребление модели `IlyaGusev/saiga_llama3_8b` загруженной в 8 битах (load_in_8bit=True) от 10 до 13 Гб  GPU поэтому для ее использования нужна отдельный сервер GPU."
   ]
  }
 ],
 "metadata": {
  "kernelspec": {
   "display_name": "Python 3 (ipykernel)",
   "language": "python",
   "name": "python3"
  },
  "language_info": {
   "codemirror_mode": {
    "name": "ipython",
    "version": 3
   },
   "file_extension": ".py",
   "mimetype": "text/x-python",
   "name": "python",
   "nbconvert_exporter": "python",
   "pygments_lexer": "ipython3",
   "version": "3.10.6"
  }
 },
 "nbformat": 4,
 "nbformat_minor": 5
}
