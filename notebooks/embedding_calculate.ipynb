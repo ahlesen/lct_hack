{
 "cells": [
  {
   "cell_type": "code",
   "execution_count": 1,
   "metadata": {},
   "outputs": [],
   "source": [
    "import pandas as pd\n",
    "import jsonlines\n",
    "from typing import List, Optional\n",
    "import sys\n",
    "sys.path.append(\"../\")\n",
    "from src.engine.embedding import Embedding"
   ]
  },
  {
   "cell_type": "code",
   "execution_count": 2,
   "metadata": {},
   "outputs": [],
   "source": [
    "data = pd.read_parquet(\"../data/yappy_hackaton_2024_40k_v1_to_elastic.pq\")"
   ]
  },
  {
   "cell_type": "code",
   "execution_count": 3,
   "metadata": {},
   "outputs": [],
   "source": [
    "embedding = Embedding(device=\"cuda:0\")"
   ]
  },
  {
   "cell_type": "code",
   "execution_count": 4,
   "metadata": {},
   "outputs": [],
   "source": [
    "concat_fields = list(\"passage: \" + data[\"description_postprocessed\"] + \" \" + data[\"title_shazam_postprocessed\"] + \" \" + data[\"subtitle_shazam_postprocessed\"])\n",
    "# concat_fields = concat_fields[:1000]"
   ]
  },
  {
   "cell_type": "code",
   "execution_count": 5,
   "metadata": {
    "scrolled": true
   },
   "outputs": [],
   "source": [
    "bs = 500\n",
    "text_embeddings: List[List[float]] = []\n",
    "for i in range(0, len(concat_fields), bs):\n",
    "    batch = concat_fields[i:i+bs]\n",
    "    text_embeddings.extend(embedding(texts=batch))"
   ]
  },
  {
   "cell_type": "code",
   "execution_count": 6,
   "metadata": {},
   "outputs": [],
   "source": [
    "data[\"embedding\"] = text_embeddings"
   ]
  },
  {
   "cell_type": "code",
   "execution_count": 21,
   "metadata": {},
   "outputs": [],
   "source": [
    "def create_documents_jsonl(data: Optional[pd.DataFrame] = None, path_to_pq: Optional[str] = None, path_to_save: str = \"../data/documents.jsonl\"):\n",
    "    if data is None and path_to_csv is None:\n",
    "        raise Exception\n",
    "    if data is None:\n",
    "        data = pd.read_parquet(path_to_pq)\n",
    "        \n",
    "    with jsonlines.open(path_to_save, mode=\"a\") as writer:\n",
    "        for idx, row in data.iterrows():\n",
    "            sample = {}\n",
    "            sample[\"doc_id\"] = row[\"index orig\"]\n",
    "            sample[\"embedding\"] = row[\"embedding\"]\n",
    "            sample[\"text_hashtags\"] = row[\"description_postprocessed\"]\n",
    "            sample[\"video_hashtags\"] = \"\"\n",
    "            sample[\"audio_transcription\"] = row[\"transcription_postprocessed\"]\n",
    "            sample[\"song_name\"] = row[\"title_shazam_postprocessed\"]\n",
    "            sample[\"song_author\"] = row[\"subtitle_shazam_postprocessed\"]\n",
    "            writer.write(sample)"
   ]
  }
 ],
 "metadata": {
  "kernelspec": {
   "display_name": "Python 3 (ipykernel)",
   "language": "python",
   "name": "python3"
  },
  "language_info": {
   "codemirror_mode": {
    "name": "ipython",
    "version": 3
   },
   "file_extension": ".py",
   "mimetype": "text/x-python",
   "name": "python",
   "nbconvert_exporter": "python",
   "pygments_lexer": "ipython3",
   "version": "3.9.19"
  }
 },
 "nbformat": 4,
 "nbformat_minor": 4
}
