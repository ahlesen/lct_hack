{
 "cells": [
  {
   "cell_type": "code",
   "execution_count": 32,
   "metadata": {},
   "outputs": [],
   "source": [
    "from typing import List\n",
    "import pandas as pd\n",
    "import sys\n",
    "sys.path.append(\"../\")\n",
    "sys.path.append(\"../src/\")\n",
    "from tqdm.notebook import tqdm\n",
    "from src.engine.morph import Morph\n",
    "from src.engine.utils import fts_text_processing_passage, embedding_text_processing_passage\n",
    "from src.engine.embedding import Embedding\n",
    "\n",
    "morph_model = Morph()"
   ]
  },
  {
   "cell_type": "code",
   "execution_count": 30,
   "metadata": {},
   "outputs": [],
   "source": [
    "data = pd.read_parquet(\"../data/raw_data.pq\")\n",
    "data.rename(columns={col:\"raw_\" + \"_\".join(col.split()) for col in data.columns.values if col not in [\"index orig\", \"link\"]}, inplace=True)\n",
    "data.rename(columns={\"link\": \"video_url\"}, inplace=True)\n",
    "\n",
    "data[\"_id\"] = data[\"video_url\"]"
   ]
  },
  {
   "cell_type": "code",
   "execution_count": 31,
   "metadata": {},
   "outputs": [
    {
     "data": {
      "text/html": [
       "<div>\n",
       "<style scoped>\n",
       "    .dataframe tbody tr th:only-of-type {\n",
       "        vertical-align: middle;\n",
       "    }\n",
       "\n",
       "    .dataframe tbody tr th {\n",
       "        vertical-align: top;\n",
       "    }\n",
       "\n",
       "    .dataframe thead th {\n",
       "        text-align: right;\n",
       "    }\n",
       "</style>\n",
       "<table border=\"1\" class=\"dataframe\">\n",
       "  <thead>\n",
       "    <tr style=\"text-align: right;\">\n",
       "      <th></th>\n",
       "      <th>index orig</th>\n",
       "      <th>video_url</th>\n",
       "      <th>raw_description</th>\n",
       "      <th>raw_title_shazam</th>\n",
       "      <th>raw_subtitle_shazam</th>\n",
       "      <th>raw_transcription_whisper_v3</th>\n",
       "      <th>raw_image_captioning</th>\n",
       "      <th>_id</th>\n",
       "    </tr>\n",
       "  </thead>\n",
       "  <tbody>\n",
       "    <tr>\n",
       "      <th>0</th>\n",
       "      <td>5000</td>\n",
       "      <td>https://cdn-st.rutubelist.ru/media/67/86/ebba7...</td>\n",
       "      <td>Sejak saat itu, senyumku jadi palsu-----------...</td>\n",
       "      <td>Here's Your Perfect</td>\n",
       "      <td>Jamie Miller</td>\n",
       "      <td>もう! 雉真のバカ!雉真のせいで勉強できない!せっかくしたのに雉真があんな態度だから思い出す...</td>\n",
       "      <td>an anime character with blue hair and blue eyes</td>\n",
       "      <td>https://cdn-st.rutubelist.ru/media/67/86/ebba7...</td>\n",
       "    </tr>\n",
       "    <tr>\n",
       "      <th>1</th>\n",
       "      <td>5001</td>\n",
       "      <td>https://cdn-st.rutubelist.ru/media/73/3b/9c1d6...</td>\n",
       "      <td>#красивыедевушки #азиатки #boobs #грудь</td>\n",
       "      <td>走路像只鸭(DJ咚鼓版)</td>\n",
       "      <td>黑暗萝莉, 孙大佛爷, 索菲亚, 沈子凡 &amp; 社长姐姐</td>\n",
       "      <td>Субтитры сделал DimaTorzok</td>\n",
       "      <td>a woman with blue skin and dark hair</td>\n",
       "      <td>https://cdn-st.rutubelist.ru/media/73/3b/9c1d6...</td>\n",
       "    </tr>\n",
       "    <tr>\n",
       "      <th>2</th>\n",
       "      <td>5002</td>\n",
       "      <td>https://cdn-st.rutubelist.ru/media/90/62/ff4c5...</td>\n",
       "      <td>#boobs , #bigass , #girls , #pussy , #еда , #г...</td>\n",
       "      <td>Shaman King (Russian Version)</td>\n",
       "      <td>SHAMAN KING</td>\n",
       "      <td>Шаман Субтитры сделал DimaTorzok Краду, краду...</td>\n",
       "      <td>a man with blue hair and a microphone</td>\n",
       "      <td>https://cdn-st.rutubelist.ru/media/90/62/ff4c5...</td>\n",
       "    </tr>\n",
       "    <tr>\n",
       "      <th>3</th>\n",
       "      <td>5003</td>\n",
       "      <td>https://cdn-st.rutubelist.ru/media/67/59/68236...</td>\n",
       "      <td>#образ #lookbook #показ #неделямоды #капсула #...</td>\n",
       "      <td>Talking to the Moon</td>\n",
       "      <td>Bruno Mars</td>\n",
       "      <td>Так правильно выбрать актуальное худио. Ставь...</td>\n",
       "      <td>a person wearing gloves and a white shirt</td>\n",
       "      <td>https://cdn-st.rutubelist.ru/media/67/59/68236...</td>\n",
       "    </tr>\n",
       "    <tr>\n",
       "      <th>4</th>\n",
       "      <td>5004</td>\n",
       "      <td>https://cdn-st.rutubelist.ru/media/c2/ab/3ff35...</td>\n",
       "      <td>#уходзакожей #уходзасобой #бьютирутина #бьюти ...</td>\n",
       "      <td>Me So Horny</td>\n",
       "      <td>The 2 Live Crew</td>\n",
       "      <td>ТОП 5 стайлингов из масс-маркета ТОП 5 стайли...</td>\n",
       "      <td>a tube of tat hair care product on a white ba...</td>\n",
       "      <td>https://cdn-st.rutubelist.ru/media/c2/ab/3ff35...</td>\n",
       "    </tr>\n",
       "  </tbody>\n",
       "</table>\n",
       "</div>"
      ],
      "text/plain": [
       "   index orig                                          video_url  \\\n",
       "0        5000  https://cdn-st.rutubelist.ru/media/67/86/ebba7...   \n",
       "1        5001  https://cdn-st.rutubelist.ru/media/73/3b/9c1d6...   \n",
       "2        5002  https://cdn-st.rutubelist.ru/media/90/62/ff4c5...   \n",
       "3        5003  https://cdn-st.rutubelist.ru/media/67/59/68236...   \n",
       "4        5004  https://cdn-st.rutubelist.ru/media/c2/ab/3ff35...   \n",
       "\n",
       "                                     raw_description  \\\n",
       "0  Sejak saat itu, senyumku jadi palsu-----------...   \n",
       "1            #красивыедевушки #азиатки #boobs #грудь   \n",
       "2  #boobs , #bigass , #girls , #pussy , #еда , #г...   \n",
       "3  #образ #lookbook #показ #неделямоды #капсула #...   \n",
       "4  #уходзакожей #уходзасобой #бьютирутина #бьюти ...   \n",
       "\n",
       "                raw_title_shazam          raw_subtitle_shazam  \\\n",
       "0            Here's Your Perfect                 Jamie Miller   \n",
       "1                   走路像只鸭(DJ咚鼓版)  黑暗萝莉, 孙大佛爷, 索菲亚, 沈子凡 & 社长姐姐   \n",
       "2  Shaman King (Russian Version)                  SHAMAN KING   \n",
       "3            Talking to the Moon                   Bruno Mars   \n",
       "4                    Me So Horny              The 2 Live Crew   \n",
       "\n",
       "                        raw_transcription_whisper_v3  \\\n",
       "0  もう! 雉真のバカ!雉真のせいで勉強できない!せっかくしたのに雉真があんな態度だから思い出す...   \n",
       "1                         Субтитры сделал DimaTorzok   \n",
       "2   Шаман Субтитры сделал DimaTorzok Краду, краду...   \n",
       "3   Так правильно выбрать актуальное худио. Ставь...   \n",
       "4   ТОП 5 стайлингов из масс-маркета ТОП 5 стайли...   \n",
       "\n",
       "                                raw_image_captioning  \\\n",
       "0    an anime character with blue hair and blue eyes   \n",
       "1               a woman with blue skin and dark hair   \n",
       "2              a man with blue hair and a microphone   \n",
       "3          a person wearing gloves and a white shirt   \n",
       "4   a tube of tat hair care product on a white ba...   \n",
       "\n",
       "                                                 _id  \n",
       "0  https://cdn-st.rutubelist.ru/media/67/86/ebba7...  \n",
       "1  https://cdn-st.rutubelist.ru/media/73/3b/9c1d6...  \n",
       "2  https://cdn-st.rutubelist.ru/media/90/62/ff4c5...  \n",
       "3  https://cdn-st.rutubelist.ru/media/67/59/68236...  \n",
       "4  https://cdn-st.rutubelist.ru/media/c2/ab/3ff35...  "
      ]
     },
     "execution_count": 31,
     "metadata": {},
     "output_type": "execute_result"
    }
   ],
   "source": [
    "data.head()"
   ]
  },
  {
   "cell_type": "code",
   "execution_count": 33,
   "metadata": {},
   "outputs": [
    {
     "data": {
      "application/vnd.jupyter.widget-view+json": {
       "model_id": "78d667f9ae73412a94445966863a24f8",
       "version_major": 2,
       "version_minor": 0
      },
      "text/plain": [
       "0it [00:00, ?it/s]"
      ]
     },
     "metadata": {},
     "output_type": "display_data"
    }
   ],
   "source": [
    "# for fts\n",
    "full_text = []\n",
    "text_hashtags = []\n",
    "song_name = []\n",
    "song_author = []\n",
    "song_name_transliterated = []\n",
    "song_author_transliterated = []\n",
    "video_hashtags = []\n",
    "audio_hashtags = []\n",
    "audio_transcription = []\n",
    "# for embedding\n",
    "text_to_embedds = []\n",
    "\n",
    "for _, row in tqdm(data.iterrows(),):\n",
    "    text_to_embedd: str = embedding_text_processing_passage(\n",
    "        morph=morph_model,\n",
    "        raw_description=row.raw_description,\n",
    "        raw_audio_transcription=row.raw_transcription_whisper_v3,\n",
    "        raw_video_hashtags=row.raw_image_captioning,\n",
    "    )\n",
    "\n",
    "    # text_to_fts: Dict[str, str] = fts_text_processing_passage(\n",
    "    #     morph=morph_model,\n",
    "    #     raw_description=row.raw_description,\n",
    "    #     raw_song_name=row.raw_title_shazam,\n",
    "    #     raw_song_author=row.raw_subtitle_shazam,\n",
    "    #     raw_song_name_transliterated=...,\n",
    "    #     raw_song_author_transliterated=...,\n",
    "    #     raw_audio_transcription=row.raw_transcription_whisper_v3,\n",
    "    #     raw_video_hashtags=row.raw_image_captioning,\n",
    "    # )\n",
    "\n",
    "    text_to_embedds.append(text_to_embedd)\n",
    "    # full_text.append(text_to_fts[\"full_text\"])\n",
    "    # text_hashtags.append(text_to_fts[\"clean_description\"])\n",
    "    # song_name.append(text_to_fts[\"clean_song_name\"])\n",
    "    # song_author.append(text_to_fts[\"clean_song_author\"])\n",
    "    # song_name_transliterated.append(text_to_fts[\"clean_song_name_transliterated\"])\n",
    "    # song_author_transliterated.append(text_to_fts[\"clean_song_author_transliterated\"])\n",
    "    # video_hashtags.append(text_to_fts[\"clean_video_hashtags\"])\n",
    "    # audio_hashtags.append(text_to_fts[\"clean_audio_hashtags\"])\n",
    "    # audio_transcription.append(text_to_fts[\"clean_audio_transcription\"])"
   ]
  },
  {
   "cell_type": "code",
   "execution_count": 37,
   "metadata": {},
   "outputs": [
    {
     "ename": "SyntaxError",
     "evalue": "unexpected EOF while parsing (572476986.py, line 1)",
     "output_type": "error",
     "traceback": [
      "\u001b[0;36m  Cell \u001b[0;32mIn[37], line 1\u001b[0;36m\u001b[0m\n\u001b[0;31m    data[\u001b[0m\n\u001b[0m         ^\u001b[0m\n\u001b[0;31mSyntaxError\u001b[0m\u001b[0;31m:\u001b[0m unexpected EOF while parsing\n"
     ]
    }
   ],
   "source": [
    "data[\"text_to_embedd\"] = text_to_embedds\n",
    "data[\"full_text\"] = full_text\n",
    "data[\"text_hashtags\"] = text_hashtags\n",
    "data[\"song_name\"] = song_name\n",
    "data[\"song_author\"] = song_author\n",
    "data[\"song_name_transliterated\"] = song_name_transliterated\n",
    "data[\"song_author_transliterated\"] = song_author_transliterated\n",
    "data[\"video_hashtags\"] = video_hashtags\n",
    "data[\"audio_hashtags\"] = audio_hashtags\n",
    "data[\"audio_transcription\"] = audio_transcription"
   ]
  },
  {
   "cell_type": "code",
   "execution_count": null,
   "metadata": {},
   "outputs": [],
   "source": [
    "embedding = Embedding(device=\"cuda:0\")\n",
    "\n",
    "bs = 500\n",
    "text_embeddings: List[List[float]] = []\n",
    "for i in tqdm(range(0, len(text_to_embedds), bs)):\n",
    "    batch = text_to_embedds[i:i+bs]\n",
    "    text_embeddings.extend(embedding(texts=batch))"
   ]
  },
  {
   "cell_type": "code",
   "execution_count": null,
   "metadata": {},
   "outputs": [],
   "source": [
    "data[\"embedding\"] = text_embeddings"
   ]
  },
  {
   "cell_type": "code",
   "execution_count": null,
   "metadata": {},
   "outputs": [],
   "source": [
    "data.to_parquet(\"../data/final.pq\")"
   ]
  }
 ],
 "metadata": {
  "kernelspec": {
   "display_name": "Python 3 (ipykernel)",
   "language": "python",
   "name": "python3"
  },
  "language_info": {
   "codemirror_mode": {
    "name": "ipython",
    "version": 3
   },
   "file_extension": ".py",
   "mimetype": "text/x-python",
   "name": "python",
   "nbconvert_exporter": "python",
   "pygments_lexer": "ipython3",
   "version": "3.9.19"
  }
 },
 "nbformat": 4,
 "nbformat_minor": 4
}
