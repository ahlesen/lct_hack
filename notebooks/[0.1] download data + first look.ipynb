{
 "cells": [
  {
   "cell_type": "code",
   "execution_count": 2,
   "id": "1ea61ff0-620e-4105-b4ac-e8d417a0454f",
   "metadata": {},
   "outputs": [],
   "source": [
    "import os\n",
    "import pandas as pd\n",
    "import requests\n",
    "from tqdm import tqdm_notebook\n",
    "import glob"
   ]
  },
  {
   "cell_type": "code",
   "execution_count": 3,
   "id": "2ed47bce-65e1-47cf-b2a7-7022781e900d",
   "metadata": {},
   "outputs": [
    {
     "data": {
      "text/plain": [
       "['yappy_hackaton_2024_400k.csv',\n",
       " '.DS_Store',\n",
       " 'data_video',\n",
       " 'ЛЦТ_2024_Шаблон_презентации.pptx',\n",
       " '15. Yappy',\n",
       " '15. Yappy.zip',\n",
       " 'data_video.zip',\n",
       " '.ipynb_checkpoints',\n",
       " 'scrins',\n",
       " 'notebooks']"
      ]
     },
     "execution_count": 3,
     "metadata": {},
     "output_type": "execute_result"
    }
   ],
   "source": [
    "os.listdir('../')"
   ]
  },
  {
   "cell_type": "code",
   "execution_count": 4,
   "id": "b6855342-2441-4302-b1d4-a7867647230a",
   "metadata": {},
   "outputs": [],
   "source": [
    "# Считываем данные из таблицы (CSV или Excel, в зависимости от формата)\n",
    "file_path = '../yappy_hackaton_2024_400k.csv'  # укажите правильный путь к файлу\n",
    "df = pd.read_csv(file_path)  # если у вас Excel, используйте pd.read_excel(file_path)"
   ]
  },
  {
   "cell_type": "code",
   "execution_count": 5,
   "id": "7e548c19-e22c-4c69-9d7f-0b5d17ccd15f",
   "metadata": {},
   "outputs": [
    {
     "data": {
      "text/html": [
       "<div>\n",
       "<style scoped>\n",
       "    .dataframe tbody tr th:only-of-type {\n",
       "        vertical-align: middle;\n",
       "    }\n",
       "\n",
       "    .dataframe tbody tr th {\n",
       "        vertical-align: top;\n",
       "    }\n",
       "\n",
       "    .dataframe thead th {\n",
       "        text-align: right;\n",
       "    }\n",
       "</style>\n",
       "<table border=\"1\" class=\"dataframe\">\n",
       "  <thead>\n",
       "    <tr style=\"text-align: right;\">\n",
       "      <th></th>\n",
       "      <th>link</th>\n",
       "      <th>description</th>\n",
       "    </tr>\n",
       "  </thead>\n",
       "  <tbody>\n",
       "    <tr>\n",
       "      <th>0</th>\n",
       "      <td>https://cdn-st.rutubelist.ru/media/b0/e9/ef285...</td>\n",
       "      <td>#нарезкистримов , #dota2 , #cs2 , #fifa23 , #m...</td>\n",
       "    </tr>\n",
       "    <tr>\n",
       "      <th>1</th>\n",
       "      <td>https://cdn-st.rutubelist.ru/media/39/6c/b31bc...</td>\n",
       "      <td>🤫НЕ ВВОДИ ЭТУ КОМАНДУ В РОБЛОКС ! #shorts #rob...</td>\n",
       "    </tr>\n",
       "    <tr>\n",
       "      <th>2</th>\n",
       "      <td>https://cdn-st.rutubelist.ru/media/e9/e0/b47a9...</td>\n",
       "      <td>#boobs , #красивыедевушки , #ass</td>\n",
       "    </tr>\n",
       "    <tr>\n",
       "      <th>3</th>\n",
       "      <td>https://cdn-st.rutubelist.ru/media/87/43/b11df...</td>\n",
       "      <td>NaN</td>\n",
       "    </tr>\n",
       "    <tr>\n",
       "      <th>4</th>\n",
       "      <td>https://cdn-st.rutubelist.ru/media/d1/e7/642dc...</td>\n",
       "      <td>NaN</td>\n",
       "    </tr>\n",
       "    <tr>\n",
       "      <th>...</th>\n",
       "      <td>...</td>\n",
       "      <td>...</td>\n",
       "    </tr>\n",
       "    <tr>\n",
       "      <th>399995</th>\n",
       "      <td>https://cdn-st.rutubelist.ru/media/dd/6a/ac296...</td>\n",
       "      <td>#ceramics #handmade #ceramic #clay #ceramicscu...</td>\n",
       "    </tr>\n",
       "    <tr>\n",
       "      <th>399996</th>\n",
       "      <td>https://cdn-st.rutubelist.ru/media/aa/d3/4b4c3...</td>\n",
       "      <td>#красивыедевушки #красотки #грудь #boobs #секс...</td>\n",
       "    </tr>\n",
       "    <tr>\n",
       "      <th>399997</th>\n",
       "      <td>https://cdn-st.rutubelist.ru/media/73/05/3f80f...</td>\n",
       "      <td>#лайфхаки , #эксперименты , #roblox , #игрушки...</td>\n",
       "    </tr>\n",
       "    <tr>\n",
       "      <th>399998</th>\n",
       "      <td>https://cdn-st.rutubelist.ru/media/f8/2b/320f7...</td>\n",
       "      <td>#образ #lookbook #показ #неделямоды #капсула #...</td>\n",
       "    </tr>\n",
       "    <tr>\n",
       "      <th>399999</th>\n",
       "      <td>https://cdn-st.rutubelist.ru/media/19/1b/5711a...</td>\n",
       "      <td>#образ #lookbook #показ #неделямоды #капсула #...</td>\n",
       "    </tr>\n",
       "  </tbody>\n",
       "</table>\n",
       "<p>400000 rows × 2 columns</p>\n",
       "</div>"
      ],
      "text/plain": [
       "                                                     link  \\\n",
       "0       https://cdn-st.rutubelist.ru/media/b0/e9/ef285...   \n",
       "1       https://cdn-st.rutubelist.ru/media/39/6c/b31bc...   \n",
       "2       https://cdn-st.rutubelist.ru/media/e9/e0/b47a9...   \n",
       "3       https://cdn-st.rutubelist.ru/media/87/43/b11df...   \n",
       "4       https://cdn-st.rutubelist.ru/media/d1/e7/642dc...   \n",
       "...                                                   ...   \n",
       "399995  https://cdn-st.rutubelist.ru/media/dd/6a/ac296...   \n",
       "399996  https://cdn-st.rutubelist.ru/media/aa/d3/4b4c3...   \n",
       "399997  https://cdn-st.rutubelist.ru/media/73/05/3f80f...   \n",
       "399998  https://cdn-st.rutubelist.ru/media/f8/2b/320f7...   \n",
       "399999  https://cdn-st.rutubelist.ru/media/19/1b/5711a...   \n",
       "\n",
       "                                              description  \n",
       "0       #нарезкистримов , #dota2 , #cs2 , #fifa23 , #m...  \n",
       "1       🤫НЕ ВВОДИ ЭТУ КОМАНДУ В РОБЛОКС ! #shorts #rob...  \n",
       "2                        #boobs , #красивыедевушки , #ass  \n",
       "3                                                     NaN  \n",
       "4                                                     NaN  \n",
       "...                                                   ...  \n",
       "399995  #ceramics #handmade #ceramic #clay #ceramicscu...  \n",
       "399996  #красивыедевушки #красотки #грудь #boobs #секс...  \n",
       "399997  #лайфхаки , #эксперименты , #roblox , #игрушки...  \n",
       "399998  #образ #lookbook #показ #неделямоды #капсула #...  \n",
       "399999  #образ #lookbook #показ #неделямоды #капсула #...  \n",
       "\n",
       "[400000 rows x 2 columns]"
      ]
     },
     "execution_count": 5,
     "metadata": {},
     "output_type": "execute_result"
    }
   ],
   "source": [
    "df"
   ]
  },
  {
   "cell_type": "code",
   "execution_count": 6,
   "id": "b66ff5e7-ed5b-43f9-b5c7-bcb9aba3dd6a",
   "metadata": {},
   "outputs": [],
   "source": [
    "# Функция для скачивания видео\n",
    "def download_video(url, output_path):\n",
    "    response = requests.get(url, stream=True)\n",
    "    if response.status_code == 200:\n",
    "        with open(output_path, 'wb') as f:\n",
    "            for chunk in response.iter_content(chunk_size=8192):\n",
    "                f.write(chunk)\n",
    "    else:\n",
    "        print(f\"Failed to download {url}\")"
   ]
  },
  {
   "cell_type": "code",
   "execution_count": 6,
   "id": "f99be9a0-be5f-4973-9211-077509144e78",
   "metadata": {},
   "outputs": [],
   "source": [
    "dir_w_video:str = '../data_video/' "
   ]
  },
  {
   "cell_type": "code",
   "execution_count": 27,
   "id": "9e9d8c91-b59d-42cc-81b5-4db3a0ad61f2",
   "metadata": {},
   "outputs": [],
   "source": [
    "os.makedirs(dir_w_video,exist_ok=True)"
   ]
  },
  {
   "cell_type": "code",
   "execution_count": 31,
   "id": "cdbb2de4-b2d1-40cf-b8bf-fb4e42fa1098",
   "metadata": {},
   "outputs": [
    {
     "name": "stderr",
     "output_type": "stream",
     "text": [
      "/var/folders/yr/mmqsh_3x4z92c40wn0j7x2yw0000gp/T/ipykernel_92859/1807034795.py:2: TqdmDeprecationWarning: This function will be removed in tqdm==5.0.0\n",
      "Please use `tqdm.notebook.tqdm` instead of `tqdm.tqdm_notebook`\n",
      "  for index, row in tqdm_notebook(df.iterrows()):\n"
     ]
    },
    {
     "data": {
      "application/vnd.jupyter.widget-view+json": {
       "model_id": "b16db65a88df4336a00afaa696ab994f",
       "version_major": 2,
       "version_minor": 0
      },
      "text/plain": [
       "0it [00:00, ?it/s]"
      ]
     },
     "metadata": {},
     "output_type": "display_data"
    },
    {
     "name": "stdout",
     "output_type": "stream",
     "text": [
      "Downloaded 0_b0_e9_ef285e0241139fc611318ed33071_fhd.mp4.\n",
      "Downloaded 1_39_6c_b31bc6864bef9d8a96814f1822ca_fhd.mp4.\n",
      "Downloaded 2_e9_e0_b47a9df14a5e97942715e5e705c0_fhd.mp4.\n",
      "Downloaded 3_87_43_b11df3f344d0af773aac81e410ee_fhd.mp4.\n",
      "Downloaded 4_d1_e7_642dc2194fcdb69664f832d5f2dd_fhd.mp4.\n",
      "Downloaded 5_e2_97_f9164f8a41479f961d64842154a7_fhd.mp4.\n",
      "Downloaded 6_0f_48_8a1ff7324073947a31e80f71d001_fhd.mp4.\n",
      "Downloaded 7_19_9c_98de3b4a4d9e83cb5dda828f899e_fhd.mp4.\n",
      "Downloaded 8_bf_ee_85fb6b80491db79e8baebe5c9d80_fhd.mp4.\n",
      "Downloaded 9_fc_73_d86600d04e519178a55774dfe65e_fhd.mp4.\n",
      "Downloaded 10_17_ae_a36f6f824fa1a67496d299c8ac6e_fhd.mp4.\n",
      "Downloaded 11_4b_54_0a36f96d4030a0f6ad1b6d7f4902_fhd.mp4.\n",
      "Downloaded 12_8c_58_96608b7a4834883ea2dd1c884c63_fhd.mp4.\n",
      "Downloaded 13_2f_4f_6b969c8c4a2aafcfca057b2a99a2_fhd.mp4.\n",
      "Downloaded 14_9f_ca_d5d0dedf44418e1a2b7d5cebe0e8_fhd.mp4.\n",
      "Downloaded 15_a4_d2_8e9737fd445faf0a20151f8c39f5_fhd.mp4.\n",
      "Downloaded 16_a3_9f_2352de2748b3868df583d51a402b_fhd.mp4.\n",
      "Downloaded 17_ac_08_3604604b4b8b89e34db1e0e91863_fhd.mp4.\n",
      "Downloaded 18_5a_35_65c80c3047d08634922cb22f1fee_fhd.mp4.\n",
      "Downloaded 19_03_eb_47329b1943349255453b6cec625d_fhd.mp4.\n",
      "Downloaded 20_28_b0_88ac63a546cb8174020a95470591_fhd.mp4.\n",
      "Downloaded 21_bf_6a_f040f0dd4afc90b8eb12c8d76571_fhd.mp4.\n",
      "Downloaded 22_73_48_47a9e25b4b36bc6254d29f42787a_fhd.mp4.\n",
      "Downloaded 23_fe_86_ab9d0a504c2a892c88dc02b79b56_fhd.mp4.\n",
      "Downloaded 24_86_0f_4a6b06514445bbe41cb62a5f279d_fhd.mp4.\n",
      "Downloaded 25_1e_39_f6e45a2142b095d96b286744441a_fhd.mp4.\n",
      "Downloaded 26_0d_97_531d4356476a9deb64239aed758a_fhd.mp4.\n",
      "Downloaded 27_85_3c_4ade487d46cfb36205c43e4dca40_fhd.mp4.\n",
      "Downloaded 28_50_0a_a56eb2824b93a57c3f4ad7e02ddd_fhd.mp4.\n",
      "Downloaded 29_a7_ff_3d901b774fc8b5728833abe9485d_fhd.mp4.\n",
      "Downloaded 30_b3_e2_07e47c1e4af8a1ea0a932b5cdae3_fhd.mp4.\n",
      "Downloaded 31_39_8a_ce3d8db142e38d99c708f406cca0_fhd.mp4.\n",
      "Downloaded 32_c5_74_92d9fe2a4fd99509c72ebf46e7d7_fhd.mp4.\n",
      "Downloaded 33_95_65_d45056f64cd48e919324c2ade667_fhd.mp4.\n",
      "Downloaded 34_19_b5_aa6a2f7b46ad81e3c78e947d472f_fhd.mp4.\n",
      "Downloaded 35_03_b6_7aab45314f66a2147fd821906612_fhd.mp4.\n",
      "Downloaded 36_ab_e5_a77cf9a94a78b621c7c754942b29_fhd.mp4.\n",
      "Downloaded 37_f7_41_65b82be24517a0e37298975a3b07_fhd.mp4.\n",
      "Downloaded 38_89_0f_84a8a71b4d249365ae19fbd1fcff_fhd.mp4.\n",
      "Downloaded 39_a6_8c_3c8921b34ba8ae905ec143136b22_fhd.mp4.\n",
      "Downloaded 40_f0_6f_d0cce3454eb89b70209b67a4d970_fhd.mp4.\n",
      "Downloaded 41_e5_30_d9df4fb940939da69c0b351fa170_fhd.mp4.\n",
      "Downloaded 42_f3_1e_ff08193b402296920e2a1995bd16_fhd.mp4.\n",
      "Downloaded 43_70_4b_1d7a08354550904b96695fc51c01_fhd.mp4.\n",
      "Downloaded 44_45_c4_88b971f7414e94d7c7f3265fc160_fhd.mp4.\n",
      "Downloaded 45_94_3d_ea40da9645acacf006df16b9bb75_fhd.mp4.\n",
      "Downloaded 46_f1_1b_e51475c34340b472c9757326e0a0_fhd.mp4.\n",
      "Downloaded 47_67_3d_4a68351245e4b14fc5049fc6ad19_fhd.mp4.\n",
      "Downloaded 48_e5_04_cd326b3a4ed48e25ff5f5964fc33_fhd.mp4.\n",
      "Downloaded 49_7f_64_1e370ead49cf980682d62a325e8d_fhd.mp4.\n",
      "Downloaded 50_bc_cf_0cee7f9246b6a2855bd59fbd2140_fhd.mp4.\n",
      "Downloaded 51_3c_2c_c4cbfe894ba69c169be389f04872_fhd.mp4.\n",
      "Downloaded 52_d1_d8_2e35b73348d09384b0d0862abf40_fhd.mp4.\n",
      "Downloaded 53_22_78_acbe27254e819403d46eda7b3171_fhd.mp4.\n",
      "Downloaded 54_4a_20_ce5bf355438eb67224dee468e4c2_fhd.mp4.\n",
      "Downloaded 55_86_7c_bc8217d041d7a38885a72c82dae4_fhd.mp4.\n",
      "Downloaded 56_83_ba_6ef3a7f241828aed6b62360212b5_fhd.mp4.\n",
      "Downloaded 57_f0_b1_f5a65d6b4084a28e7932e82850b8_fhd.mp4.\n",
      "Downloaded 58_bf_ee_fb1288ab41209b57f36142a79635_fhd.mp4.\n",
      "Downloaded 59_a1_2b_ae642bfe437fb87a546a49ae7fce_fhd.mp4.\n",
      "Downloaded 60_35_3a_021d5db24560a64cc00b79d97a4a_fhd.mp4.\n",
      "Downloaded 61_ca_1e_5dc42b184e928d0b6ec48f44e6d7_fhd.mp4.\n",
      "Downloaded 62_f0_9d_2736f8094132bf088b18a1e8bc93_fhd.mp4.\n",
      "Downloaded 63_4c_b0_dc0eb16c4137b1eb12700fcfa109_fhd.mp4.\n",
      "Downloaded 64_d0_69_7fbb5296415cae300e31ac480044_fhd.mp4.\n",
      "Downloaded 65_28_89_2bc8dd424e42b2dcebdafe5b6ca7_fhd.mp4.\n",
      "Downloaded 66_77_92_d5ba9d4c4c06bb33644c197e9e00_fhd.mp4.\n",
      "Downloaded 67_b9_7a_44c1ef97401abbaaf58511b039c9_fhd.mp4.\n",
      "Downloaded 68_f4_fe_d7ffc2494505ac4015c0ad99b057_fhd.mp4.\n",
      "Downloaded 69_8e_d9_0d8ef3384b8b866d961edc262c89_fhd.mp4.\n",
      "Downloaded 70_04_4f_4a3c2b934cd4bd2d84d4437c79f7_fhd.mp4.\n",
      "Downloaded 71_e3_71_7c152c1b4e9f99e218fee8d5cf84_fhd.mp4.\n",
      "Downloaded 72_d0_77_d39199504eabb9016e9f6765f900_fhd.mp4.\n",
      "Downloaded 73_15_52_08d3ca4f49b290ace0320968698a_fhd.mp4.\n",
      "Downloaded 74_7c_92_e332f3384a6ea85698c7238f1749_fhd.mp4.\n",
      "Downloaded 75_c0_af_2c3a1bf34abea99c56223b585edd_fhd.mp4.\n",
      "Downloaded 76_b5_9f_ceeb29034816a53365fdb746bac8_fhd.mp4.\n",
      "Downloaded 77_ab_5f_dd03646949018ffb8103d0dc97ce_fhd.mp4.\n",
      "Downloaded 78_25_93_735d02f848b68ce97768eb504396_fhd.mp4.\n",
      "Downloaded 79_62_62_a4927e2542ef940bd3924943bd72_fhd.mp4.\n",
      "Downloaded 80_c2_6c_4b132da2488a85826b34029ec39f_fhd.mp4.\n",
      "Downloaded 81_03_27_74e30d3d40b4b881605aff767e92_fhd.mp4.\n",
      "Downloaded 82_82_db_acfc90744ec89f26723885c327ae_fhd.mp4.\n",
      "Downloaded 83_9e_92_498573834c2a8876e751a1691d69_fhd.mp4.\n",
      "Downloaded 84_1a_3a_f52c64604739bd12de7382469517_fhd.mp4.\n",
      "Downloaded 85_7f_77_4b55ae5848dea78b89e7068df82e_fhd.mp4.\n",
      "Downloaded 86_42_22_92ab762d43ca9975333daa3ec944_fhd.mp4.\n",
      "Downloaded 87_2d_1f_f62c02b44415b9b17e10e7c304eb_fhd.mp4.\n",
      "Downloaded 88_27_d6_fb58e3b54d57a94d3f01c9147610_fhd.mp4.\n",
      "Downloaded 89_58_25_149a7170400e92957f739265f87a_fhd.mp4.\n",
      "Downloaded 90_0e_d5_a3b4c1f644408dcd993a975f4c2f_fhd.mp4.\n",
      "Downloaded 91_ed_db_4c8de8474648be7639b3627cabf3_fhd.mp4.\n",
      "Downloaded 92_1d_da_47ee084d4ea09bcd092f401ebe06_fhd.mp4.\n",
      "Downloaded 93_6c_7b_f2ad45274f2984d65e90d9f5e584_fhd.mp4.\n",
      "Downloaded 94_a3_b7_02448ef64438a3c9336f52e24595_fhd.mp4.\n",
      "Downloaded 95_6a_29_c0c860684a0e9c0e23d496830525_fhd.mp4.\n",
      "Downloaded 96_e9_88_481fdc674d0b8161dcc7426a49eb_fhd.mp4.\n",
      "Downloaded 97_27_65_39b479d1466891d42aa335bd1c18_fhd.mp4.\n",
      "Downloaded 98_d1_0f_f41e4b0d40ccb994e792920e3566_fhd.mp4.\n",
      "Downloaded 99_5d_b1_33afba83485ab7bb5dcc1cfe0c90_fhd.mp4.\n",
      "Downloaded 100_c0_05_aef701d448e4a38a3ee4d1e0d850_fhd.mp4.\n",
      "Downloaded 101_1b_d7_b1f9e6cd42f896a45239836f1f98_fhd.mp4.\n",
      "All videos downloaded successfully.\n"
     ]
    }
   ],
   "source": [
    "# Скачиваем все видео из списка\n",
    "for index, row in tqdm_notebook(df.iterrows()):\n",
    "    video_url = row['link']\n",
    "    description = row['description']\n",
    "    video_name = f\"{index}{'_'.join(video_url.split('media')[1].split('/'))}\"  # можно использовать описание для имени файла\n",
    "    video_path = os.path.join(dir_w_video,video_name)\n",
    "    if os.path.isfile(video_path):\n",
    "        continue\n",
    "    download_video(video_url, video_path)\n",
    "    print(f\"Downloaded {video_name}.\")\n",
    "    if index > 1000:\n",
    "        break\n",
    "print(\"All videos downloaded successfully.\")"
   ]
  },
  {
   "cell_type": "code",
   "execution_count": 30,
   "id": "7ef816bc-1498-4f63-916b-d91a5d41afdc",
   "metadata": {
    "scrolled": true
   },
   "outputs": [
    {
     "data": {
      "text/plain": [
       "'6_0f_48_8a1ff7324073947a31e80f71d001_fhd.mp4.mp4'"
      ]
     },
     "execution_count": 30,
     "metadata": {},
     "output_type": "execute_result"
    }
   ],
   "source": [
    "video_name"
   ]
  },
  {
   "cell_type": "code",
   "execution_count": 12,
   "id": "d545df23-f8b1-41d5-83e0-2bd64495e63e",
   "metadata": {},
   "outputs": [
    {
     "data": {
      "text/plain": [
       "{'Server': 'Angie', 'Date': 'Mon, 03 Jun 2024 17:29:09 GMT', 'Content-Type': 'video/mp4', 'Content-Length': '6613929', 'Connection': 'keep-alive', 'Last-Modified': 'Tue, 03 Oct 2023 15:40:05 GMT', 'x-rgw-object-type': 'Normal', 'ETag': '\"c84bb8e8b9b22ec83f86cc97e83ed4bc-2\"', 'x-amz-request-id': 'tx00000adb6f7b2d7a6f21e-00665dfc38-40130ecd-ritm', 'Strict-Transport-Security': 'max-age=31536000; includeSubDomains; preload', 'Accept-Ranges': 'bytes'}"
      ]
     },
     "execution_count": 12,
     "metadata": {},
     "output_type": "execute_result"
    }
   ],
   "source": [
    "response.headers"
   ]
  },
  {
   "cell_type": "code",
   "execution_count": 13,
   "id": "25c20e89-ee52-4548-8044-8d2281fbe203",
   "metadata": {},
   "outputs": [
    {
     "data": {
      "text/plain": [
       "[]"
      ]
     },
     "execution_count": 13,
     "metadata": {},
     "output_type": "execute_result"
    }
   ],
   "source": [
    "response.history"
   ]
  },
  {
   "cell_type": "code",
   "execution_count": 20,
   "id": "6e536651-04d1-43f1-81f0-a5b738a44b65",
   "metadata": {},
   "outputs": [
    {
     "data": {
      "text/plain": [
       "24"
      ]
     },
     "execution_count": 20,
     "metadata": {},
     "output_type": "execute_result"
    }
   ],
   "source": [
    "response.__sizeof__()"
   ]
  },
  {
   "cell_type": "code",
   "execution_count": 13,
   "id": "0f222f9a-0476-4003-9edf-df918c0e6f90",
   "metadata": {},
   "outputs": [
    {
     "name": "stdout",
     "output_type": "stream",
     "text": [
      "../data_video/0_b0_e9_ef285e0241139fc611318ed33071_fhd.mp4\n",
      "../data_video/1_39_6c_b31bc6864bef9d8a96814f1822ca_fhd.mp4\n",
      "../data_video/2_e9_e0_b47a9df14a5e97942715e5e705c0_fhd.mp4\n",
      "../data_video/3_87_43_b11df3f344d0af773aac81e410ee_fhd.mp4\n",
      "../data_video/4_d1_e7_642dc2194fcdb69664f832d5f2dd_fhd.mp4\n"
     ]
    }
   ],
   "source": [
    "# Получение списка всех файлов с расширением .mp4 в директории\n",
    "video_files = glob.glob(os.path.join(dir_w_video, '*.mp4'))\n",
    "# Сортировка списка файлов по первому значению при split('_')\n",
    "sorted_video_files = sorted(video_files, key=lambda x: int(os.path.basename(x).split('_')[0]))\n",
    "\n",
    "# Вывод отсортированного списка файлов\n",
    "for video_file in sorted_video_files[:5]:\n",
    "    print(video_file)"
   ]
  },
  {
   "cell_type": "code",
   "execution_count": 11,
   "id": "08778beb-595d-48a9-9e46-e275a6eab4a5",
   "metadata": {},
   "outputs": [
    {
     "name": "stdout",
     "output_type": "stream",
     "text": [
      "../scrins/Снимок экрана 2024-06-03 в 20.59.20.png\n",
      "../scrins/Снимок экрана 2024-06-03 в 20.59.35.png\n",
      "../scrins/Снимок экрана 2024-06-03 в 20.59.46.png\n",
      "../scrins/Снимок экрана 2024-06-03 в 20.59.53.png\n"
     ]
    }
   ],
   "source": [
    "dir_w_screens = '../scrins/'\n",
    "# Получение списка всех файлов с расширением .mp4 в директории\n",
    "screens_files = glob.glob(os.path.join(dir_w_screens, '*.png'))\n",
    "# Сортировка списка файлов по первому значению при split('_')\n",
    "# sorted_screens_files = sorted(screens_files, key=lambda x: int(os.path.basename(x).split('_')[0]))\n",
    "\n",
    "# Вывод отсортированного списка файлов\n",
    "for screen_file in screens_files[:5]:\n",
    "    print(screen_file)"
   ]
  },
  {
   "cell_type": "markdown",
   "id": "a855da8d-305a-453e-b46f-2126159aa603",
   "metadata": {
    "jp-MarkdownHeadingCollapsed": true
   },
   "source": [
    "### проба моделей [video-captioning hf link](https://huggingface.co/Neleac/SpaceTimeGPT#spacetimegpt---a-spatiotemporal-video-captioning-model)"
   ]
  },
  {
   "cell_type": "code",
   "execution_count": 33,
   "id": "42c6e218-8beb-4b23-9c4c-57155b0873dd",
   "metadata": {},
   "outputs": [
    {
     "name": "stdout",
     "output_type": "stream",
     "text": [
      "Collecting av\n",
      "  Downloading av-12.1.0-cp311-cp311-macosx_11_0_arm64.whl.metadata (4.6 kB)\n",
      "Downloading av-12.1.0-cp311-cp311-macosx_11_0_arm64.whl (20.9 MB)\n",
      "\u001b[2K   \u001b[90m━━━━━━━━━━━━━━━━━━━━━━━━━━━━━━━━━━━━━━━━\u001b[0m \u001b[32m20.9/20.9 MB\u001b[0m \u001b[31m9.1 MB/s\u001b[0m eta \u001b[36m0:00:00\u001b[0m00:01\u001b[0m00:01\u001b[0mm\n",
      "\u001b[?25hInstalling collected packages: av\n",
      "Successfully installed av-12.1.0\n"
     ]
    }
   ],
   "source": [
    "!pip install av"
   ]
  },
  {
   "cell_type": "markdown",
   "id": "038aa2fb-c5d8-4710-8a31-393869fa9d4f",
   "metadata": {},
   "source": [
    "### проба [SpaceTimeGPT - A Spatiotemporal Video Captioning Model](https://huggingface.co/Neleac/SpaceTimeGPT#spacetimegpt---a-spatiotemporal-video-captioning-model)"
   ]
  },
  {
   "cell_type": "code",
   "execution_count": 34,
   "id": "d2eca311-b31a-4b1b-bdbb-9d4f603a31c4",
   "metadata": {},
   "outputs": [
    {
     "data": {
      "application/vnd.jupyter.widget-view+json": {
       "model_id": "b14fef1de9454584ae42f763a0f9df13",
       "version_major": 2,
       "version_minor": 0
      },
      "text/plain": [
       "preprocessor_config.json:   0%|          | 0.00/271 [00:00<?, ?B/s]"
      ]
     },
     "metadata": {},
     "output_type": "display_data"
    },
    {
     "name": "stderr",
     "output_type": "stream",
     "text": [
      "Could not find image processor class in the image processor config or the model config. Loading based on pattern matching with the model's feature extractor configuration. Please open a PR/issue to update `preprocessor_config.json` to use `image_processor_type` instead of `feature_extractor_type`. This warning will be removed in v4.40.\n"
     ]
    },
    {
     "data": {
      "application/vnd.jupyter.widget-view+json": {
       "model_id": "5ff88949d08041b6ac01e6113bc8b6e5",
       "version_major": 2,
       "version_minor": 0
      },
      "text/plain": [
       "tokenizer_config.json:   0%|          | 0.00/26.0 [00:00<?, ?B/s]"
      ]
     },
     "metadata": {},
     "output_type": "display_data"
    },
    {
     "data": {
      "application/vnd.jupyter.widget-view+json": {
       "model_id": "e56268d404c34b738e7764651986777c",
       "version_major": 2,
       "version_minor": 0
      },
      "text/plain": [
       "config.json:   0%|          | 0.00/665 [00:00<?, ?B/s]"
      ]
     },
     "metadata": {},
     "output_type": "display_data"
    },
    {
     "data": {
      "application/vnd.jupyter.widget-view+json": {
       "model_id": "d447c1e5943c45c48d1af6e417252de6",
       "version_major": 2,
       "version_minor": 0
      },
      "text/plain": [
       "vocab.json:   0%|          | 0.00/1.04M [00:00<?, ?B/s]"
      ]
     },
     "metadata": {},
     "output_type": "display_data"
    },
    {
     "data": {
      "application/vnd.jupyter.widget-view+json": {
       "model_id": "8ddff4ff927b4ee4ab2bbaaaf41e0e7c",
       "version_major": 2,
       "version_minor": 0
      },
      "text/plain": [
       "merges.txt:   0%|          | 0.00/456k [00:00<?, ?B/s]"
      ]
     },
     "metadata": {},
     "output_type": "display_data"
    },
    {
     "data": {
      "application/vnd.jupyter.widget-view+json": {
       "model_id": "9251ed4eb8ff47ada1214833c8d87c54",
       "version_major": 2,
       "version_minor": 0
      },
      "text/plain": [
       "tokenizer.json:   0%|          | 0.00/1.36M [00:00<?, ?B/s]"
      ]
     },
     "metadata": {},
     "output_type": "display_data"
    },
    {
     "data": {
      "application/vnd.jupyter.widget-view+json": {
       "model_id": "78d700ea750c45118decfa852b34d909",
       "version_major": 2,
       "version_minor": 0
      },
      "text/plain": [
       "config.json:   0%|          | 0.00/41.2k [00:00<?, ?B/s]"
      ]
     },
     "metadata": {},
     "output_type": "display_data"
    },
    {
     "data": {
      "application/vnd.jupyter.widget-view+json": {
       "model_id": "be73fb53396a43279583259520eec133",
       "version_major": 2,
       "version_minor": 0
      },
      "text/plain": [
       "pytorch_model.bin:   0%|          | 0.00/1.12G [00:00<?, ?B/s]"
      ]
     },
     "metadata": {},
     "output_type": "display_data"
    }
   ],
   "source": [
    "import av\n",
    "import numpy as np\n",
    "import torch\n",
    "from transformers import AutoImageProcessor, AutoTokenizer, VisionEncoderDecoderModel\n",
    "\n",
    "device = \"cuda\" if torch.cuda.is_available() else \"cpu\"\n",
    "\n",
    "# load pretrained processor, tokenizer, and model\n",
    "image_processor = AutoImageProcessor.from_pretrained(\"MCG-NJU/videomae-base\")\n",
    "tokenizer = AutoTokenizer.from_pretrained(\"gpt2\")\n",
    "model = VisionEncoderDecoderModel.from_pretrained(\"Neleac/timesformer-gpt2-video-captioning\").to(device)"
   ]
  },
  {
   "cell_type": "code",
   "execution_count": 35,
   "id": "10146584-904e-49c4-9408-03e844c4b159",
   "metadata": {},
   "outputs": [
    {
     "data": {
      "text/plain": [
       "2"
      ]
     },
     "execution_count": 35,
     "metadata": {},
     "output_type": "execute_result"
    }
   ],
   "source": [
    "1+1"
   ]
  },
  {
   "cell_type": "code",
   "execution_count": 47,
   "id": "75fcc705-7e88-4c53-a199-c5c3be1e2928",
   "metadata": {},
   "outputs": [
    {
     "name": "stderr",
     "output_type": "stream",
     "text": [
      "/var/folders/yr/mmqsh_3x4z92c40wn0j7x2yw0000gp/T/ipykernel_92859/3390491049.py:2: TqdmDeprecationWarning: This function will be removed in tqdm==5.0.0\n",
      "Please use `tqdm.notebook.tqdm` instead of `tqdm.tqdm_notebook`\n",
      "  for video_path in tqdm_notebook(sorted_video_files[:20]):\n"
     ]
    },
    {
     "data": {
      "application/vnd.jupyter.widget-view+json": {
       "model_id": "2553b2a00cb44ef6ac6c8dbf715f2f58",
       "version_major": 2,
       "version_minor": 0
      },
      "text/plain": [
       "  0%|          | 0/20 [00:00<?, ?it/s]"
      ]
     },
     "metadata": {},
     "output_type": "display_data"
    }
   ],
   "source": [
    "video_captions = []\n",
    "for video_path in tqdm_notebook(sorted_video_files[:20]):\n",
    "    # load video\n",
    "    container = av.open(video_path)\n",
    "    \n",
    "    # extract evenly spaced frames from video\n",
    "    seg_len = container.streams.video[0].frames\n",
    "    clip_len = model.config.encoder.num_frames\n",
    "    indices = set(np.linspace(0, seg_len, num=clip_len, endpoint=False).astype(np.int64))\n",
    "    frames = []\n",
    "    container.seek(0)\n",
    "    for i, frame in enumerate(container.decode(video=0)):\n",
    "        if i in indices:\n",
    "            frames.append(frame.to_ndarray(format=\"rgb24\"))\n",
    "    \n",
    "    # generate caption\n",
    "    gen_kwargs = {\n",
    "        \"min_length\": 10, \n",
    "        \"max_length\": 20, \n",
    "        \"num_beams\": 8,\n",
    "    }\n",
    "    pixel_values = image_processor(frames, return_tensors=\"pt\").pixel_values.to(device)\n",
    "    tokens = model.generate(pixel_values, **gen_kwargs)\n",
    "    caption = tokenizer.batch_decode(tokens, skip_special_tokens=True)[0]\n",
    "    video_captions.append(caption)"
   ]
  },
  {
   "cell_type": "code",
   "execution_count": 48,
   "id": "07478b2a-b6df-46d6-b04b-f47d6a19fcb0",
   "metadata": {},
   "outputs": [
    {
     "name": "stdout",
     "output_type": "stream",
     "text": [
      "link:https://cdn-st.rutubelist.ru/media/b0/e9/ef285e0241139fc611318ed33071/fhd.mp4\n",
      "description:#нарезкистримов , #dota2 , #cs2 , #fifa23 , #minecraft , #майнкрафт , #геншин , #genshin\n",
      "video_caption:A group of people are playing a game of soccer on a field.\n",
      "--------------------\n",
      "link:https://cdn-st.rutubelist.ru/media/39/6c/b31bc6864bef9d8a96814f1822ca/fhd.mp4\n",
      "description:🤫НЕ ВВОДИ ЭТУ КОМАНДУ В РОБЛОКС ! #shorts #roblox #роблокс\n",
      "video_caption:A man and a woman are standing in front of a wall and talking to each other.\n",
      "--------------------\n",
      "link:https://cdn-st.rutubelist.ru/media/e9/e0/b47a9df14a5e97942715e5e705c0/fhd.mp4\n",
      "description:#boobs , #красивыедевушки , #ass\n",
      "video_caption:A young woman and a young man are posing for a picture.\n",
      "--------------------\n",
      "link:https://cdn-st.rutubelist.ru/media/87/43/b11df3f344d0af773aac81e410ee/fhd.mp4\n",
      "description:nan\n",
      "video_caption:A woman is sitting at a table holding a card and talking about it.\n",
      "--------------------\n",
      "link:https://cdn-st.rutubelist.ru/media/d1/e7/642dc2194fcdb69664f832d5f2dd/fhd.mp4\n",
      "description:nan\n",
      "video_caption:A man is giving a tutorial on how to properly tie a tie.\n",
      "--------------------\n",
      "link:https://cdn-st.rutubelist.ru/media/e2/97/f9164f8a41479f961d64842154a7/fhd.mp4\n",
      "description:nan\n",
      "video_caption:A group of girls are sitting on the floor and doing tricks with their feet.\n",
      "--------------------\n",
      "link:https://cdn-st.rutubelist.ru/media/0f/48/8a1ff7324073947a31e80f71d001/fhd.mp4\n",
      "description:#diy #постановка #юмор #комедия\n",
      "video_caption:A young man is shown using a razor to shave his face.\n",
      "--------------------\n",
      "link:https://cdn-st.rutubelist.ru/media/19/9c/98de3b4a4d9e83cb5dda828f899e/fhd.mp4\n",
      "description:nan\n",
      "video_caption:A person is flying a flying kite in the sky.\n",
      "--------------------\n",
      "link:https://cdn-st.rutubelist.ru/media/bf/ee/85fb6b80491db79e8baebe5c9d80/fhd.mp4\n",
      "description:#образ #lookbook #показ #неделямоды #капсула #ошибкивстиле #селебрити #интервью #перевоплощения #обувь #кроссовки\n",
      "video_caption:A man demonstrates how to put on a pair of eyeglasses.\n",
      "--------------------\n",
      "link:https://cdn-st.rutubelist.ru/media/fc/73/d86600d04e519178a55774dfe65e/fhd.mp4\n",
      "description:#путешествия #journey #туризм\n",
      "video_caption:A group of people are playing a game of karate in a parking lot.\n",
      "--------------------\n",
      "link:https://cdn-st.rutubelist.ru/media/17/ae/a36f6f824fa1a67496d299c8ac6e/fhd.mp4\n",
      "description:#образ #lookbook #показ #неделямоды #капсула #ошибкивстиле #селебрити #интервью #перевоплощения #обувь #кроссовки\n",
      "video_caption:A woman is giving a tutorial on how to put on a ponytail.\n",
      "--------------------\n",
      "link:https://cdn-st.rutubelist.ru/media/4b/54/0a36f96d4030a0f6ad1b6d7f4902/fhd.mp4\n",
      "description:#красивыедевушки #bigbooty #грудь\n",
      "video_caption:A woman is standing in front of a wall and then she bends down and bends forward.\n",
      "--------------------\n",
      "link:https://cdn-st.rutubelist.ru/media/8c/58/96608b7a4834883ea2dd1c884c63/fhd.mp4\n",
      "description:📍 •Бейрут / Beirut 🏔️\n",
      "• Ливан / Lebanon 🇱🇧 \n",
      "\n",
      "By: @rassal_kroft\n",
      "video_caption:A person jumps off of a cliff into the water below.\n",
      "--------------------\n",
      "link:https://cdn-st.rutubelist.ru/media/2f/4f/6b969c8c4a2aafcfca057b2a99a2/fhd.mp4\n",
      "description:#спорт #наспорте #футбол #football #роналду\n",
      "video_caption:A man is sitting in front of a camera and talking to the camera.\n",
      "--------------------\n",
      "link:https://cdn-st.rutubelist.ru/media/9f/ca/d5d0dedf44418e1a2b7d5cebe0e8/fhd.mp4\n",
      "description:#красивыедевушки #hotgirl #грудь #boobs\n",
      "video_caption:A woman is sitting in front of a mirror and is talking to someone.\n",
      "--------------------\n",
      "link:https://cdn-st.rutubelist.ru/media/a4/d2/8e9737fd445faf0a20151f8c39f5/fhd.mp4\n",
      "description:nan\n",
      "video_caption:A man and a woman are playing a video game on a stage.\n",
      "--------------------\n",
      "link:https://cdn-st.rutubelist.ru/media/a3/9f/2352de2748b3868df583d51a402b/fhd.mp4\n",
      "description:#спорт #наспорте #здоровье #совет #советы\n",
      "video_caption:A man is walking in the middle of a busy street.\n",
      "--------------------\n",
      "link:https://cdn-st.rutubelist.ru/media/ac/08/3604604b4b8b89e34db1e0e91863/fhd.mp4\n",
      "description:#красивыедевушки #hotgirl #попа #ass #грудь #boobs #йога\n",
      "video_caption:A woman is lying on her back on the ground while another woman kneels next to her.\n",
      "--------------------\n",
      "link:https://cdn-st.rutubelist.ru/media/5a/35/65c80c3047d08634922cb22f1fee/fhd.mp4\n",
      "description:#красивыедевушки #грудь #boobs #попа #ass #бикини #lingerie\n",
      "video_caption:A woman is showing how to properly wrap a woman's leg.\n",
      "--------------------\n",
      "link:https://cdn-st.rutubelist.ru/media/03/eb/47329b1943349255453b6cec625d/fhd.mp4\n",
      "description:#уходзакожей #уходзасобой #бьютирутина #бьюти #ноготочки #маникюр #прическа #укладка #уход #бьютирутина\n",
      "video_caption:A person is demonstrating how to use a credit card in a store.\n",
      "--------------------\n"
     ]
    }
   ],
   "source": [
    "for index in range(len(video_captions)):\n",
    "    row = df.iloc[index]\n",
    "    print(f'link:{row.link}')\n",
    "    print(f'description:{row.description}')\n",
    "    print(f'video_caption:{video_captions[index]}')\n",
    "    print(20*'-')"
   ]
  },
  {
   "cell_type": "markdown",
   "id": "8d60317d-46d2-41ea-8b65-e48719418064",
   "metadata": {},
   "source": [
    "### проба моделей, которые достают текст из скринов"
   ]
  },
  {
   "cell_type": "markdown",
   "id": "aa6c57b7-88b5-493c-a764-2e3cc67c2b2f",
   "metadata": {
    "jp-MarkdownHeadingCollapsed": true
   },
   "source": [
    "#### Tesseract OCR"
   ]
  },
  {
   "cell_type": "code",
   "execution_count": 53,
   "id": "d3d9f55b-990c-45ab-9e0c-404d05199c9b",
   "metadata": {},
   "outputs": [],
   "source": [
    "from PIL import Image\n",
    "import pytesseract"
   ]
  },
  {
   "cell_type": "code",
   "execution_count": 50,
   "id": "cb8dbe97-d464-4f02-b53c-9449b763965d",
   "metadata": {},
   "outputs": [
    {
     "data": {
      "text/plain": [
       "['../scrins/Снимок экрана 2024-06-03 в 20.59.20.png',\n",
       " '../scrins/Снимок экрана 2024-06-03 в 20.59.35.png',\n",
       " '../scrins/Снимок экрана 2024-06-03 в 20.59.46.png',\n",
       " '../scrins/Снимок экрана 2024-06-03 в 20.59.53.png']"
      ]
     },
     "execution_count": 50,
     "metadata": {},
     "output_type": "execute_result"
    }
   ],
   "source": [
    "screens_files"
   ]
  },
  {
   "cell_type": "code",
   "execution_count": 63,
   "id": "ae2ebadb-9459-4995-a582-c8c3fce688e2",
   "metadata": {},
   "outputs": [
    {
     "name": "stdout",
     "output_type": "stream",
     "text": [
      "\n",
      ">\n",
      "—\n",
      "—\n",
      "“\n",
      "=\n",
      "\n",
      "\n",
      "\n",
      "у\n",
      "\n",
      "|\n",
      "‚дн ВВЕГДАНЕДОВОЛЕНИЯ\n",
      "ЧЕМТО\n",
      "\n",
      "\n"
     ]
    }
   ],
   "source": [
    "for screens_file in screens_files:\n",
    "    # Загрузка изображения\n",
    "    img = Image.open(screens_file)\n",
    "    \n",
    "    # Извлечение текста\n",
    "    text = pytesseract.image_to_string(img, lang='rus')\n",
    "    print(text)"
   ]
  },
  {
   "cell_type": "markdown",
   "id": "1e574ee9-4de6-492b-bb45-62f910d31b93",
   "metadata": {
    "jp-MarkdownHeadingCollapsed": true
   },
   "source": [
    "#### TrOCR"
   ]
  },
  {
   "cell_type": "code",
   "execution_count": 55,
   "id": "e8942e0e-afa4-4821-a75c-6602d4b4cca9",
   "metadata": {},
   "outputs": [
    {
     "data": {
      "application/vnd.jupyter.widget-view+json": {
       "model_id": "cc084b6e66034c2f9d5de42c757f4f3f",
       "version_major": 2,
       "version_minor": 0
      },
      "text/plain": [
       "preprocessor_config.json:   0%|          | 0.00/224 [00:00<?, ?B/s]"
      ]
     },
     "metadata": {},
     "output_type": "display_data"
    },
    {
     "data": {
      "application/vnd.jupyter.widget-view+json": {
       "model_id": "8b9c11e8b8ca4db1978c7abaf5bfe421",
       "version_major": 2,
       "version_minor": 0
      },
      "text/plain": [
       "tokenizer_config.json:   0%|          | 0.00/1.12k [00:00<?, ?B/s]"
      ]
     },
     "metadata": {},
     "output_type": "display_data"
    },
    {
     "data": {
      "application/vnd.jupyter.widget-view+json": {
       "model_id": "c6cbc20d61c54a6bb7aa76f868e79670",
       "version_major": 2,
       "version_minor": 0
      },
      "text/plain": [
       "vocab.json:   0%|          | 0.00/899k [00:00<?, ?B/s]"
      ]
     },
     "metadata": {},
     "output_type": "display_data"
    },
    {
     "data": {
      "application/vnd.jupyter.widget-view+json": {
       "model_id": "d6e7327c48804e1c9d2a15bf476c2ebc",
       "version_major": 2,
       "version_minor": 0
      },
      "text/plain": [
       "merges.txt:   0%|          | 0.00/456k [00:00<?, ?B/s]"
      ]
     },
     "metadata": {},
     "output_type": "display_data"
    },
    {
     "data": {
      "application/vnd.jupyter.widget-view+json": {
       "model_id": "7ddd89f55d034b929ef98ac358cfcb58",
       "version_major": 2,
       "version_minor": 0
      },
      "text/plain": [
       "special_tokens_map.json:   0%|          | 0.00/772 [00:00<?, ?B/s]"
      ]
     },
     "metadata": {},
     "output_type": "display_data"
    },
    {
     "data": {
      "application/vnd.jupyter.widget-view+json": {
       "model_id": "8a8e28e6ec274ef78e820610870ee2f9",
       "version_major": 2,
       "version_minor": 0
      },
      "text/plain": [
       "config.json:   0%|          | 0.00/4.17k [00:00<?, ?B/s]"
      ]
     },
     "metadata": {},
     "output_type": "display_data"
    },
    {
     "data": {
      "application/vnd.jupyter.widget-view+json": {
       "model_id": "3a1c443f0e864bddb98f1d4fa989859d",
       "version_major": 2,
       "version_minor": 0
      },
      "text/plain": [
       "model.safetensors:   0%|          | 0.00/1.33G [00:00<?, ?B/s]"
      ]
     },
     "metadata": {},
     "output_type": "display_data"
    },
    {
     "name": "stderr",
     "output_type": "stream",
     "text": [
      "Some weights of VisionEncoderDecoderModel were not initialized from the model checkpoint at microsoft/trocr-base-handwritten and are newly initialized: ['encoder.pooler.dense.bias', 'encoder.pooler.dense.weight']\n",
      "You should probably TRAIN this model on a down-stream task to be able to use it for predictions and inference.\n"
     ]
    },
    {
     "data": {
      "application/vnd.jupyter.widget-view+json": {
       "model_id": "ec779be4fd204d02b2f4b665b709791e",
       "version_major": 2,
       "version_minor": 0
      },
      "text/plain": [
       "generation_config.json:   0%|          | 0.00/190 [00:00<?, ?B/s]"
      ]
     },
     "metadata": {},
     "output_type": "display_data"
    }
   ],
   "source": [
    "from transformers import TrOCRProcessor, VisionEncoderDecoderModel\n",
    "from PIL import Image\n",
    "\n",
    "# Загрузка модели и процессора\n",
    "processor = TrOCRProcessor.from_pretrained('microsoft/trocr-base-handwritten')\n",
    "model = VisionEncoderDecoderModel.from_pretrained('microsoft/trocr-base-handwritten')"
   ]
  },
  {
   "cell_type": "code",
   "execution_count": 58,
   "id": "38d59114-d577-4411-8b05-32b206abf35b",
   "metadata": {},
   "outputs": [
    {
     "data": {
      "text/plain": [
       "'../scrins/Снимок экрана 2024-06-03 в 20.59.20.png'"
      ]
     },
     "execution_count": 58,
     "metadata": {},
     "output_type": "execute_result"
    }
   ],
   "source": [
    "screens_file"
   ]
  },
  {
   "cell_type": "code",
   "execution_count": 57,
   "id": "d8d52352-8340-401d-bd50-ff24878d3f60",
   "metadata": {},
   "outputs": [
    {
     "name": "stderr",
     "output_type": "stream",
     "text": [
      "/var/folders/yr/mmqsh_3x4z92c40wn0j7x2yw0000gp/T/ipykernel_92859/286443185.py:1: TqdmDeprecationWarning: This function will be removed in tqdm==5.0.0\n",
      "Please use `tqdm.notebook.tqdm` instead of `tqdm.tqdm_notebook`\n",
      "  for screens_file in tqdm_notebook(screens_files):\n"
     ]
    },
    {
     "data": {
      "application/vnd.jupyter.widget-view+json": {
       "model_id": "11d5d6170acb438a9a4c22f64b1e8187",
       "version_major": 2,
       "version_minor": 0
      },
      "text/plain": [
       "  0%|          | 0/4 [00:00<?, ?it/s]"
      ]
     },
     "metadata": {},
     "output_type": "display_data"
    },
    {
     "ename": "ValueError",
     "evalue": "Unable to infer channel dimension format",
     "output_type": "error",
     "traceback": [
      "\u001b[0;31m---------------------------------------------------------------------------\u001b[0m",
      "\u001b[0;31mValueError\u001b[0m                                Traceback (most recent call last)",
      "Cell \u001b[0;32mIn[57], line 6\u001b[0m\n\u001b[1;32m      3\u001b[0m image \u001b[38;5;241m=\u001b[39m Image\u001b[38;5;241m.\u001b[39mopen(screens_file)\n\u001b[1;32m      5\u001b[0m \u001b[38;5;66;03m# Предобработка изображения\u001b[39;00m\n\u001b[0;32m----> 6\u001b[0m pixel_values \u001b[38;5;241m=\u001b[39m processor(image, return_tensors\u001b[38;5;241m=\u001b[39m\u001b[38;5;124m\"\u001b[39m\u001b[38;5;124mpt\u001b[39m\u001b[38;5;124m\"\u001b[39m)\u001b[38;5;241m.\u001b[39mpixel_values\n\u001b[1;32m      8\u001b[0m \u001b[38;5;66;03m# Распознавание текста\u001b[39;00m\n\u001b[1;32m      9\u001b[0m generated_ids \u001b[38;5;241m=\u001b[39m model\u001b[38;5;241m.\u001b[39mgenerate(pixel_values)\n",
      "File \u001b[0;32m/opt/anaconda3/lib/python3.11/site-packages/transformers/models/trocr/processing_trocr.py:84\u001b[0m, in \u001b[0;36mTrOCRProcessor.__call__\u001b[0;34m(self, *args, **kwargs)\u001b[0m\n\u001b[1;32m     81\u001b[0m     \u001b[38;5;28;01mraise\u001b[39;00m \u001b[38;5;167;01mValueError\u001b[39;00m(\u001b[38;5;124m\"\u001b[39m\u001b[38;5;124mYou need to specify either an `images` or `text` input to process.\u001b[39m\u001b[38;5;124m\"\u001b[39m)\n\u001b[1;32m     83\u001b[0m \u001b[38;5;28;01mif\u001b[39;00m images \u001b[38;5;129;01mis\u001b[39;00m \u001b[38;5;129;01mnot\u001b[39;00m \u001b[38;5;28;01mNone\u001b[39;00m:\n\u001b[0;32m---> 84\u001b[0m     inputs \u001b[38;5;241m=\u001b[39m \u001b[38;5;28mself\u001b[39m\u001b[38;5;241m.\u001b[39mimage_processor(images, \u001b[38;5;241m*\u001b[39margs, \u001b[38;5;241m*\u001b[39m\u001b[38;5;241m*\u001b[39mkwargs)\n\u001b[1;32m     85\u001b[0m \u001b[38;5;28;01mif\u001b[39;00m text \u001b[38;5;129;01mis\u001b[39;00m \u001b[38;5;129;01mnot\u001b[39;00m \u001b[38;5;28;01mNone\u001b[39;00m:\n\u001b[1;32m     86\u001b[0m     encodings \u001b[38;5;241m=\u001b[39m \u001b[38;5;28mself\u001b[39m\u001b[38;5;241m.\u001b[39mtokenizer(text, \u001b[38;5;241m*\u001b[39m\u001b[38;5;241m*\u001b[39mkwargs)\n",
      "File \u001b[0;32m/opt/anaconda3/lib/python3.11/site-packages/transformers/image_processing_utils.py:551\u001b[0m, in \u001b[0;36mBaseImageProcessor.__call__\u001b[0;34m(self, images, **kwargs)\u001b[0m\n\u001b[1;32m    549\u001b[0m \u001b[38;5;28;01mdef\u001b[39;00m \u001b[38;5;21m__call__\u001b[39m(\u001b[38;5;28mself\u001b[39m, images, \u001b[38;5;241m*\u001b[39m\u001b[38;5;241m*\u001b[39mkwargs) \u001b[38;5;241m-\u001b[39m\u001b[38;5;241m>\u001b[39m BatchFeature:\n\u001b[1;32m    550\u001b[0m \u001b[38;5;250m    \u001b[39m\u001b[38;5;124;03m\"\"\"Preprocess an image or a batch of images.\"\"\"\u001b[39;00m\n\u001b[0;32m--> 551\u001b[0m     \u001b[38;5;28;01mreturn\u001b[39;00m \u001b[38;5;28mself\u001b[39m\u001b[38;5;241m.\u001b[39mpreprocess(images, \u001b[38;5;241m*\u001b[39m\u001b[38;5;241m*\u001b[39mkwargs)\n",
      "File \u001b[0;32m/opt/anaconda3/lib/python3.11/site-packages/transformers/models/vit/image_processing_vit.py:264\u001b[0m, in \u001b[0;36mViTImageProcessor.preprocess\u001b[0;34m(self, images, do_resize, size, resample, do_rescale, rescale_factor, do_normalize, image_mean, image_std, return_tensors, data_format, input_data_format, **kwargs)\u001b[0m\n\u001b[1;32m    257\u001b[0m     logger\u001b[38;5;241m.\u001b[39mwarning_once(\n\u001b[1;32m    258\u001b[0m         \u001b[38;5;124m\"\u001b[39m\u001b[38;5;124mIt looks like you are trying to rescale already rescaled images. If the input\u001b[39m\u001b[38;5;124m\"\u001b[39m\n\u001b[1;32m    259\u001b[0m         \u001b[38;5;124m\"\u001b[39m\u001b[38;5;124m images have pixel values between 0 and 1, set `do_rescale=False` to avoid rescaling them again.\u001b[39m\u001b[38;5;124m\"\u001b[39m\n\u001b[1;32m    260\u001b[0m     )\n\u001b[1;32m    262\u001b[0m \u001b[38;5;28;01mif\u001b[39;00m input_data_format \u001b[38;5;129;01mis\u001b[39;00m \u001b[38;5;28;01mNone\u001b[39;00m:\n\u001b[1;32m    263\u001b[0m     \u001b[38;5;66;03m# We assume that all images have the same channel dimension format.\u001b[39;00m\n\u001b[0;32m--> 264\u001b[0m     input_data_format \u001b[38;5;241m=\u001b[39m infer_channel_dimension_format(images[\u001b[38;5;241m0\u001b[39m])\n\u001b[1;32m    266\u001b[0m \u001b[38;5;28;01mif\u001b[39;00m do_resize:\n\u001b[1;32m    267\u001b[0m     images \u001b[38;5;241m=\u001b[39m [\n\u001b[1;32m    268\u001b[0m         \u001b[38;5;28mself\u001b[39m\u001b[38;5;241m.\u001b[39mresize(image\u001b[38;5;241m=\u001b[39mimage, size\u001b[38;5;241m=\u001b[39msize_dict, resample\u001b[38;5;241m=\u001b[39mresample, input_data_format\u001b[38;5;241m=\u001b[39minput_data_format)\n\u001b[1;32m    269\u001b[0m         \u001b[38;5;28;01mfor\u001b[39;00m image \u001b[38;5;129;01min\u001b[39;00m images\n\u001b[1;32m    270\u001b[0m     ]\n",
      "File \u001b[0;32m/opt/anaconda3/lib/python3.11/site-packages/transformers/image_utils.py:206\u001b[0m, in \u001b[0;36minfer_channel_dimension_format\u001b[0;34m(image, num_channels)\u001b[0m\n\u001b[1;32m    204\u001b[0m \u001b[38;5;28;01melif\u001b[39;00m image\u001b[38;5;241m.\u001b[39mshape[last_dim] \u001b[38;5;129;01min\u001b[39;00m num_channels:\n\u001b[1;32m    205\u001b[0m     \u001b[38;5;28;01mreturn\u001b[39;00m ChannelDimension\u001b[38;5;241m.\u001b[39mLAST\n\u001b[0;32m--> 206\u001b[0m \u001b[38;5;28;01mraise\u001b[39;00m \u001b[38;5;167;01mValueError\u001b[39;00m(\u001b[38;5;124m\"\u001b[39m\u001b[38;5;124mUnable to infer channel dimension format\u001b[39m\u001b[38;5;124m\"\u001b[39m)\n",
      "\u001b[0;31mValueError\u001b[0m: Unable to infer channel dimension format"
     ]
    }
   ],
   "source": [
    "for screens_file in tqdm_notebook(screens_files):\n",
    "    # Открытие изображения\n",
    "    image = Image.open(screens_file)\n",
    "    \n",
    "    # Предобработка изображения\n",
    "    pixel_values = processor(image, return_tensors=\"pt\").pixel_values\n",
    "    \n",
    "    # Распознавание текста\n",
    "    generated_ids = model.generate(pixel_values)\n",
    "    generated_text = processor.batch_decode(generated_ids, skip_special_tokens=True)[0]\n",
    "    print(generated_text)\n",
    "    break"
   ]
  },
  {
   "cell_type": "code",
   "execution_count": null,
   "id": "a55ae2c7-a6b1-4fee-bc91-1262ce56149a",
   "metadata": {},
   "outputs": [],
   "source": [
    "for index in range(len(video_captions)):\n",
    "    row = df.iloc[index]\n",
    "    print(f'link:{row.link}')\n",
    "    print(f'description:{row.description}')\n",
    "    print(f'video_caption:{video_captions[index]}')\n",
    "    print(20*'-')"
   ]
  },
  {
   "cell_type": "code",
   "execution_count": 62,
   "id": "ac227b2c-f195-4a77-856e-ab21965bdc9d",
   "metadata": {},
   "outputs": [
    {
     "name": "stderr",
     "output_type": "stream",
     "text": [
      "/var/folders/yr/mmqsh_3x4z92c40wn0j7x2yw0000gp/T/ipykernel_92859/2697926682.py:1: TqdmDeprecationWarning: This function will be removed in tqdm==5.0.0\n",
      "Please use `tqdm.notebook.tqdm` instead of `tqdm.tqdm_notebook`\n",
      "  for index, screens_file in tqdm_notebook(enumerate(screens_files)):\n"
     ]
    },
    {
     "data": {
      "application/vnd.jupyter.widget-view+json": {
       "model_id": "64e2ed5543d34b198a78bfcd29aba991",
       "version_major": 2,
       "version_minor": 0
      },
      "text/plain": [
       "0it [00:00, ?it/s]"
      ]
     },
     "metadata": {},
     "output_type": "display_data"
    },
    {
     "name": "stdout",
     "output_type": "stream",
     "text": [
      "link:https://cdn-st.rutubelist.ru/media/b0/e9/ef285e0241139fc611318ed33071/fhd.mp4\n",
      "description:#нарезкистримов , #dota2 , #cs2 , #fifa23 , #minecraft , #майнкрафт , #геншин , #genshin\n",
      "0 0\n",
      "--------------------\n",
      "link:https://cdn-st.rutubelist.ru/media/39/6c/b31bc6864bef9d8a96814f1822ca/fhd.mp4\n",
      "description:🤫НЕ ВВОДИ ЭТУ КОМАНДУ В РОБЛОКС ! #shorts #roblox #роблокс\n",
      "0 1\n",
      "--------------------\n",
      "link:https://cdn-st.rutubelist.ru/media/e9/e0/b47a9df14a5e97942715e5e705c0/fhd.mp4\n",
      "description:#boobs , #красивыедевушки , #ass\n",
      "0 2\n",
      "--------------------\n",
      "link:https://cdn-st.rutubelist.ru/media/87/43/b11df3f344d0af773aac81e410ee/fhd.mp4\n",
      "description:nan\n",
      "spices\n",
      "--------------------\n"
     ]
    }
   ],
   "source": [
    "for index, screens_file in tqdm_notebook(enumerate(screens_files)):\n",
    "    # Открытие изображения\n",
    "    image = Image.open(screens_file).convert(\"RGB\")\n",
    "    \n",
    "    # Предобработка изображения\n",
    "    pixel_values = processor(image, return_tensors=\"pt\").pixel_values\n",
    "    \n",
    "    # Распознавание текста\n",
    "    generated_ids = model.generate(pixel_values)\n",
    "    generated_text = processor.batch_decode(generated_ids, skip_special_tokens=True)[0]\n",
    "    row = df.iloc[index]\n",
    "    print(f'link:{row.link}')\n",
    "    print(f'description:{row.description}')\n",
    "    print(generated_text)\n",
    "    print(20*'-')"
   ]
  },
  {
   "cell_type": "markdown",
   "id": "95c26e8f-362c-4145-b800-bae8151b9057",
   "metadata": {},
   "source": [
    "### проба моделей audio2text [whishper hf link](https://huggingface.co/openai)"
   ]
  },
  {
   "cell_type": "code",
   "execution_count": 7,
   "id": "afa15da9-d79a-4c2b-93b7-93b1505efb0d",
   "metadata": {},
   "outputs": [],
   "source": [
    "# !pip install openai-whisper"
   ]
  },
  {
   "cell_type": "code",
   "execution_count": 8,
   "id": "59a73944-7036-4728-b92e-f71558339301",
   "metadata": {},
   "outputs": [],
   "source": [
    "# !pip install moviepy"
   ]
  },
  {
   "cell_type": "code",
   "execution_count": 18,
   "id": "9becec34-c905-4dc7-925d-0221646a9808",
   "metadata": {},
   "outputs": [
    {
     "name": "stderr",
     "output_type": "stream",
     "text": [
      "                                                                                                                                                   \r"
     ]
    }
   ],
   "source": [
    "from moviepy.editor import VideoFileClip\n",
    "import whisper"
   ]
  },
  {
   "cell_type": "code",
   "execution_count": 16,
   "id": "a8333e41-d03c-4c62-8c2b-d16d3d3e90d0",
   "metadata": {},
   "outputs": [
    {
     "name": "stderr",
     "output_type": "stream",
     "text": [
      "chunk:  86%|████████████████████████████████████████████████████████████████████████████▉            | 351/406 [00:29<00:00, 1309.79it/s, now=None]"
     ]
    },
    {
     "name": "stdout",
     "output_type": "stream",
     "text": [
      "MoviePy - Writing audio in audio_files/0_b0_e9_ef285e0241139fc611318ed33071_fhd.mp3\n"
     ]
    },
    {
     "name": "stderr",
     "output_type": "stream",
     "text": [
      "\n",
      "chunk:   0%|                                                                                                     | 0/415 [00:00<?, ?it/s, now=None]\u001b[A\n",
      "chunk:  31%|███████████████████████████▏                                                             | 127/415 [00:00<00:00, 1269.30it/s, now=None]\u001b[A\n",
      "chunk:  79%|██████████████████████████████████████████████████████████████████████▏                  | 327/415 [00:00<00:00, 1698.87it/s, now=None]\u001b[A\n",
      "chunk:  86%|████████████████████████████████████████████████████████████████████████████▉            | 351/406 [00:29<00:00, 1309.79it/s, now=None]\u001b[A"
     ]
    },
    {
     "name": "stdout",
     "output_type": "stream",
     "text": [
      "MoviePy - Done.\n"
     ]
    },
    {
     "name": "stderr",
     "output_type": "stream",
     "text": [
      "chunk:  86%|████████████████████████████████████████████████████████████████████████████▉            | 351/406 [00:29<00:00, 1309.79it/s, now=None]"
     ]
    },
    {
     "name": "stdout",
     "output_type": "stream",
     "text": [
      "MoviePy - Writing audio in audio_files/1_39_6c_b31bc6864bef9d8a96814f1822ca_fhd.mp3\n"
     ]
    },
    {
     "name": "stderr",
     "output_type": "stream",
     "text": [
      "\n",
      "chunk:   0%|                                                                                                     | 0/415 [00:00<?, ?it/s, now=None]\u001b[A\n",
      "chunk:  29%|█████████████████████████▉                                                               | 121/415 [00:00<00:00, 1209.78it/s, now=None]\u001b[A\n",
      "chunk:  91%|████████████████████████████████████████████████████████████████████████████████▋        | 376/415 [00:00<00:00, 1978.68it/s, now=None]\u001b[A\n",
      "chunk:  86%|████████████████████████████████████████████████████████████████████████████▉            | 351/406 [00:29<00:00, 1309.79it/s, now=None]\u001b[A"
     ]
    },
    {
     "name": "stdout",
     "output_type": "stream",
     "text": [
      "MoviePy - Done.\n"
     ]
    },
    {
     "name": "stderr",
     "output_type": "stream",
     "text": [
      "chunk:  86%|████████████████████████████████████████████████████████████████████████████▉            | 351/406 [00:30<00:00, 1309.79it/s, now=None]"
     ]
    },
    {
     "name": "stdout",
     "output_type": "stream",
     "text": [
      "MoviePy - Writing audio in audio_files/2_e9_e0_b47a9df14a5e97942715e5e705c0_fhd.mp3\n"
     ]
    },
    {
     "name": "stderr",
     "output_type": "stream",
     "text": [
      "\n",
      "chunk:   0%|                                                                                                     | 0/242 [00:00<?, ?it/s, now=None]\u001b[A\n",
      "chunk:  52%|█████████████████████████████████████████████▉                                           | 125/242 [00:00<00:00, 1249.88it/s, now=None]\u001b[A\n",
      "chunk:  86%|████████████████████████████████████████████████████████████████████████████▉            | 351/406 [00:30<00:00, 1309.79it/s, now=None]\u001b[A"
     ]
    },
    {
     "name": "stdout",
     "output_type": "stream",
     "text": [
      "MoviePy - Done.\n"
     ]
    },
    {
     "name": "stderr",
     "output_type": "stream",
     "text": [
      "chunk:  86%|████████████████████████████████████████████████████████████████████████████▉            | 351/406 [00:30<00:00, 1309.79it/s, now=None]"
     ]
    },
    {
     "name": "stdout",
     "output_type": "stream",
     "text": [
      "MoviePy - Writing audio in audio_files/3_87_43_b11df3f344d0af773aac81e410ee_fhd.mp3\n"
     ]
    },
    {
     "name": "stderr",
     "output_type": "stream",
     "text": [
      "\n",
      "chunk:   0%|                                                                                                     | 0/856 [00:00<?, ?it/s, now=None]\u001b[A\n",
      "chunk:  14%|████████████▍                                                                            | 120/856 [00:00<00:00, 1199.70it/s, now=None]\u001b[A\n",
      "chunk:  37%|█████████████████████████████████▎                                                       | 320/856 [00:00<00:00, 1646.05it/s, now=None]\u001b[A\n",
      "chunk:  61%|██████████████████████████████████████████████████████▋                                  | 526/856 [00:00<00:00, 1807.49it/s, now=None]\u001b[A\n",
      "chunk:  85%|███████████████████████████████████████████████████████████████████████████▉             | 730/856 [00:00<00:00, 1879.33it/s, now=None]\u001b[A\n",
      "chunk:  86%|████████████████████████████████████████████████████████████████████████████▉            | 351/406 [00:31<00:00, 1309.79it/s, now=None]\u001b[A"
     ]
    },
    {
     "name": "stdout",
     "output_type": "stream",
     "text": [
      "MoviePy - Done.\n"
     ]
    },
    {
     "name": "stderr",
     "output_type": "stream",
     "text": [
      "chunk:  86%|████████████████████████████████████████████████████████████████████████████▉            | 351/406 [00:31<00:00, 1309.79it/s, now=None]"
     ]
    },
    {
     "name": "stdout",
     "output_type": "stream",
     "text": [
      "MoviePy - Writing audio in audio_files/4_d1_e7_642dc2194fcdb69664f832d5f2dd_fhd.mp3\n"
     ]
    },
    {
     "name": "stderr",
     "output_type": "stream",
     "text": [
      "\n",
      "chunk:   0%|                                                                                                     | 0/403 [00:00<?, ?it/s, now=None]\u001b[A\n",
      "chunk:  29%|█████████████████████████▌                                                               | 116/403 [00:00<00:00, 1085.56it/s, now=None]\u001b[A\n",
      "chunk:  86%|████████████████████████████████████████████████████████████████████████████▉            | 351/406 [00:31<00:00, 1309.79it/s, now=None]\u001b[A"
     ]
    },
    {
     "name": "stdout",
     "output_type": "stream",
     "text": [
      "MoviePy - Done.\n"
     ]
    },
    {
     "name": "stderr",
     "output_type": "stream",
     "text": [
      "chunk:  86%|████████████████████████████████████████████████████████████████████████████▉            | 351/406 [00:32<00:00, 1309.79it/s, now=None]"
     ]
    },
    {
     "name": "stdout",
     "output_type": "stream",
     "text": [
      "MoviePy - Writing audio in audio_files/5_e2_97_f9164f8a41479f961d64842154a7_fhd.mp3\n"
     ]
    },
    {
     "name": "stderr",
     "output_type": "stream",
     "text": [
      "\n",
      "chunk:   0%|                                                                                                     | 0/992 [00:00<?, ?it/s, now=None]\u001b[A\n",
      "chunk:  12%|███████████▏                                                                             | 124/992 [00:00<00:00, 1238.28it/s, now=None]\u001b[A\n",
      "chunk:  36%|████████████████████████████████                                                         | 357/992 [00:00<00:00, 1879.07it/s, now=None]\u001b[A\n",
      "chunk:  60%|█████████████████████████████████████████████████████▎                                   | 594/992 [00:00<00:00, 2102.55it/s, now=None]\u001b[A\n",
      "chunk:  83%|██████████████████████████████████████████████████████████████████████████               | 826/992 [00:00<00:00, 2182.89it/s, now=None]\u001b[A\n",
      "chunk:  86%|████████████████████████████████████████████████████████████████████████████▉            | 351/406 [00:32<00:00, 1309.79it/s, now=None]\u001b[A"
     ]
    },
    {
     "name": "stdout",
     "output_type": "stream",
     "text": [
      "MoviePy - Done.\n"
     ]
    },
    {
     "name": "stderr",
     "output_type": "stream",
     "text": [
      "chunk:  86%|████████████████████████████████████████████████████████████████████████████▉            | 351/406 [00:33<00:00, 1309.79it/s, now=None]"
     ]
    },
    {
     "name": "stdout",
     "output_type": "stream",
     "text": [
      "MoviePy - Writing audio in audio_files/6_0f_48_8a1ff7324073947a31e80f71d001_fhd.mp3\n"
     ]
    },
    {
     "name": "stderr",
     "output_type": "stream",
     "text": [
      "\n",
      "chunk:   0%|                                                                                                     | 0/532 [00:00<?, ?it/s, now=None]\u001b[A\n",
      "chunk:  33%|█████████████████████████████▊                                                           | 178/532 [00:00<00:00, 1777.81it/s, now=None]\u001b[A\n",
      "chunk:  86%|████████████████████████████████████████████████████████████████████████████▉            | 351/406 [00:33<00:00, 1309.79it/s, now=None]\u001b[A"
     ]
    },
    {
     "name": "stdout",
     "output_type": "stream",
     "text": [
      "MoviePy - Done.\n"
     ]
    },
    {
     "name": "stderr",
     "output_type": "stream",
     "text": [
      "chunk:  86%|████████████████████████████████████████████████████████████████████████████▉            | 351/406 [00:33<00:00, 1309.79it/s, now=None]"
     ]
    },
    {
     "name": "stdout",
     "output_type": "stream",
     "text": [
      "MoviePy - Writing audio in audio_files/7_19_9c_98de3b4a4d9e83cb5dda828f899e_fhd.mp3\n"
     ]
    },
    {
     "name": "stderr",
     "output_type": "stream",
     "text": [
      "\n",
      "chunk:   0%|                                                                                                     | 0/139 [00:00<?, ?it/s, now=None]\u001b[A\n",
      "chunk:  86%|████████████████████████████████████████████████████████████████████████████▉            | 351/406 [00:33<00:00, 1309.79it/s, now=None]\u001b[A"
     ]
    },
    {
     "name": "stdout",
     "output_type": "stream",
     "text": [
      "MoviePy - Done.\n"
     ]
    },
    {
     "name": "stderr",
     "output_type": "stream",
     "text": [
      "chunk:  86%|████████████████████████████████████████████████████████████████████████████▉            | 351/406 [00:34<00:00, 1309.79it/s, now=None]"
     ]
    },
    {
     "name": "stdout",
     "output_type": "stream",
     "text": [
      "MoviePy - Writing audio in audio_files/8_bf_ee_85fb6b80491db79e8baebe5c9d80_fhd.mp3\n"
     ]
    },
    {
     "name": "stderr",
     "output_type": "stream",
     "text": [
      "\n",
      "chunk:   0%|                                                                                                     | 0/377 [00:00<?, ?it/s, now=None]\u001b[A\n",
      "chunk:  48%|██████████████████████████████████████████▉                                              | 182/377 [00:00<00:00, 1819.97it/s, now=None]\u001b[A\n",
      "chunk:  86%|████████████████████████████████████████████████████████████████████████████▉            | 351/406 [00:34<00:00, 1309.79it/s, now=None]\u001b[A"
     ]
    },
    {
     "name": "stdout",
     "output_type": "stream",
     "text": [
      "MoviePy - Done.\n"
     ]
    },
    {
     "name": "stderr",
     "output_type": "stream",
     "text": [
      "chunk:  86%|████████████████████████████████████████████████████████████████████████████▉            | 351/406 [00:34<00:00, 1309.79it/s, now=None]"
     ]
    },
    {
     "name": "stdout",
     "output_type": "stream",
     "text": [
      "MoviePy - Writing audio in audio_files/9_fc_73_d86600d04e519178a55774dfe65e_fhd.mp3\n"
     ]
    },
    {
     "name": "stderr",
     "output_type": "stream",
     "text": [
      "\n",
      "chunk:   0%|                                                                                                     | 0/311 [00:00<?, ?it/s, now=None]\u001b[A\n",
      "chunk:  41%|████████████████████████████████████▋                                                    | 128/311 [00:00<00:00, 1279.86it/s, now=None]\u001b[A\n",
      "chunk:  82%|██████████████████████████████████████████████████████████████████████████                | 256/311 [00:00<00:00, 706.38it/s, now=None]\u001b[A\n",
      "chunk:  86%|████████████████████████████████████████████████████████████████████████████▉            | 351/406 [00:35<00:00, 1309.79it/s, now=None]\u001b[A"
     ]
    },
    {
     "name": "stdout",
     "output_type": "stream",
     "text": [
      "MoviePy - Done.\n"
     ]
    }
   ],
   "source": [
    "# Шаг 1: Извлечение аудио из видео и сохранение его в формате MP3\n",
    "# Создаем директорию для сохранения аудио файлов\n",
    "audio_output_dir = \"audio_files\"\n",
    "os.makedirs(audio_output_dir, exist_ok=True)\n",
    "\n",
    "for video_file in sorted_video_files[:10]:\n",
    "    video_clip = VideoFileClip(video_file)\n",
    "    audio_file_path = os.path.join(audio_output_dir, os.path.basename(video_file).replace(\".mp4\", \".mp3\"))\n",
    "    video_clip.audio.write_audiofile(audio_file_path)"
   ]
  },
  {
   "cell_type": "code",
   "execution_count": 19,
   "id": "f3f932f3-b05f-4b91-824b-a822146f9d2d",
   "metadata": {},
   "outputs": [
    {
     "name": "stderr",
     "output_type": "stream",
     "text": [
      "100%|███████████████████████████████████████| 461M/461M [01:07<00:00, 7.20MiB/s]\n"
     ]
    }
   ],
   "source": [
    "# Загружаем модель Whisper\n",
    "model = whisper.load_model(\"small\")\n",
    "\n",
    "# Транскрибация аудио файлов\n",
    "audio_files = [os.path.join(audio_output_dir, f) for f in os.listdir(audio_output_dir) if f.endswith(\".mp3\")]"
   ]
  },
  {
   "cell_type": "code",
   "execution_count": 25,
   "id": "fd1731f4-3a81-4ea0-9b34-7d2163b58562",
   "metadata": {},
   "outputs": [],
   "source": [
    "sorted_audio_files = sorted(audio_files, key=lambda x: int(os.path.basename(x).split('_')[0]))"
   ]
  },
  {
   "cell_type": "code",
   "execution_count": 27,
   "id": "a019112e-00a9-49fb-a2ad-46a63d9920f9",
   "metadata": {},
   "outputs": [
    {
     "data": {
      "application/vnd.jupyter.widget-view+json": {
       "model_id": "0691ce747b5c430994bf78d19bcc3773",
       "version_major": 2,
       "version_minor": 0
      },
      "text/plain": [
       "  0%|          | 0/10 [00:00<?, ?it/s]"
      ]
     },
     "metadata": {},
     "output_type": "display_data"
    }
   ],
   "source": [
    "transcriptions = []\n",
    "results_audio = []\n",
    "for audio_file in tqdm_notebook(sorted_audio_files[:10]):\n",
    "    # Транскрибация аудио\n",
    "    result = model.transcribe(audio_file, language='ru')\n",
    "    results_audio.append(result)\n",
    "    transcriptions.append(result[\"text\"])"
   ]
  },
  {
   "cell_type": "code",
   "execution_count": 29,
   "id": "76a4114f-60a8-462c-963c-882574ffea3f",
   "metadata": {},
   "outputs": [
    {
     "name": "stdout",
     "output_type": "stream",
     "text": [
      "0\n",
      "link:https://cdn-st.rutubelist.ru/media/b0/e9/ef285e0241139fc611318ed33071/fhd.mp4\n",
      "description:#нарезкистримов , #dota2 , #cs2 , #fifa23 , #minecraft , #майнкрафт , #геншин , #genshin\n",
      "transcription: Субтитры мы SimilarlyStory\n",
      "--------------------\n",
      "1\n",
      "link:https://cdn-st.rutubelist.ru/media/39/6c/b31bc6864bef9d8a96814f1822ca/fhd.mp4\n",
      "description:🤫НЕ ВВОДИ ЭТУ КОМАНДУ В РОБЛОКС ! #shorts #roblox #роблокс\n",
      "transcription: Сейчас я тебе покажу секретную команду в Roblox'е! Чтобы её активировать поставь лайк и подпишись, а также в виде в чат команду I love you! Когда вы её ведёте у вас на экране появится вот такой клоун! Скривц был создан одним из создателей Roblox'а и работает только в эракде есть Roblox Developer Service. Чтобы в Раскриме ранжа всего-то выйти из игры, но лучше не проверяй!\n",
      "--------------------\n",
      "2\n",
      "link:https://cdn-st.rutubelist.ru/media/e9/e0/b47a9df14a5e97942715e5e705c0/fhd.mp4\n",
      "description:#boobs , #красивыедевушки , #ass\n",
      "transcription: Смотрите такие игрики в один раз.\n",
      "--------------------\n",
      "3\n",
      "link:https://cdn-st.rutubelist.ru/media/87/43/b11df3f344d0af773aac81e410ee/fhd.mp4\n",
      "description:nan\n",
      "transcription: что он о тебе думает прямо сейчас слушай думает, что ты знаешь, для него не посильная ноша как будто бы да, королева мечей чувствует то, что ты по характеру гораздо сильнее и то, что ему с тобой будет очень сложно но при этом есть желание и желание не совсем приличное проявляется боится и, честно говоря, сам проявляться не будет я бы на твоем месте вообще подумала нужен ли тебе такой партнер который слабее тебя но вывода делай сама\n",
      "--------------------\n",
      "4\n",
      "link:https://cdn-st.rutubelist.ru/media/d1/e7/642dc2194fcdb69664f832d5f2dd/fhd.mp4\n",
      "description:nan\n",
      "transcription: Я убежден, что чем беднее человек, тем сложнее его удовлетворить, потому что тот человек, у которого нет денег, он всегда недоволен чем-то, он всегда просит больше. Тот человек, который в принципе удовлетворен своими деньгами, он говорит «Классно! Это здорово! Спасибо! И идет и делает!»\n",
      "--------------------\n",
      "5\n",
      "link:https://cdn-st.rutubelist.ru/media/e2/97/f9164f8a41479f961d64842154a7/fhd.mp4\n",
      "description:nan\n",
      "transcription: ПОЗИТИВНАЯ МУЗЫКА Вау! ПОЗИТИВНАЯ МУЗЫКА Вау! ПОЗИТИВНАЯ МУЗЫКА\n",
      "--------------------\n",
      "6\n",
      "link:https://cdn-st.rutubelist.ru/media/0f/48/8a1ff7324073947a31e80f71d001/fhd.mp4\n",
      "description:#diy #постановка #юмор #комедия\n",
      "transcription: Ситуации, которые бесят каждого! Когда списываешь у соседа по партии, вдруг он переворачивает страницу! Можешь назад перелестуть, пожалуйста? Нет, я пишу! Когда твой лучший друг сотый раз приходит к себе в гости и не можешь запомнить, какая у тебя квартира! А какой номер квартиры у тебя? Когда ты запомнишь, ваза 9-я! И самое обесячное, когда к тебе приходит гости и спрашивают! А у вас есть туалет? Нет, нет! Вы знаете, во прям оттут писали. Попробуйте удобно, кстати.\n",
      "--------------------\n",
      "7\n",
      "link:https://cdn-st.rutubelist.ru/media/19/9c/98de3b4a4d9e83cb5dda828f899e/fhd.mp4\n",
      "description:nan\n",
      "transcription: н tricky\n",
      "--------------------\n",
      "8\n",
      "link:https://cdn-st.rutubelist.ru/media/bf/ee/85fb6b80491db79e8baebe5c9d80/fhd.mp4\n",
      "description:#образ #lookbook #показ #неделямоды #капсула #ошибкивстиле #селебрити #интервью #перевоплощения #обувь #кроссовки\n",
      "transcription: Как работает шампунь для кроссовок? Проверять будем на левом кроссовке моих суперкортов повидавших жизнь. Прикол этой штучки в том, что внутри уже содержится раствор и все что нужно сделать это надавить губкой на кросс. А губка не портит ваша кроссовка, ее предстоим, что ее можно отдельно мыть. Также сам шампунь очень удобно брать в себе город и время от времени чистить кроссы.\n",
      "--------------------\n",
      "9\n",
      "link:https://cdn-st.rutubelist.ru/media/fc/73/d86600d04e519178a55774dfe65e/fhd.mp4\n",
      "description:#путешествия #journey #туризм\n",
      "transcription: Попад poured Попад вам For remembering For콘 For sim The present In the video Ser transactions Berber For Christian\n",
      "--------------------\n"
     ]
    }
   ],
   "source": [
    "for index in range(len(sorted_audio_files[:10])):\n",
    "    row = df.iloc[index]\n",
    "    print(index)\n",
    "    print(f'link:{row.link}')\n",
    "    print(f'description:{row.description}')\n",
    "    print(f'transcription:{transcriptions[index]}')\n",
    "    print(20*'-')"
   ]
  },
  {
   "cell_type": "markdown",
   "id": "739856b0-4976-4e5a-9cb6-9385a555af74",
   "metadata": {},
   "source": [
    "# Идеи полей\n",
    "\n",
    "- синонимы для хэштего: можно взять совстречаемость тегов и попробовать распарсить какой-нибудь словарь синонимов\n",
    "- Классификация языка аудио, чтобы потом asr нужного языка применять\n",
    "- (+) транскрибация аудио в текст (audio to text) - вишпер\n",
    "- транскрибация изображения, если есть текст (image to text)\n",
    "- (+) хэштеги по тексту - text classification, text summarization, chatgpt\n",
    "- хэштеги по фото (по первому, среднему и последнему) - image classification\n",
    "- (+) шазам, если есть известная песня, выводим в хэштег ее название - shazamio\n",
    "- распознавание известных личностей по фото (милохин, мелстрой и тд)"
   ]
  },
  {
   "cell_type": "markdown",
   "id": "9d0de289-e7a1-4533-af90-a2c3bbd5b7b7",
   "metadata": {
    "jp-MarkdownHeadingCollapsed": true
   },
   "source": [
    "#### shazamio"
   ]
  },
  {
   "cell_type": "code",
   "execution_count": 30,
   "id": "922b0b8e-aab1-400b-bf80-558b3fd6d4a5",
   "metadata": {},
   "outputs": [
    {
     "name": "stdout",
     "output_type": "stream",
     "text": [
      "Collecting shazamio\n",
      "  Downloading shazamio-0.6.0-py3-none-any.whl.metadata (11 kB)\n",
      "Collecting aiofiles==23.2.1 (from shazamio)\n",
      "  Downloading aiofiles-23.2.1-py3-none-any.whl.metadata (9.7 kB)\n",
      "Requirement already satisfied: aiohttp<4.0.0,>=3.8.3 in /opt/anaconda3/lib/python3.11/site-packages (from shazamio) (3.9.3)\n",
      "Collecting aiohttp-retry<3.0.0,>=2.8.3 (from shazamio)\n",
      "  Downloading aiohttp_retry-2.8.3-py3-none-any.whl.metadata (8.9 kB)\n",
      "Collecting anyio==4.3.0 (from shazamio)\n",
      "  Using cached anyio-4.3.0-py3-none-any.whl.metadata (4.6 kB)\n",
      "Collecting dataclass-factory==2.16 (from shazamio)\n",
      "  Downloading dataclass_factory-2.16-py3-none-any.whl.metadata (2.8 kB)\n",
      "Requirement already satisfied: numpy<2.0.0,>=1.24.0 in /opt/anaconda3/lib/python3.11/site-packages (from shazamio) (1.26.4)\n",
      "Requirement already satisfied: pydantic<2.0.0,>=1.10.2 in /opt/anaconda3/lib/python3.11/site-packages (from shazamio) (1.10.12)\n",
      "Collecting pydub<0.26.0,>=0.25.1 (from shazamio)\n",
      "  Downloading pydub-0.25.1-py2.py3-none-any.whl.metadata (1.4 kB)\n",
      "Collecting shazamio-core<2.0.0,>=1.0.7 (from shazamio)\n",
      "  Downloading shazamio_core-1.0.7-cp311-cp311-macosx_11_0_arm64.whl.metadata (369 bytes)\n",
      "Requirement already satisfied: idna>=2.8 in /opt/anaconda3/lib/python3.11/site-packages (from anyio==4.3.0->shazamio) (3.4)\n",
      "Requirement already satisfied: sniffio>=1.1 in /opt/anaconda3/lib/python3.11/site-packages (from anyio==4.3.0->shazamio) (1.3.0)\n",
      "Requirement already satisfied: aiosignal>=1.1.2 in /opt/anaconda3/lib/python3.11/site-packages (from aiohttp<4.0.0,>=3.8.3->shazamio) (1.2.0)\n",
      "Requirement already satisfied: attrs>=17.3.0 in /opt/anaconda3/lib/python3.11/site-packages (from aiohttp<4.0.0,>=3.8.3->shazamio) (23.1.0)\n",
      "Requirement already satisfied: frozenlist>=1.1.1 in /opt/anaconda3/lib/python3.11/site-packages (from aiohttp<4.0.0,>=3.8.3->shazamio) (1.4.0)\n",
      "Requirement already satisfied: multidict<7.0,>=4.5 in /opt/anaconda3/lib/python3.11/site-packages (from aiohttp<4.0.0,>=3.8.3->shazamio) (6.0.4)\n",
      "Requirement already satisfied: yarl<2.0,>=1.0 in /opt/anaconda3/lib/python3.11/site-packages (from aiohttp<4.0.0,>=3.8.3->shazamio) (1.9.3)\n",
      "Requirement already satisfied: typing-extensions>=4.2.0 in /opt/anaconda3/lib/python3.11/site-packages (from pydantic<2.0.0,>=1.10.2->shazamio) (4.9.0)\n",
      "Downloading shazamio-0.6.0-py3-none-any.whl (39 kB)\n",
      "Downloading aiofiles-23.2.1-py3-none-any.whl (15 kB)\n",
      "Using cached anyio-4.3.0-py3-none-any.whl (85 kB)\n",
      "Downloading dataclass_factory-2.16-py3-none-any.whl (29 kB)\n",
      "Downloading aiohttp_retry-2.8.3-py3-none-any.whl (9.8 kB)\n",
      "Downloading pydub-0.25.1-py2.py3-none-any.whl (32 kB)\n",
      "Downloading shazamio_core-1.0.7-cp311-cp311-macosx_11_0_arm64.whl (904 kB)\n",
      "\u001b[2K   \u001b[90m━━━━━━━━━━━━━━━━━━━━━━━━━━━━━━━━━━━━━━━━\u001b[0m \u001b[32m904.6/904.6 kB\u001b[0m \u001b[31m1.9 MB/s\u001b[0m eta \u001b[36m0:00:00\u001b[0m00:01\u001b[0m00:01\u001b[0m\n",
      "\u001b[?25hInstalling collected packages: pydub, shazamio-core, dataclass-factory, anyio, aiofiles, aiohttp-retry, shazamio\n",
      "  Attempting uninstall: anyio\n",
      "    Found existing installation: anyio 4.2.0\n",
      "    Uninstalling anyio-4.2.0:\n",
      "      Successfully uninstalled anyio-4.2.0\n",
      "Successfully installed aiofiles-23.2.1 aiohttp-retry-2.8.3 anyio-4.3.0 dataclass-factory-2.16 pydub-0.25.1 shazamio-0.6.0 shazamio-core-1.0.7\n"
     ]
    }
   ],
   "source": [
    "!pip install shazamio"
   ]
  },
  {
   "cell_type": "code",
   "execution_count": 37,
   "id": "96ac19e9-b2f1-4907-a6df-5cde184a2806",
   "metadata": {},
   "outputs": [],
   "source": [
    "import asyncio\n",
    "from shazamio import Shazam\n",
    "import nest_asyncio\n",
    "# Разрешаем повторный запуск цикла событий в Jupyter Notebook\n",
    "nest_asyncio.apply()\n",
    "\n",
    "async def recognize_audio(file_path):\n",
    "    shazam = Shazam()\n",
    "    out = await shazam.recognize_song(file_path)\n",
    "    return out"
   ]
  },
  {
   "cell_type": "code",
   "execution_count": 42,
   "id": "c03564fd-4fb1-4480-ac6e-31088153753f",
   "metadata": {},
   "outputs": [
    {
     "data": {
      "text/plain": [
       "'audio_files/7_19_9c_98de3b4a4d9e83cb5dda828f899e_fhd.mp3'"
      ]
     },
     "execution_count": 42,
     "metadata": {},
     "output_type": "execute_result"
    }
   ],
   "source": [
    "file_path = sorted_audio_files[7]\n",
    "file_path"
   ]
  },
  {
   "cell_type": "code",
   "execution_count": 43,
   "id": "d3547dca-c79e-4cae-96df-c3e71890923f",
   "metadata": {},
   "outputs": [
    {
     "name": "stdout",
     "output_type": "stream",
     "text": [
      "Title: What Was I Made For? (From The Motion Picture \"Barbie\")\n",
      "Subtitle: Billie Eilish\n",
      "URL: https://www.shazam.com/track/667426645/what-was-i-made-for-from-the-motion-picture-barbie\n"
     ]
    }
   ],
   "source": [
    "loop = asyncio.get_event_loop()\n",
    "result = loop.run_until_complete(recognize_audio(file_path))\n",
    "\n",
    "# Вывод информации о песне\n",
    "if result and 'track' in result:\n",
    "    track = result['track']\n",
    "    print(f\"Title: {track['title']}\")\n",
    "    print(f\"Subtitle: {track['subtitle']}\")\n",
    "    print(f\"URL: {track['url']}\")\n",
    "else:\n",
    "    print(\"Song not recognized\")"
   ]
  },
  {
   "cell_type": "code",
   "execution_count": null,
   "id": "8b5c7026-65c3-4385-ae3c-61ac13ce27ed",
   "metadata": {},
   "outputs": [],
   "source": []
  }
 ],
 "metadata": {
  "kernelspec": {
   "display_name": "Python 3 (ipykernel)",
   "language": "python",
   "name": "python3"
  },
  "language_info": {
   "codemirror_mode": {
    "name": "ipython",
    "version": 3
   },
   "file_extension": ".py",
   "mimetype": "text/x-python",
   "name": "python",
   "nbconvert_exporter": "python",
   "pygments_lexer": "ipython3",
   "version": "3.11.7"
  }
 },
 "nbformat": 4,
 "nbformat_minor": 5
}
